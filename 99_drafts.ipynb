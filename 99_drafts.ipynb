{
  "nbformat": 4,
  "nbformat_minor": 0,
  "metadata": {
    "colab": {
      "name": "99_drafts.ipynb",
      "provenance": [],
      "authorship_tag": "ABX9TyNiZZCBuI97MVNsbUgGUhBi",
      "include_colab_link": true
    },
    "kernelspec": {
      "name": "python3",
      "display_name": "Python 3"
    }
  },
  "cells": [
    {
      "cell_type": "markdown",
      "metadata": {
        "id": "view-in-github",
        "colab_type": "text"
      },
      "source": [
        "<a href=\"https://colab.research.google.com/github/nyculescu/kaggle__competitive_data_science_predict_future_sales/blob/master/99_drafts.ipynb\" target=\"_parent\"><img src=\"https://colab.research.google.com/assets/colab-badge.svg\" alt=\"Open In Colab\"/></a>"
      ]
    },
    {
      "cell_type": "markdown",
      "metadata": {
        "id": "3M8feIr0gzmk",
        "colab_type": "text"
      },
      "source": [
        "# Hands-on ml stuff"
      ]
    },
    {
      "cell_type": "code",
      "metadata": {
        "id": "sEJuvkAzgQsi",
        "colab_type": "code",
        "colab": {}
      },
      "source": [
        "housing = load_housing_data() # load housing.csv"
      ],
      "execution_count": 0,
      "outputs": []
    },
    {
      "cell_type": "markdown",
      "metadata": {
        "id": "LIhjwkIuhbFo",
        "colab_type": "text"
      },
      "source": [
        "housing.head()\n",
        "\n",
        "| _idx | longitude | latitude | housing_median_age | total_rooms | total_bedrooms | population | households | median_income | median_house_value | ocean_proximity |\n",
        "|-----|-----------|----------|--------------------|-------------|----------------|------------|------------|---------------|--------------------|-----------------|\n",
        "| 0   | -122.23   | 37.88    | 41.0               | 880.0       | 129.0          | 322.0      | 126.0      | 8.3252        | 452600.0           | NEAR BAY    "
      ]
    },
    {
      "cell_type": "code",
      "metadata": {
        "id": "KH5zqPxNiIVy",
        "colab_type": "code",
        "colab": {}
      },
      "source": [
        "housing[\"income_cat\"] = pd.cut(housing[\"median_income\"],\n",
        "                               bins=[0., 1.5, 3.0, 4.5, 6., np.inf],\n",
        "                               labels=[1, 2, 3, 4, 5])\n",
        "\n",
        "### housing[\"income_cat\"] "
      ],
      "execution_count": 0,
      "outputs": []
    },
    {
      "cell_type": "code",
      "metadata": {
        "id": "tgmscrfekC5f",
        "colab_type": "code",
        "colab": {}
      },
      "source": [
        "split = StratifiedShuffleSplit(n_splits=1, test_size=0.2, random_state=42)\n",
        "for train_index, test_index in split.split(housing, housing[\"income_cat\"]):\n",
        "    strat_train_set = housing.loc[train_index] # base for housing dataframe\n",
        "    strat_test_set = housing.loc[test_index]"
      ],
      "execution_count": 0,
      "outputs": []
    },
    {
      "cell_type": "code",
      "metadata": {
        "id": "Np6hGpa7l6N5",
        "colab_type": "code",
        "colab": {}
      },
      "source": [
        "housing = strat_train_set.drop(\"median_house_value\", axis=1) # drop labels for training set\n",
        "housing_labels = strat_train_set[\"median_house_value\"].copy()"
      ],
      "execution_count": 0,
      "outputs": []
    },
    {
      "cell_type": "code",
      "metadata": {
        "id": "wubPH4J1uhBC",
        "colab_type": "code",
        "colab": {}
      },
      "source": [
        "housing_prepared = full_pipeline.fit_transform(housing)"
      ],
      "execution_count": 0,
      "outputs": []
    },
    {
      "cell_type": "markdown",
      "metadata": {
        "id": "WNDOjeqfrk3j",
        "colab_type": "text"
      },
      "source": [
        "---\n",
        "\n",
        "before Select and train a model\n",
        "\n",
        "<details>\n",
        "<summary>Heading</summary>\n",
        "\n",
        "+ markdown list 1\n",
        "    + nested list 1\n",
        "    + nested list 2\n",
        "+ markdown list 2\n",
        "\n",
        "</details>"
      ]
    },
    {
      "cell_type": "markdown",
      "metadata": {
        "id": "x0xljjrPqJZh",
        "colab_type": "text"
      },
      "source": [
        "housing.head()\n",
        "\n",
        "| _idx | longitude | latitude | housing_median_age | total_rooms | total_bedrooms | population | households | median_income | ocean_proximity |   |   |   |\n",
        "|------|-----------|----------|--------------------|-------------|----------------|------------|------------|---------------|-----------------|---|---|---|\n"
      ]
    },
    {
      "cell_type": "code",
      "metadata": {
        "id": "-auDq_8BmC3N",
        "colab_type": "code",
        "colab": {}
      },
      "source": [
        "housing_num = housing.drop(\"ocean_proximity\", axis=1)"
      ],
      "execution_count": 0,
      "outputs": []
    },
    {
      "cell_type": "markdown",
      "metadata": {
        "id": "4W9srpFwrKVy",
        "colab_type": "text"
      },
      "source": [
        "housing_tr.head()\n",
        "\n",
        "| _idx | longitude | latitude | housing_median_age | total_rooms | total_bedrooms | population | households | median_income |   |   |   |   |\n",
        "|------|-----------|----------|--------------------|-------------|----------------|------------|------------|---------------|---|---|---|---|"
      ]
    },
    {
      "cell_type": "markdown",
      "metadata": {
        "id": "Re0-tLqArd6b",
        "colab_type": "text"
      },
      "source": [
        "housing_cat.head()\n",
        "\n",
        "| _idx | ocean_proximity |   |   |   |   |   |   |   |   |   |   |   |\n",
        "|------|-----------------|---|---|---|---|---|---|---|---|---|---|---|"
      ]
    },
    {
      "cell_type": "markdown",
      "metadata": {
        "id": "Q-pOHvZ8sGuV",
        "colab_type": "text"
      },
      "source": [
        "housing_extra_attribs.head()\n",
        "\n",
        "| _idx | longitude | latitude | housing_median_age | total_rooms | total_bedrooms | population | households | median_income | ocean_proximity | rooms_per_household | population_per_household |   |\n",
        "|------|-----------|----------|--------------------|-------------|----------------|------------|------------|---------------|-----------------|---------------------|--------------------------|---|"
      ]
    },
    {
      "cell_type": "markdown",
      "metadata": {
        "id": "oKaaXhkIsFNE",
        "colab_type": "text"
      },
      "source": [
        "---"
      ]
    }
  ]
}