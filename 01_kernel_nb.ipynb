{
  "nbformat": 4,
  "nbformat_minor": 0,
  "metadata": {
    "language_info": {
      "name": "python",
      "codemirror_mode": {
        "name": "ipython",
        "version": 3
      },
      "version": "3.7.0-final"
    },
    "orig_nbformat": 2,
    "file_extension": ".py",
    "mimetype": "text/x-python",
    "name": "python",
    "npconvert_exporter": "python",
    "pygments_lexer": "ipython3",
    "version": 3,
    "kernelspec": {
      "name": "python37064bitmlenvvirtualenv89d51da7758947d6bdf3bbc1d7425a20",
      "display_name": "Python 3.7.0 64-bit ('ml_env': virtualenv)"
    },
    "colab": {
      "name": "01_kernel_nb.ipynb",
      "provenance": [],
      "include_colab_link": true
    }
  },
  "cells": [
    {
      "cell_type": "markdown",
      "metadata": {
        "id": "view-in-github",
        "colab_type": "text"
      },
      "source": [
        "<a href=\"https://colab.research.google.com/github/nyculescu/kaggle__competitive_data_science_predict_future_sales/blob/master/01_kernel_nb.ipynb\" target=\"_parent\"><img src=\"https://colab.research.google.com/assets/colab-badge.svg\" alt=\"Open In Colab\"/></a>"
      ]
    },
    {
      "cell_type": "code",
      "metadata": {
        "id": "Y67uLRbtIvrj",
        "colab_type": "code",
        "colab": {}
      },
      "source": [
        "# This Python 3 environment comes with many helpful analytics libraries installed\n",
        "# It is defined by the kaggle/python docker image: https://github.com/kaggle/docker-python\n",
        "# For example, here's several helpful packages to load in \n",
        "\n",
        "import numpy as np # linear algebra\n",
        "import pandas as pd # data processing, CSV file I/O (e.g. pd.read_csv)\n",
        "\n",
        "# Input data files are available in the \"../input/\" directory.\n",
        "# For example, running this (by clicking run or pressing Shift+Enter) will list all files under the input directory\n",
        "\n",
        "import os\n",
        "for dirname, _, filenames in os.walk('input'):\n",
        "    for filename in filenames:\n",
        "        print(os.path.join(dirname, filename))\n",
        "\n",
        "# Any results you write to the current directory are saved as output."
      ],
      "execution_count": 0,
      "outputs": []
    },
    {
      "cell_type": "markdown",
      "metadata": {
        "id": "a8f6uTEsNEu-",
        "colab_type": "text"
      },
      "source": [
        ""
      ]
    },
    {
      "cell_type": "markdown",
      "metadata": {
        "id": "oUfflf4mIvtE",
        "colab_type": "text"
      },
      "source": [
        "## Input files\n",
        "\n",
        "* shops.csv- supplemental information about the shops -- `61 entries`\n",
        "    * shop_name (e.g., \"СПб ТК \"\"Сенная\"\"\")\n",
        "    * shop_id (e.g., 43)\n",
        "\n",
        "* item_categories.csv  - supplemental information about the items categories -- `85 entries`\n",
        "    * item_category_name (e.g., Кино - DVD)\n",
        "    * item_category_id (e.g., 40)\n",
        "\n",
        "* items.csv - supplemental information about the items/products -- `22.171 entries`\n",
        "    * item_name (e.g., 1812: 4 СЕРИИ (регион))\n",
        "    * item_id (e.g., 97)\n",
        "    * item_category_id (e.g., 40)\n",
        "\n",
        "* sales_train.csv - the training set. Daily historical data from January 2013 to October 2015 -- `2.935.850 entries | 587.170 entries should be allotted to the training set`\n",
        "    * <strike>date (e.g., 23.02.2013)</strike> *I don't see the reason of using this in ML training because we already have date_block_num as an attribute*\n",
        "    * date_block_num (e.g., 1)\n",
        "    * shop_id (e.g., 43) - `shop_id and item_id shall be concatenated to ID`\n",
        "    * item_id (e.g., 97) - `shop_id and item_id shall be concatenated to ID`\n",
        "    * item_price (e.g., 149.0)\n",
        "    * item_cnt_day (e.g., 1.0)\n",
        "\n",
        "* sample_submission.csv - a sample submission file in the correct format -- `214.201 entries`\n",
        "    * ID (e.g., 0)\n",
        "    * item_cnt_month (e.g., 0.5)\n",
        "\n",
        "* test.csv - the test set. You need to forecast the sales for these shops and products for November 2015 -- `214.201 entries`\n",
        "    * ID (e.g., 0)\n",
        "    * shop_id (e.g., 43)\n",
        "    * item_id (e.g., 97)\n",
        "\n",
        "## Data fields\n",
        "* ID - an Id that represents a (Shop, Item) tuple within the test set\n",
        "* shop_id - unique identifier of a shop\n",
        "* item_id - unique identifier of a product\n",
        "* item_category_id - unique identifier of item category\n",
        "* item_cnt_day - number of products sold. You are predicting a monthly amount of this measure\n",
        "* item_price - current price of an item\n",
        "* date - date in format dd/mm/yyyy\n",
        "* date_block_num - a consecutive month number, used for convenience. January 2013 is 0, February 2013 is 1,..., October 2015 is 33\n",
        "* item_name - name of item\n",
        "* shop_name - name of shop\n",
        "* item_category_name - name of item category\n"
      ]
    },
    {
      "cell_type": "markdown",
      "metadata": {
        "id": "NJHeoguFIvrp",
        "colab_type": "text"
      },
      "source": [
        "# Frame the problem and look at the big picture"
      ]
    },
    {
      "cell_type": "markdown",
      "metadata": {
        "id": "ZEaot8MFIvrr",
        "colab_type": "text"
      },
      "source": [
        "## The objective: what needs to be done?\n",
        "The task is to forecast the total amount of products sold in every shop for the test set.\n",
        "\n",
        "! Note that the list of shops and products slightly changes every month.\n",
        "\n",
        "## Frame this problem\n",
        "* typical supervised learning task - we have the labeled training examples\n",
        "* typical regression task - we're asked to predict a value\n",
        "    * multiple regression problem (value prediction) - the system will use multiple features to make a prediction\n",
        "    * also univariate regression problem - we're only trying to predict a single value (*total amount of products sold*) in every *shop*\n",
        "* plain batch learning - we don't have a continuous flow of data coming to the system - the data doesn't need to be adjusted rapidly, and the data is small enoug to fit in memory (`is it so?`)\n"
      ]
    },
    {
      "cell_type": "code",
      "metadata": {
        "id": "_XmvJE_qIvrs",
        "colab_type": "code",
        "colab": {}
      },
      "source": [
        "### run ###\n",
        "\n",
        "import os\n",
        "import csv\n",
        "import numpy as np\n",
        "import pandas as pd\n",
        "import matplotlib.pyplot as plt\n",
        "from pandas.plotting import scatter_matrix\n",
        "import sklearn.linear_model"
      ],
      "execution_count": 0,
      "outputs": []
    },
    {
      "cell_type": "code",
      "metadata": {
        "id": "UZiUVhz3LXcN",
        "colab_type": "code",
        "colab": {
          "base_uri": "https://localhost:8080/",
          "height": 34
        },
        "outputId": "05a14688-2043-41b3-e990-1a1779654dfe"
      },
      "source": [
        "### run in Colab ###\n",
        "\n",
        "from google.colab import drive\n",
        "drive.mount('/content/drive')\n",
        "\n",
        "sales_train = pd.read_csv('drive/My Drive/Colab Notebooks/datasets/sales_train.csv')"
      ],
      "execution_count": 6,
      "outputs": [
        {
          "output_type": "stream",
          "text": [
            "Drive already mounted at /content/drive; to attempt to forcibly remount, call drive.mount(\"/content/drive\", force_remount=True).\n"
          ],
          "name": "stdout"
        }
      ]
    },
    {
      "cell_type": "code",
      "metadata": {
        "id": "Y2XlRv69Nhnk",
        "colab_type": "code",
        "colab": {}
      },
      "source": [
        "### run in VS Code ###\n",
        "\n",
        "sales_train = pd.read_csv(os.path.abspath(os.path.join('input', 'sales_train.csv')))"
      ],
      "execution_count": 0,
      "outputs": []
    },
    {
      "cell_type": "code",
      "metadata": {
        "id": "twQC--qrIvrv",
        "colab_type": "code",
        "colab": {}
      },
      "source": [
        "sales_train.head()\n",
        "sales_train.head(-5)"
      ],
      "execution_count": 0,
      "outputs": []
    },
    {
      "cell_type": "code",
      "metadata": {
        "id": "ruMNgnnmIvrz",
        "colab_type": "code",
        "colab": {}
      },
      "source": [
        "sales_train.info()"
      ],
      "execution_count": 0,
      "outputs": []
    },
    {
      "cell_type": "code",
      "metadata": {
        "id": "TUcc5ShcIvr1",
        "colab_type": "code",
        "colab": {}
      },
      "source": [
        "# see the amount of memory used (in bytes) for each column. \n",
        "# It’s useful when building machine learning models which may require a lot memory in training.\n",
        "sales_train.memory_usage(deep=True)"
      ],
      "execution_count": 0,
      "outputs": []
    },
    {
      "cell_type": "markdown",
      "metadata": {
        "id": "_EVd6BmWIvr4",
        "colab_type": "text"
      },
      "source": [
        "We can find out what categories exist and how many districts belong to each category by using the value_counts() method, but we know them already (form the description)"
      ]
    },
    {
      "cell_type": "code",
      "metadata": {
        "id": "SJvJD5xOIvr5",
        "colab_type": "code",
        "colab": {}
      },
      "source": [
        "## Var 1\n",
        "# For numeric data, the result’s index will include count, mean, std, min, max as well as lower, 50 and upper percentiles.\n",
        "# For object data (e.g. strings or timestamps), the result’s index will include count, unique, top, and freq. The top is the most common value. The freq is the most common value’s frequency. Timestamps also include the first and last items.\n",
        "\n",
        "sales_train.describe(include='all')"
      ],
      "execution_count": 0,
      "outputs": []
    },
    {
      "cell_type": "code",
      "metadata": {
        "id": "HlJnCYQIIvr8",
        "colab_type": "code",
        "colab": {}
      },
      "source": [
        "### run ###\n",
        "\n",
        "# the \"date\" field doesn't look to be relevant, so drop it\n",
        "sales_train.drop(\"date\", axis=1, inplace=True)"
      ],
      "execution_count": 0,
      "outputs": []
    },
    {
      "cell_type": "code",
      "metadata": {
        "id": "SrHI7z5sIvsC",
        "colab_type": "code",
        "colab": {}
      },
      "source": [
        "### run ###\n",
        "\n",
        "## Var 2 - print the entire number in Python from describe() function, but only for the numeric data\n",
        "\n",
        "def describe_entire_nrs(datafr):\n",
        "    desc = datafr.describe() # include='all' will not work\n",
        "    desc.loc['count'] = desc.loc['count'].astype(int).astype(str)\n",
        "    desc.iloc[1:] = desc.iloc[1:].applymap('{:.2f}'.format)\n",
        "    return desc"
      ],
      "execution_count": 0,
      "outputs": []
    },
    {
      "cell_type": "code",
      "metadata": {
        "id": "ehYz5aBXIvsF",
        "colab_type": "code",
        "colab": {
          "base_uri": "https://localhost:8080/",
          "height": 297
        },
        "outputId": "aab6a4ca-b27f-41cd-9475-2a6bdfadc6bd"
      },
      "source": [
        "describe_entire_nrs(sales_train)"
      ],
      "execution_count": 10,
      "outputs": [
        {
          "output_type": "execute_result",
          "data": {
            "text/html": [
              "<div>\n",
              "<style scoped>\n",
              "    .dataframe tbody tr th:only-of-type {\n",
              "        vertical-align: middle;\n",
              "    }\n",
              "\n",
              "    .dataframe tbody tr th {\n",
              "        vertical-align: top;\n",
              "    }\n",
              "\n",
              "    .dataframe thead th {\n",
              "        text-align: right;\n",
              "    }\n",
              "</style>\n",
              "<table border=\"1\" class=\"dataframe\">\n",
              "  <thead>\n",
              "    <tr style=\"text-align: right;\">\n",
              "      <th></th>\n",
              "      <th>date_block_num</th>\n",
              "      <th>shop_id</th>\n",
              "      <th>item_id</th>\n",
              "      <th>item_price</th>\n",
              "      <th>item_cnt_day</th>\n",
              "    </tr>\n",
              "  </thead>\n",
              "  <tbody>\n",
              "    <tr>\n",
              "      <th>count</th>\n",
              "      <td>2935849</td>\n",
              "      <td>2935849</td>\n",
              "      <td>2935849</td>\n",
              "      <td>2935849</td>\n",
              "      <td>2935849</td>\n",
              "    </tr>\n",
              "    <tr>\n",
              "      <th>mean</th>\n",
              "      <td>14.57</td>\n",
              "      <td>33.00</td>\n",
              "      <td>10197.23</td>\n",
              "      <td>890.85</td>\n",
              "      <td>1.24</td>\n",
              "    </tr>\n",
              "    <tr>\n",
              "      <th>std</th>\n",
              "      <td>9.42</td>\n",
              "      <td>16.23</td>\n",
              "      <td>6324.30</td>\n",
              "      <td>1729.80</td>\n",
              "      <td>2.62</td>\n",
              "    </tr>\n",
              "    <tr>\n",
              "      <th>min</th>\n",
              "      <td>0.00</td>\n",
              "      <td>0.00</td>\n",
              "      <td>0.00</td>\n",
              "      <td>-1.00</td>\n",
              "      <td>-22.00</td>\n",
              "    </tr>\n",
              "    <tr>\n",
              "      <th>25%</th>\n",
              "      <td>7.00</td>\n",
              "      <td>22.00</td>\n",
              "      <td>4476.00</td>\n",
              "      <td>249.00</td>\n",
              "      <td>1.00</td>\n",
              "    </tr>\n",
              "    <tr>\n",
              "      <th>50%</th>\n",
              "      <td>14.00</td>\n",
              "      <td>31.00</td>\n",
              "      <td>9343.00</td>\n",
              "      <td>399.00</td>\n",
              "      <td>1.00</td>\n",
              "    </tr>\n",
              "    <tr>\n",
              "      <th>75%</th>\n",
              "      <td>23.00</td>\n",
              "      <td>47.00</td>\n",
              "      <td>15684.00</td>\n",
              "      <td>999.00</td>\n",
              "      <td>1.00</td>\n",
              "    </tr>\n",
              "    <tr>\n",
              "      <th>max</th>\n",
              "      <td>33.00</td>\n",
              "      <td>59.00</td>\n",
              "      <td>22169.00</td>\n",
              "      <td>307980.00</td>\n",
              "      <td>2169.00</td>\n",
              "    </tr>\n",
              "  </tbody>\n",
              "</table>\n",
              "</div>"
            ],
            "text/plain": [
              "      date_block_num  shop_id   item_id item_price item_cnt_day\n",
              "count        2935849  2935849   2935849    2935849      2935849\n",
              "mean           14.57    33.00  10197.23     890.85         1.24\n",
              "std             9.42    16.23   6324.30    1729.80         2.62\n",
              "min             0.00     0.00      0.00      -1.00       -22.00\n",
              "25%             7.00    22.00   4476.00     249.00         1.00\n",
              "50%            14.00    31.00   9343.00     399.00         1.00\n",
              "75%            23.00    47.00  15684.00     999.00         1.00\n",
              "max            33.00    59.00  22169.00  307980.00      2169.00"
            ]
          },
          "metadata": {
            "tags": []
          },
          "execution_count": 10
        }
      ]
    },
    {
      "cell_type": "markdown",
      "metadata": {
        "id": "4mlQF-HXIvsH",
        "colab_type": "text"
      },
      "source": [
        "There are values below 0 for item_cnt_day and item_price -- I don't see any reason, so I will not consider these values and delete the whole row which contains them."
      ]
    },
    {
      "cell_type": "code",
      "metadata": {
        "id": "gPiC8KxxIvsJ",
        "colab_type": "code",
        "colab": {
          "base_uri": "https://localhost:8080/",
          "height": 1000
        },
        "outputId": "25bc8014-8139-43a9-e3cd-50587e7fce5f"
      },
      "source": [
        "sales_train.hist(bins=50, figsize=(20,15))\n",
        "# plt.show()"
      ],
      "execution_count": 12,
      "outputs": [
        {
          "output_type": "execute_result",
          "data": {
            "text/plain": [
              "array([[<matplotlib.axes._subplots.AxesSubplot object at 0x7f13062d1518>,\n",
              "        <matplotlib.axes._subplots.AxesSubplot object at 0x7f13062a0630>],\n",
              "       [<matplotlib.axes._subplots.AxesSubplot object at 0x7f1306251be0>,\n",
              "        <matplotlib.axes._subplots.AxesSubplot object at 0x7f130620c1d0>],\n",
              "       [<matplotlib.axes._subplots.AxesSubplot object at 0x7f13061b7780>,\n",
              "        <matplotlib.axes._subplots.AxesSubplot object at 0x7f13061e5d30>]],\n",
              "      dtype=object)"
            ]
          },
          "metadata": {
            "tags": []
          },
          "execution_count": 12
        },
        {
          "output_type": "display_data",
          "data": {
            "image/png": "[encoded data removed]",
            "text/plain": [
              "<Figure size 1440x1080 with 6 Axes>"
            ]
          },
          "metadata": {
            "tags": []
          }
        }
      ]
    },
    {
      "cell_type": "code",
      "metadata": {
        "id": "y2iEwbX1IvsL",
        "colab_type": "code",
        "colab": {
          "base_uri": "https://localhost:8080/",
          "height": 180
        },
        "outputId": "c1fca390-74f0-40f7-9c49-bd1bae5bd5ae"
      },
      "source": [
        "# cleanup the rows which have the item_cnt_day and item_price with negative values\n",
        "sales_train = sales_train[~(sales_train['item_cnt_day'] < 0)]\n",
        "sales_train = sales_train[~(sales_train['item_price'] < 0)]"
      ],
      "execution_count": 4,
      "outputs": [
        {
          "output_type": "error",
          "ename": "NameError",
          "evalue": "ignored",
          "traceback": [
            "\u001b[0;31m---------------------------------------------------------------------------\u001b[0m",
            "\u001b[0;31mNameError\u001b[0m                                 Traceback (most recent call last)",
            "\u001b[0;32m<ipython-input-4-3e48dc3aa939>\u001b[0m in \u001b[0;36m<module>\u001b[0;34m()\u001b[0m\n\u001b[0;32m----> 1\u001b[0;31m \u001b[0msales_train\u001b[0m \u001b[0;34m=\u001b[0m \u001b[0msales_train\u001b[0m\u001b[0;34m[\u001b[0m\u001b[0;34m~\u001b[0m\u001b[0;34m(\u001b[0m\u001b[0msales_train\u001b[0m\u001b[0;34m[\u001b[0m\u001b[0;34m'item_cnt_day'\u001b[0m\u001b[0;34m]\u001b[0m \u001b[0;34m<\u001b[0m \u001b[0;36m0\u001b[0m\u001b[0;34m)\u001b[0m\u001b[0;34m]\u001b[0m\u001b[0;34m\u001b[0m\u001b[0;34m\u001b[0m\u001b[0m\n\u001b[0m\u001b[1;32m      2\u001b[0m \u001b[0msales_train\u001b[0m \u001b[0;34m=\u001b[0m \u001b[0msales_train\u001b[0m\u001b[0;34m[\u001b[0m\u001b[0;34m~\u001b[0m\u001b[0;34m(\u001b[0m\u001b[0msales_train\u001b[0m\u001b[0;34m[\u001b[0m\u001b[0;34m'item_price'\u001b[0m\u001b[0;34m]\u001b[0m \u001b[0;34m<\u001b[0m \u001b[0;36m0\u001b[0m\u001b[0;34m)\u001b[0m\u001b[0;34m]\u001b[0m\u001b[0;34m\u001b[0m\u001b[0;34m\u001b[0m\u001b[0m\n",
            "\u001b[0;31mNameError\u001b[0m: name 'sales_train' is not defined"
          ]
        }
      ]
    },
    {
      "cell_type": "markdown",
      "metadata": {
        "id": "WpXWmVMTIvsN",
        "colab_type": "text"
      },
      "source": [
        "observations on th plotted dataframe:\n",
        "* date_block_num, item_id, shop_id are capped -- Warning from hands-on book: The latter may be a serious problem since it is your target attribute (your labels). Your Machine Learning algorithms may learn that prices never go beyond that limit.\n",
        "    * date_block_num even capped, doesn't look to be a problem\n",
        "* These attributes have very different scales\n",
        "* item_cnt_day and item_price don't express anything\n"
      ]
    },
    {
      "cell_type": "markdown",
      "metadata": {
        "colab_type": "text",
        "id": "s9lgvnLcTAHq"
      },
      "source": [
        "## Looking for Correlations"
      ]
    },
    {
      "cell_type": "code",
      "metadata": {
        "id": "KBVP6gURTNIA",
        "colab_type": "code",
        "colab": {
          "base_uri": "https://localhost:8080/",
          "height": 297
        },
        "outputId": "94298076-efeb-4a8a-eb19-fb4ae9a355d5"
      },
      "source": [
        "sales_train.plot(kind=\"scatter\", x=\"date_block_num\", y=\"item_cnt_day\")"
      ],
      "execution_count": 9,
      "outputs": [
        {
          "output_type": "execute_result",
          "data": {
            "text/plain": [
              "<matplotlib.axes._subplots.AxesSubplot at 0x7f69c9e718d0>"
            ]
          },
          "metadata": {
            "tags": []
          },
          "execution_count": 9
        },
        {
          "output_type": "display_data",
          "data": {
            "image/png": "[encoded data removed]",
            "text/plain": [
              "<Figure size 432x288 with 1 Axes>"
            ]
          },
          "metadata": {
            "tags": []
          }
        }
      ]
    },
    {
      "cell_type": "code",
      "metadata": {
        "id": "qJZjB2Ar-1eX",
        "colab_type": "code",
        "colab": {
          "base_uri": "https://localhost:8080/",
          "height": 297
        },
        "outputId": "894a298f-1310-4796-cc33-bc52fb2371e0"
      },
      "source": [
        "sales_train_outl = sales_train[~(sales_train['item_cnt_day'] > 150)] # ignore the outliers\n",
        "sales_train_outl = sales_train_outl[~(sales_train_outl['item_cnt_day'] < -1)] # ignore the outliers\n",
        "sales_train_outl.plot(kind=\"scatter\", x=\"date_block_num\", y=\"item_cnt_day\")"
      ],
      "execution_count": 10,
      "outputs": [
        {
          "output_type": "execute_result",
          "data": {
            "text/plain": [
              "<matplotlib.axes._subplots.AxesSubplot at 0x7f69ba5d24e0>"
            ]
          },
          "metadata": {
            "tags": []
          },
          "execution_count": 10
        },
        {
          "output_type": "display_data",
          "data": {
            "image/png": "[encoded data removed]",
            "text/plain": [
              "<Figure size 432x288 with 1 Axes>"
            ]
          },
          "metadata": {
            "tags": []
          }
        }
      ]
    },
    {
      "cell_type": "code",
      "metadata": {
        "id": "tNXIBcCCFZFM",
        "colab_type": "code",
        "colab": {
          "base_uri": "https://localhost:8080/",
          "height": 34
        },
        "outputId": "5b88142b-0707-4f38-93a1-f275e888184a"
      },
      "source": [
        "cnt_i = [0] * (sales_train_outl[\"shop_id\"].max() + 1)\n",
        "for i in sales_train_outl[\"shop_id\"]:\n",
        "    cnt_i[i] += 1\n",
        "\n",
        "# for i in cnt_i:\n",
        "#     print(cnt_i.index(i) + 1, i)\n",
        "\n",
        "print(\"max value: \", np.where(cnt_i == np.amax(cnt_i))[0], np.amax(cnt_i)) # Find max value & its index"
      ],
      "execution_count": 40,
      "outputs": [
        {
          "output_type": "stream",
          "text": [
            "max value:  [31] 235182\n"
          ],
          "name": "stdout"
        }
      ]
    },
    {
      "cell_type": "code",
      "metadata": {
        "id": "qhGdZWdyMqpW",
        "colab_type": "code",
        "colab": {
          "base_uri": "https://localhost:8080/",
          "height": 297
        },
        "outputId": "b019fcf3-c0ce-442e-d7c4-b3287d71e642"
      },
      "source": [
        "describe_entire_nrs(sales_train_)"
      ],
      "execution_count": 33,
      "outputs": [
        {
          "output_type": "execute_result",
          "data": {
            "text/html": [
              "<div>\n",
              "<style scoped>\n",
              "    .dataframe tbody tr th:only-of-type {\n",
              "        vertical-align: middle;\n",
              "    }\n",
              "\n",
              "    .dataframe tbody tr th {\n",
              "        vertical-align: top;\n",
              "    }\n",
              "\n",
              "    .dataframe thead th {\n",
              "        text-align: right;\n",
              "    }\n",
              "</style>\n",
              "<table border=\"1\" class=\"dataframe\">\n",
              "  <thead>\n",
              "    <tr style=\"text-align: right;\">\n",
              "      <th></th>\n",
              "      <th>date_block_num</th>\n",
              "      <th>shop_id</th>\n",
              "      <th>item_id</th>\n",
              "      <th>item_price</th>\n",
              "      <th>item_cnt_day</th>\n",
              "    </tr>\n",
              "  </thead>\n",
              "  <tbody>\n",
              "    <tr>\n",
              "      <th>count</th>\n",
              "      <td>235182</td>\n",
              "      <td>235182</td>\n",
              "      <td>235182</td>\n",
              "      <td>235182</td>\n",
              "      <td>235182</td>\n",
              "    </tr>\n",
              "    <tr>\n",
              "      <th>mean</th>\n",
              "      <td>14.93</td>\n",
              "      <td>31.00</td>\n",
              "      <td>11095.57</td>\n",
              "      <td>724.18</td>\n",
              "      <td>1.32</td>\n",
              "    </tr>\n",
              "    <tr>\n",
              "      <th>std</th>\n",
              "      <td>9.54</td>\n",
              "      <td>0.00</td>\n",
              "      <td>6176.51</td>\n",
              "      <td>1382.63</td>\n",
              "      <td>2.06</td>\n",
              "    </tr>\n",
              "    <tr>\n",
              "      <th>min</th>\n",
              "      <td>0.00</td>\n",
              "      <td>31.00</td>\n",
              "      <td>26.00</td>\n",
              "      <td>0.10</td>\n",
              "      <td>1.00</td>\n",
              "    </tr>\n",
              "    <tr>\n",
              "      <th>25%</th>\n",
              "      <td>7.00</td>\n",
              "      <td>31.00</td>\n",
              "      <td>5613.00</td>\n",
              "      <td>199.00</td>\n",
              "      <td>1.00</td>\n",
              "    </tr>\n",
              "    <tr>\n",
              "      <th>50%</th>\n",
              "      <td>14.00</td>\n",
              "      <td>31.00</td>\n",
              "      <td>11292.00</td>\n",
              "      <td>369.00</td>\n",
              "      <td>1.00</td>\n",
              "    </tr>\n",
              "    <tr>\n",
              "      <th>75%</th>\n",
              "      <td>23.00</td>\n",
              "      <td>31.00</td>\n",
              "      <td>16205.00</td>\n",
              "      <td>789.00</td>\n",
              "      <td>1.00</td>\n",
              "    </tr>\n",
              "    <tr>\n",
              "      <th>max</th>\n",
              "      <td>33.00</td>\n",
              "      <td>31.00</td>\n",
              "      <td>22167.00</td>\n",
              "      <td>35991.00</td>\n",
              "      <td>133.00</td>\n",
              "    </tr>\n",
              "  </tbody>\n",
              "</table>\n",
              "</div>"
            ],
            "text/plain": [
              "      date_block_num shop_id   item_id item_price item_cnt_day\n",
              "count         235182  235182    235182     235182       235182\n",
              "mean           14.93   31.00  11095.57     724.18         1.32\n",
              "std             9.54    0.00   6176.51    1382.63         2.06\n",
              "min             0.00   31.00     26.00       0.10         1.00\n",
              "25%             7.00   31.00   5613.00     199.00         1.00\n",
              "50%            14.00   31.00  11292.00     369.00         1.00\n",
              "75%            23.00   31.00  16205.00     789.00         1.00\n",
              "max            33.00   31.00  22167.00   35991.00       133.00"
            ]
          },
          "metadata": {
            "tags": []
          },
          "execution_count": 33
        }
      ]
    },
    {
      "cell_type": "code",
      "metadata": {
        "id": "ImCKa6M3LKoR",
        "colab_type": "code",
        "colab": {}
      },
      "source": [
        "sales_train_outl = sales_train_outl[sales_train_outl[\"shop_id\"] == (32-1)] # drop te rows which doesn't have the shop_id equal to 31"
      ],
      "execution_count": 0,
      "outputs": []
    },
    {
      "cell_type": "code",
      "metadata": {
        "id": "eE7bZgVPhx9k",
        "colab_type": "code",
        "colab": {
          "base_uri": "https://localhost:8080/",
          "height": 297
        },
        "outputId": "12f39a1a-de97-45a6-ee78-97da71b9d3ad"
      },
      "source": [
        "lin1 = sklearn.linear_model.Ridge(alpha=0.01)\n",
        "\n",
        "Xsample1 = np.c_[sales_train_outl[\"date_block_num\"]]\n",
        "ysample1 = np.c_[sales_train_outl[\"item_cnt_day\"]]\n",
        "lin1.fit(Xsample1, ysample1)\n",
        "t0 = lin1.intercept_[0]\n",
        "t1 = lin1.coef_[0][0]\n",
        "\n",
        "sales_train_outl.plot(kind='scatter', x=\"date_block_num\", y='item_cnt_day')\n",
        "y = np.linspace(sales_train_outl[\"date_block_num\"].min(), sales_train_outl[\"date_block_num\"].max())\n",
        "plt.plot(y, t0 + t1*y, \"r+\")"
      ],
      "execution_count": 44,
      "outputs": [
        {
          "output_type": "execute_result",
          "data": {
            "text/plain": [
              "[<matplotlib.lines.Line2D at 0x7fca3ffb3dd8>]"
            ]
          },
          "metadata": {
            "tags": []
          },
          "execution_count": 44
        },
        {
          "output_type": "display_data",
          "data": {
            "image/png": "[encoded data removed]",
            "text/plain": [
              "<Figure size 432x288 with 1 Axes>"
            ]
          },
          "metadata": {
            "tags": []
          }
        }
      ]
    },
    {
      "cell_type": "code",
      "metadata": {
        "id": "X1sfIXcl8R_3",
        "colab_type": "code",
        "colab": {}
      },
      "source": [
        "# sales_train[\"item_cnt_day\", \"shop_id\"].mean()"
      ],
      "execution_count": 0,
      "outputs": []
    },
    {
      "cell_type": "code",
      "metadata": {
        "id": "TcOsURV8vDKB",
        "colab_type": "code",
        "colab": {
          "base_uri": "https://localhost:8080/",
          "height": 283
        },
        "outputId": "563f1fbc-d22f-4113-a3f3-fa27504d393b"
      },
      "source": [
        "plt.plot(X, t0 + t1*X, linestyle='none', marker='*', markersize=5, color='red')"
      ],
      "execution_count": 28,
      "outputs": [
        {
          "output_type": "execute_result",
          "data": {
            "text/plain": [
              "[<matplotlib.lines.Line2D at 0x7fa5feeedb00>]"
            ]
          },
          "metadata": {
            "tags": []
          },
          "execution_count": 28
        },
        {
          "output_type": "display_data",
          "data": {
            "image/png": "[encoded data removed]",
            "text/plain": [
              "<Figure size 432x288 with 1 Axes>"
            ]
          },
          "metadata": {
            "tags": []
          }
        }
      ]
    },
    {
      "cell_type": "markdown",
      "metadata": {
        "id": "0rJ5Le8YTlA1",
        "colab_type": "text"
      },
      "source": [
        ""
      ]
    },
    {
      "cell_type": "code",
      "metadata": {
        "colab_type": "code",
        "id": "_taQaPWdTAHt",
        "colab": {}
      },
      "source": [
        "corr_matrix = train_set.corr()\n",
        "corr_matrix[\"item_cnt_day\"].sort_values(ascending=False)"
      ],
      "execution_count": 0,
      "outputs": []
    },
    {
      "cell_type": "code",
      "metadata": {
        "colab_type": "code",
        "id": "hknn7nDvTAHw",
        "colab": {}
      },
      "source": [
        "attributes = [\"date_block_num\", \"item_cnt_day\", \"item_price\", \"shop_id\", \"item_id\"]\n",
        "scatter_matrix(train_set[attributes], figsize=(12, 8)) "
      ],
      "execution_count": 0,
      "outputs": []
    },
    {
      "cell_type": "markdown",
      "metadata": {
        "colab_type": "text",
        "id": "JDoSwwB1TAHy"
      },
      "source": [
        "Some correlations found:\n",
        "* date_block_num vs item_cnt_day - more and more items are sold\n",
        "* date_block_num vs item_price - more and more expensive items are sold\n",
        "* shop_id vs item_cnt_day - determine which shops sell more to less\n",
        "* item_id vs item_cnt_day - determine which items are the most sold"
      ]
    },
    {
      "cell_type": "markdown",
      "metadata": {
        "colab_type": "text",
        "id": "dGtVXWo5TAH0"
      },
      "source": [
        "Try out some various attribute combinations"
      ]
    },
    {
      "cell_type": "markdown",
      "metadata": {
        "colab_type": "text",
        "id": "hbrUvboaSy0X"
      },
      "source": [
        "---\n",
        "### Compute a test set &darr;"
      ]
    },
    {
      "cell_type": "code",
      "metadata": {
        "colab_type": "code",
        "id": "n9t0kbXySy0P",
        "colab": {}
      },
      "source": [
        "### run ###\n",
        "\n",
        "# compute a hash of each instance’s identifier and put that instance in the test set if the hash is lower or equal to 20% of the maximum hash value. This ensures that the test set will remain consistent across multiple runs, even if you refresh the dataset. The new test set will contain 20% of the new instances, but it will not contain any instance that was previously in the training set\n",
        "from zlib import crc32\n",
        "\n",
        "def test_set_check(identifier, test_ratio):\n",
        "    return crc32(np.int64(identifier)) & 0xffffffff < test_ratio * 2**32\n",
        "\n",
        "def split_train_test_by_id(data, test_ratio, id_column):\n",
        "    ids = data[id_column]\n",
        "    in_test_set = ids.apply(lambda id_: test_set_check(id_, test_ratio))\n",
        "    return data.loc[~in_test_set], data.loc[in_test_set]"
      ],
      "execution_count": 0,
      "outputs": []
    },
    {
      "cell_type": "code",
      "metadata": {
        "colab_type": "code",
        "id": "QFhqp2OsSy0E",
        "colab": {}
      },
      "source": [
        "### run ###\n",
        "\n",
        "sales_train_with_id = sales_train.reset_index()   # adds an `index` column"
      ],
      "execution_count": 0,
      "outputs": []
    },
    {
      "cell_type": "code",
      "metadata": {
        "colab_type": "code",
        "id": "omkLDadVSyz8",
        "colab": {}
      },
      "source": [
        "### run ###\n",
        "\n",
        "# sales_train_with_id[\"id\"] = sales_train[\"shop_id\"] * 100 + sales_train[\"item_id\"] # (*1) the shop_id doesn't exceed value 99 for this project\n",
        "train_set, test_set = split_train_test_by_id(sales_train_with_id, 0.2, \"index\") # if (*1) is used, replace \"index\" with \"id\""
      ],
      "execution_count": 0,
      "outputs": []
    },
    {
      "cell_type": "code",
      "metadata": {
        "colab_type": "code",
        "id": "Sj1N-JxySyzz",
        "colab": {}
      },
      "source": [
        "describe_entire_nrs(train_set)"
      ],
      "execution_count": 0,
      "outputs": []
    },
    {
      "cell_type": "markdown",
      "metadata": {
        "id": "BHCVShPfIvsa",
        "colab_type": "text"
      },
      "source": [
        "Compute a test set &uarr;\n",
        "---"
      ]
    },
    {
      "cell_type": "markdown",
      "metadata": {
        "id": "ZSpgjAEIIvsb",
        "colab_type": "text"
      },
      "source": [
        "---\n",
        "the other data from the CSVs &darr;"
      ]
    },
    {
      "cell_type": "code",
      "metadata": {
        "id": "6cwjexowIvsc",
        "colab_type": "code",
        "colab": {}
      },
      "source": [
        "item_categories = pd.read_csv(os.path.abspath(os.path.join('input', 'item_categories.csv')))\n",
        "items = pd.read_csv(os.path.abspath(os.path.join('input', 'items.csv')))\n",
        "sample_submission = pd.read_csv(os.path.abspath(os.path.join('input', 'sample_submission.csv')))\n",
        "shops = pd.read_csv(os.path.abspath(os.path.join('input', 'shops.csv')))\n",
        "test = pd.read_csv(os.path.abspath(os.path.join('input', 'test.csv')))"
      ],
      "execution_count": 0,
      "outputs": []
    },
    {
      "cell_type": "code",
      "metadata": {
        "id": "WFe2k4y6Ivse",
        "colab_type": "code",
        "colab": {}
      },
      "source": [
        "item_categories.info()\n",
        "item_categories.describe(include='all')"
      ],
      "execution_count": 0,
      "outputs": []
    },
    {
      "cell_type": "code",
      "metadata": {
        "id": "yoj1oLJWIvsg",
        "colab_type": "code",
        "colab": {}
      },
      "source": [
        "items.info()\n",
        "items.describe(include='all')"
      ],
      "execution_count": 0,
      "outputs": []
    },
    {
      "cell_type": "code",
      "metadata": {
        "id": "hotashVCIvsj",
        "colab_type": "code",
        "colab": {}
      },
      "source": [
        "sample_submission.info()\n",
        "sample_submission.describe(include='all')"
      ],
      "execution_count": 0,
      "outputs": []
    },
    {
      "cell_type": "code",
      "metadata": {
        "id": "KkIfhMuxIvsn",
        "colab_type": "code",
        "colab": {}
      },
      "source": [
        "shops.info()\n",
        "shops.describe(include='all')"
      ],
      "execution_count": 0,
      "outputs": []
    },
    {
      "cell_type": "code",
      "metadata": {
        "id": "Il42wrl4Ivsq",
        "colab_type": "code",
        "colab": {}
      },
      "source": [
        "test.info()\n",
        "test.describe(include='all')"
      ],
      "execution_count": 0,
      "outputs": []
    },
    {
      "cell_type": "markdown",
      "metadata": {
        "id": "_rbCmYtgIvss",
        "colab_type": "text"
      },
      "source": [
        "---\n",
        "the other data from the CSVs &uarr;"
      ]
    },
    {
      "cell_type": "code",
      "metadata": {
        "id": "I4eAsDTwIvst",
        "colab_type": "code",
        "colab": {}
      },
      "source": [
        "train_set.info()"
      ],
      "execution_count": 0,
      "outputs": []
    },
    {
      "cell_type": "code",
      "metadata": {
        "id": "TZHgJghJIvsv",
        "colab_type": "code",
        "colab": {}
      },
      "source": [
        "# train_set.plot(kind=\"scatter\", x=\"date_block_num\", y=\"item_cnt_day\")\n",
        "\n",
        "# -- or --\n",
        "plt.scatter(train_set[\"date_block_num\"], train_set[\"item_cnt_day\"]) # in the notebook this gets stuck...\n",
        "plt.show()"
      ],
      "execution_count": 0,
      "outputs": []
    },
    {
      "cell_type": "markdown",
      "metadata": {
        "id": "brphqakCIvsz",
        "colab_type": "text"
      },
      "source": [
        "Select a Performance Measure -- A typical performance measure for regression problems is the Root Mean Square Error (RMSE). It gives an idea of how much error the system typically makes in its predictions, with a higher weight for large errors.\n",
        "\n",
        "`todo`"
      ]
    }
  ]
}