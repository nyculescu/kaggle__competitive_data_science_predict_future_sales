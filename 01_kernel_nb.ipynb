{
  "nbformat": 4,
  "nbformat_minor": 0,
  "metadata": {
    "language_info": {
      "name": "python",
      "codemirror_mode": {
        "name": "ipython",
        "version": 3
      },
      "version": "3.7.0-final"
    },
    "orig_nbformat": 2,
    "file_extension": ".py",
    "mimetype": "text/x-python",
    "name": "python",
    "npconvert_exporter": "python",
    "pygments_lexer": "ipython3",
    "version": 3,
    "kernelspec": {
      "name": "python37064bitmlenvvirtualenv89d51da7758947d6bdf3bbc1d7425a20",
      "display_name": "Python 3.7.0 64-bit ('ml_env': virtualenv)"
    },
    "colab": {
      "name": "01_kernel_nb.ipynb",
      "provenance": [],
      "include_colab_link": true
    }
  },
  "cells": [
    {
      "cell_type": "markdown",
      "metadata": {
        "id": "view-in-github",
        "colab_type": "text"
      },
      "source": [
        "<a href=\"https://colab.research.google.com/github/nyculescu/kaggle__competitive_data_science_predict_future_sales/blob/master/01_kernel_nb.ipynb\" target=\"_parent\"><img src=\"https://colab.research.google.com/assets/colab-badge.svg\" alt=\"Open In Colab\"/></a>"
      ]
    },
    {
      "cell_type": "code",
      "metadata": {
        "colab_type": "code",
        "id": "Y67uLRbtIvrj",
        "colab": {}
      },
      "source": [
        "# This Python 3 environment comes with many helpful analytics libraries installed\n",
        "# It is defined by the kaggle/python docker image: https://github.com/kaggle/docker-python\n",
        "# For example, here's several helpful packages to load in \n",
        "\n",
        "import numpy as np # linear algebra\n",
        "import pandas as pd # data processing, CSV file I/O (e.g. pd.read_csv)\n",
        "\n",
        "# Input data files are available in the \"../input/\" directory.\n",
        "# For example, running this (by clicking run or pressing Shift+Enter) will list all files under the input directory\n",
        "\n",
        "import os\n",
        "for dirname, _, filenames in os.walk('input'):\n",
        "    for filename in filenames:\n",
        "        print(os.path.join(dirname, filename))\n",
        "\n",
        "# Any results you write to the current directory are saved as output."
      ],
      "execution_count": 0,
      "outputs": []
    },
    {
      "cell_type": "markdown",
      "metadata": {
        "colab_type": "text",
        "id": "oUfflf4mIvtE"
      },
      "source": [
        "### Input files\n",
        "\n",
        "* shops.csv- supplemental information about the shops -- `61 entries`\n",
        "    * shop_name (e.g., \"СПб ТК \"\"Сенная\"\"\")\n",
        "    * shop_id (e.g., 43)\n",
        "\n",
        "* item_categories.csv  - supplemental information about the items categories -- `85 entries`\n",
        "    * item_category_name (e.g., Кино - DVD)\n",
        "    * item_category_id (e.g., 40)\n",
        "\n",
        "* items.csv - supplemental information about the items/products -- `22.171 entries`\n",
        "    * item_name (e.g., 1812: 4 СЕРИИ (регион))\n",
        "    * item_id (e.g., 97)\n",
        "    * item_category_id (e.g., 40)\n",
        "\n",
        "* sales_train.csv - the training set. Daily historical data from January 2013 to October 2015 -- `2.935.850 entries from which 587.170 entries (20%) should be allotted to the training set`\n",
        "    * date (e.g., 23.02.2013)\n",
        "    * date_block_num (e.g., 1)\n",
        "    * shop_id (e.g., 43)\n",
        "    * item_id (e.g., 97)\n",
        "    * item_price (e.g., 149.0)\n",
        "    * item_cnt_day (e.g., 1.0)\n",
        "\n",
        "* sample_submission.csv - a sample submission file in the correct format -- `214.201 entries`\n",
        "    * ID (e.g., 0)\n",
        "    * item_cnt_month (e.g., 0.5)\n",
        "\n",
        "* test.csv - the test set. You need to forecast the sales for these shops and products for November 2015 -- `214.201 entries`\n",
        "    * ID (e.g., 0)\n",
        "    * shop_id (e.g., 43)\n",
        "    * item_id (e.g., 97)\n"
      ]
    },
    {
      "cell_type": "markdown",
      "metadata": {
        "colab_type": "text",
        "id": "hIUr2Gru_ut3"
      },
      "source": [
        "### Data fields\n",
        "* ID - an Id that represents a (Shop, Item) tuple within the test set\n",
        "* shop_id - unique identifier of a shop\n",
        "* item_id - unique identifier of a product\n",
        "* item_category_id - unique identifier of item category\n",
        "* item_cnt_day - number of products sold. You are predicting a monthly amount of this measure\n",
        "* item_price - current price of an item\n",
        "* date - date in format dd/mm/yyyy\n",
        "* date_block_num - a consecutive month number, used for convenience. January 2013 is 0, February 2013 is 1,..., October 2015 is 33\n",
        "* item_name - name of item\n",
        "* shop_name - name of shop\n",
        "* item_category_name - name of item category"
      ]
    },
    {
      "cell_type": "markdown",
      "metadata": {
        "colab_type": "text",
        "id": "ZEaot8MFIvrr"
      },
      "source": [
        "### The objective: what needs to be done?\n",
        "The task is to forecast the total amount of products sold in every shop for the test set.\n",
        "\n",
        "! Note that the list of shops and products slightly changes every month.\n"
      ]
    },
    {
      "cell_type": "markdown",
      "metadata": {
        "colab_type": "text",
        "id": "bu4pWprZ_LCj"
      },
      "source": [
        "### Frame this problem\n",
        "* typical supervised learning task - we have the labeled training examples\n",
        "* typical regression task - we're asked to predict a value\n",
        "    * multiple regression problem (value prediction) - the system will use multiple features to make a prediction\n",
        "    * also univariate regression problem - we're only trying to predict a single value (*total amount of products sold*) in every *shop*\n",
        "* plain batch learning - we don't have a continuous flow of data coming to the system - the data doesn't need to be adjusted rapidly, and the data is small enoug to fit in memory (`is it so?`)"
      ]
    },
    {
      "cell_type": "markdown",
      "metadata": {
        "colab_type": "text",
        "id": "pPp8aEtSCUuo"
      },
      "source": [
        "---\n",
        "# Setup"
      ]
    },
    {
      "cell_type": "code",
      "metadata": {
        "id": "78NwyAYD43fe",
        "colab_type": "code",
        "colab": {}
      },
      "source": [
        "# Python ≥3.5 is required\n",
        "import sys\n",
        "assert sys.version_info >= (3, 5)\n",
        "\n",
        "\n",
        "# Scikit-Learn ≥0.20 is required\n",
        "import sklearn\n",
        "assert sklearn.__version__ >= \"0.20\"\n",
        "\n",
        "\n",
        "# Common imports\n",
        "import numpy as np\n",
        "import os\n",
        "import csv\n",
        "import pandas as pd\n",
        "from pandas.plotting import scatter_matrix\n",
        "\n",
        "\n",
        "# To plot pretty figures\n",
        "%matplotlib inline\n",
        "import matplotlib as mpl\n",
        "import matplotlib.pyplot as plt\n",
        "mpl.rc('axes', labelsize=14)\n",
        "mpl.rc('xtick', labelsize=12)\n",
        "mpl.rc('ytick', labelsize=12)\n",
        "\n",
        "\n",
        "# Where to save the figures\n",
        "PROJECT_ROOT_DIR = \".\"\n",
        "CHAPTER_ID = \"kaggle__competitive_data_science_predict_future_sales\"\n",
        "IMAGES_PATH = os.path.join(PROJECT_ROOT_DIR, \"images\", CHAPTER_ID)\n",
        "os.makedirs(IMAGES_PATH, exist_ok=True)\n",
        "\n",
        "def save_fig(fig_id, tight_layout=True, fig_extension=\"png\", resolution=300):\n",
        "    path = os.path.join(IMAGES_PATH, fig_id + \".\" + fig_extension)\n",
        "    print(\"Saving figure\", fig_id)\n",
        "    if tight_layout:\n",
        "        plt.tight_layout()\n",
        "    plt.savefig(path, format=fig_extension, dpi=resolution)\n",
        "\n",
        "\n",
        "# Ignore useless warnings (see SciPy issue #5998)\n",
        "import warnings\n",
        "warnings.filterwarnings(action=\"ignore\", message=\"^internal gelsd\")\n",
        "\n",
        "\n",
        "# Print the entire number in Python from describe() function, but only for the numeric data\n",
        "def describe_entire_nrs(datafr):\n",
        "    desc = datafr.describe() # include='all' will not work\n",
        "    desc.loc['count'] = desc.loc['count'].astype(int).astype(str)\n",
        "    desc.iloc[1:] = desc.iloc[1:].applymap('{:.2f}'.format)\n",
        "    return desc\n",
        "\n",
        "\n",
        "# Used to generate the test set\n",
        "\n",
        "from zlib import crc32\n",
        "\n",
        "def test_set_check(identifier, test_ratio):\n",
        "    return crc32(np.int64(identifier)) & 0xffffffff < test_ratio * 2**32\n",
        "\n",
        "def split_train_test_by_id(data, test_ratio, id_column):\n",
        "    ids = data[id_column]\n",
        "    in_test_set = ids.apply(lambda id_: test_set_check(id_, test_ratio))\n",
        "    return data.loc[~in_test_set], data.loc[in_test_set]\n",
        "\n",
        "# -"
      ],
      "execution_count": 0,
      "outputs": []
    },
    {
      "cell_type": "markdown",
      "metadata": {
        "colab_type": "text",
        "id": "coY5KPDE_78v"
      },
      "source": [
        "---\n",
        "### Colab"
      ]
    },
    {
      "cell_type": "code",
      "metadata": {
        "colab_type": "code",
        "id": "UZiUVhz3LXcN",
        "outputId": "a22f0de5-d917-49c9-8475-9d074393492a",
        "colab": {
          "base_uri": "https://localhost:8080/",
          "height": 34
        }
      },
      "source": [
        "from google.colab import drive\n",
        "drive.mount('/content/drive')\n",
        "\n",
        "sales_train = pd.read_csv('drive/My Drive/Colab Notebooks/datasets/sales_train.csv')"
      ],
      "execution_count": 6,
      "outputs": [
        {
          "output_type": "stream",
          "text": [
            "Drive already mounted at /content/drive; to attempt to forcibly remount, call drive.mount(\"/content/drive\", force_remount=True).\n"
          ],
          "name": "stdout"
        }
      ]
    },
    {
      "cell_type": "markdown",
      "metadata": {
        "colab_type": "text",
        "id": "QF9k4-OYABYX"
      },
      "source": [
        "---\n",
        "### VS Code"
      ]
    },
    {
      "cell_type": "code",
      "metadata": {
        "id": "nJR-TFRB43fp",
        "colab_type": "code",
        "colab": {
          "base_uri": "https://localhost:8080/",
          "height": 370
        },
        "outputId": "2ef347d0-863e-4ff8-c540-e61a850fca53"
      },
      "source": [
        "sales_train = pd.read_csv(os.path.abspath(os.path.join('input', 'sales_train.csv')))"
      ],
      "execution_count": 2,
      "outputs": [
        {
          "output_type": "error",
          "ename": "FileNotFoundError",
          "evalue": "ignored",
          "traceback": [
            "\u001b[0;31m---------------------------------------------------------------------------\u001b[0m",
            "\u001b[0;31mFileNotFoundError\u001b[0m                         Traceback (most recent call last)",
            "\u001b[0;32m<ipython-input-2-43a796737d02>\u001b[0m in \u001b[0;36m<module>\u001b[0;34m()\u001b[0m\n\u001b[0;32m----> 1\u001b[0;31m \u001b[0msales_train\u001b[0m \u001b[0;34m=\u001b[0m \u001b[0mpd\u001b[0m\u001b[0;34m.\u001b[0m\u001b[0mread_csv\u001b[0m\u001b[0;34m(\u001b[0m\u001b[0mos\u001b[0m\u001b[0;34m.\u001b[0m\u001b[0mpath\u001b[0m\u001b[0;34m.\u001b[0m\u001b[0mabspath\u001b[0m\u001b[0;34m(\u001b[0m\u001b[0mos\u001b[0m\u001b[0;34m.\u001b[0m\u001b[0mpath\u001b[0m\u001b[0;34m.\u001b[0m\u001b[0mjoin\u001b[0m\u001b[0;34m(\u001b[0m\u001b[0;34m'input'\u001b[0m\u001b[0;34m,\u001b[0m \u001b[0;34m'sales_train.csv'\u001b[0m\u001b[0;34m)\u001b[0m\u001b[0;34m)\u001b[0m\u001b[0;34m)\u001b[0m\u001b[0;34m\u001b[0m\u001b[0;34m\u001b[0m\u001b[0m\n\u001b[0m",
            "\u001b[0;32m/usr/local/lib/python3.6/dist-packages/pandas/io/parsers.py\u001b[0m in \u001b[0;36mparser_f\u001b[0;34m(filepath_or_buffer, sep, delimiter, header, names, index_col, usecols, squeeze, prefix, mangle_dupe_cols, dtype, engine, converters, true_values, false_values, skipinitialspace, skiprows, skipfooter, nrows, na_values, keep_default_na, na_filter, verbose, skip_blank_lines, parse_dates, infer_datetime_format, keep_date_col, date_parser, dayfirst, cache_dates, iterator, chunksize, compression, thousands, decimal, lineterminator, quotechar, quoting, doublequote, escapechar, comment, encoding, dialect, error_bad_lines, warn_bad_lines, delim_whitespace, low_memory, memory_map, float_precision)\u001b[0m\n\u001b[1;32m    683\u001b[0m         )\n\u001b[1;32m    684\u001b[0m \u001b[0;34m\u001b[0m\u001b[0m\n\u001b[0;32m--> 685\u001b[0;31m         \u001b[0;32mreturn\u001b[0m \u001b[0m_read\u001b[0m\u001b[0;34m(\u001b[0m\u001b[0mfilepath_or_buffer\u001b[0m\u001b[0;34m,\u001b[0m \u001b[0mkwds\u001b[0m\u001b[0;34m)\u001b[0m\u001b[0;34m\u001b[0m\u001b[0;34m\u001b[0m\u001b[0m\n\u001b[0m\u001b[1;32m    686\u001b[0m \u001b[0;34m\u001b[0m\u001b[0m\n\u001b[1;32m    687\u001b[0m     \u001b[0mparser_f\u001b[0m\u001b[0;34m.\u001b[0m\u001b[0m__name__\u001b[0m \u001b[0;34m=\u001b[0m \u001b[0mname\u001b[0m\u001b[0;34m\u001b[0m\u001b[0;34m\u001b[0m\u001b[0m\n",
            "\u001b[0;32m/usr/local/lib/python3.6/dist-packages/pandas/io/parsers.py\u001b[0m in \u001b[0;36m_read\u001b[0;34m(filepath_or_buffer, kwds)\u001b[0m\n\u001b[1;32m    455\u001b[0m \u001b[0;34m\u001b[0m\u001b[0m\n\u001b[1;32m    456\u001b[0m     \u001b[0;31m# Create the parser.\u001b[0m\u001b[0;34m\u001b[0m\u001b[0;34m\u001b[0m\u001b[0;34m\u001b[0m\u001b[0m\n\u001b[0;32m--> 457\u001b[0;31m     \u001b[0mparser\u001b[0m \u001b[0;34m=\u001b[0m \u001b[0mTextFileReader\u001b[0m\u001b[0;34m(\u001b[0m\u001b[0mfp_or_buf\u001b[0m\u001b[0;34m,\u001b[0m \u001b[0;34m**\u001b[0m\u001b[0mkwds\u001b[0m\u001b[0;34m)\u001b[0m\u001b[0;34m\u001b[0m\u001b[0;34m\u001b[0m\u001b[0m\n\u001b[0m\u001b[1;32m    458\u001b[0m \u001b[0;34m\u001b[0m\u001b[0m\n\u001b[1;32m    459\u001b[0m     \u001b[0;32mif\u001b[0m \u001b[0mchunksize\u001b[0m \u001b[0;32mor\u001b[0m \u001b[0miterator\u001b[0m\u001b[0;34m:\u001b[0m\u001b[0;34m\u001b[0m\u001b[0;34m\u001b[0m\u001b[0m\n",
            "\u001b[0;32m/usr/local/lib/python3.6/dist-packages/pandas/io/parsers.py\u001b[0m in \u001b[0;36m__init__\u001b[0;34m(self, f, engine, **kwds)\u001b[0m\n\u001b[1;32m    893\u001b[0m             \u001b[0mself\u001b[0m\u001b[0;34m.\u001b[0m\u001b[0moptions\u001b[0m\u001b[0;34m[\u001b[0m\u001b[0;34m\"has_index_names\"\u001b[0m\u001b[0;34m]\u001b[0m \u001b[0;34m=\u001b[0m \u001b[0mkwds\u001b[0m\u001b[0;34m[\u001b[0m\u001b[0;34m\"has_index_names\"\u001b[0m\u001b[0;34m]\u001b[0m\u001b[0;34m\u001b[0m\u001b[0;34m\u001b[0m\u001b[0m\n\u001b[1;32m    894\u001b[0m \u001b[0;34m\u001b[0m\u001b[0m\n\u001b[0;32m--> 895\u001b[0;31m         \u001b[0mself\u001b[0m\u001b[0;34m.\u001b[0m\u001b[0m_make_engine\u001b[0m\u001b[0;34m(\u001b[0m\u001b[0mself\u001b[0m\u001b[0;34m.\u001b[0m\u001b[0mengine\u001b[0m\u001b[0;34m)\u001b[0m\u001b[0;34m\u001b[0m\u001b[0;34m\u001b[0m\u001b[0m\n\u001b[0m\u001b[1;32m    896\u001b[0m \u001b[0;34m\u001b[0m\u001b[0m\n\u001b[1;32m    897\u001b[0m     \u001b[0;32mdef\u001b[0m \u001b[0mclose\u001b[0m\u001b[0;34m(\u001b[0m\u001b[0mself\u001b[0m\u001b[0;34m)\u001b[0m\u001b[0;34m:\u001b[0m\u001b[0;34m\u001b[0m\u001b[0;34m\u001b[0m\u001b[0m\n",
            "\u001b[0;32m/usr/local/lib/python3.6/dist-packages/pandas/io/parsers.py\u001b[0m in \u001b[0;36m_make_engine\u001b[0;34m(self, engine)\u001b[0m\n\u001b[1;32m   1133\u001b[0m     \u001b[0;32mdef\u001b[0m \u001b[0m_make_engine\u001b[0m\u001b[0;34m(\u001b[0m\u001b[0mself\u001b[0m\u001b[0;34m,\u001b[0m \u001b[0mengine\u001b[0m\u001b[0;34m=\u001b[0m\u001b[0;34m\"c\"\u001b[0m\u001b[0;34m)\u001b[0m\u001b[0;34m:\u001b[0m\u001b[0;34m\u001b[0m\u001b[0;34m\u001b[0m\u001b[0m\n\u001b[1;32m   1134\u001b[0m         \u001b[0;32mif\u001b[0m \u001b[0mengine\u001b[0m \u001b[0;34m==\u001b[0m \u001b[0;34m\"c\"\u001b[0m\u001b[0;34m:\u001b[0m\u001b[0;34m\u001b[0m\u001b[0;34m\u001b[0m\u001b[0m\n\u001b[0;32m-> 1135\u001b[0;31m             \u001b[0mself\u001b[0m\u001b[0;34m.\u001b[0m\u001b[0m_engine\u001b[0m \u001b[0;34m=\u001b[0m \u001b[0mCParserWrapper\u001b[0m\u001b[0;34m(\u001b[0m\u001b[0mself\u001b[0m\u001b[0;34m.\u001b[0m\u001b[0mf\u001b[0m\u001b[0;34m,\u001b[0m \u001b[0;34m**\u001b[0m\u001b[0mself\u001b[0m\u001b[0;34m.\u001b[0m\u001b[0moptions\u001b[0m\u001b[0;34m)\u001b[0m\u001b[0;34m\u001b[0m\u001b[0;34m\u001b[0m\u001b[0m\n\u001b[0m\u001b[1;32m   1136\u001b[0m         \u001b[0;32melse\u001b[0m\u001b[0;34m:\u001b[0m\u001b[0;34m\u001b[0m\u001b[0;34m\u001b[0m\u001b[0m\n\u001b[1;32m   1137\u001b[0m             \u001b[0;32mif\u001b[0m \u001b[0mengine\u001b[0m \u001b[0;34m==\u001b[0m \u001b[0;34m\"python\"\u001b[0m\u001b[0;34m:\u001b[0m\u001b[0;34m\u001b[0m\u001b[0;34m\u001b[0m\u001b[0m\n",
            "\u001b[0;32m/usr/local/lib/python3.6/dist-packages/pandas/io/parsers.py\u001b[0m in \u001b[0;36m__init__\u001b[0;34m(self, src, **kwds)\u001b[0m\n\u001b[1;32m   1915\u001b[0m         \u001b[0mkwds\u001b[0m\u001b[0;34m[\u001b[0m\u001b[0;34m\"usecols\"\u001b[0m\u001b[0;34m]\u001b[0m \u001b[0;34m=\u001b[0m \u001b[0mself\u001b[0m\u001b[0;34m.\u001b[0m\u001b[0musecols\u001b[0m\u001b[0;34m\u001b[0m\u001b[0;34m\u001b[0m\u001b[0m\n\u001b[1;32m   1916\u001b[0m \u001b[0;34m\u001b[0m\u001b[0m\n\u001b[0;32m-> 1917\u001b[0;31m         \u001b[0mself\u001b[0m\u001b[0;34m.\u001b[0m\u001b[0m_reader\u001b[0m \u001b[0;34m=\u001b[0m \u001b[0mparsers\u001b[0m\u001b[0;34m.\u001b[0m\u001b[0mTextReader\u001b[0m\u001b[0;34m(\u001b[0m\u001b[0msrc\u001b[0m\u001b[0;34m,\u001b[0m \u001b[0;34m**\u001b[0m\u001b[0mkwds\u001b[0m\u001b[0;34m)\u001b[0m\u001b[0;34m\u001b[0m\u001b[0;34m\u001b[0m\u001b[0m\n\u001b[0m\u001b[1;32m   1918\u001b[0m         \u001b[0mself\u001b[0m\u001b[0;34m.\u001b[0m\u001b[0munnamed_cols\u001b[0m \u001b[0;34m=\u001b[0m \u001b[0mself\u001b[0m\u001b[0;34m.\u001b[0m\u001b[0m_reader\u001b[0m\u001b[0;34m.\u001b[0m\u001b[0munnamed_cols\u001b[0m\u001b[0;34m\u001b[0m\u001b[0;34m\u001b[0m\u001b[0m\n\u001b[1;32m   1919\u001b[0m \u001b[0;34m\u001b[0m\u001b[0m\n",
            "\u001b[0;32mpandas/_libs/parsers.pyx\u001b[0m in \u001b[0;36mpandas._libs.parsers.TextReader.__cinit__\u001b[0;34m()\u001b[0m\n",
            "\u001b[0;32mpandas/_libs/parsers.pyx\u001b[0m in \u001b[0;36mpandas._libs.parsers.TextReader._setup_parser_source\u001b[0;34m()\u001b[0m\n",
            "\u001b[0;31mFileNotFoundError\u001b[0m: [Errno 2] File b'/content/input/sales_train.csv' does not exist: b'/content/input/sales_train.csv'"
          ]
        }
      ]
    },
    {
      "cell_type": "markdown",
      "metadata": {
        "colab_type": "text",
        "id": "LbUjKspd_aqr"
      },
      "source": [
        "---\n",
        "# Get the data & Discover and visualize the data to gain insights"
      ]
    },
    {
      "cell_type": "markdown",
      "metadata": {
        "colab_type": "text",
        "id": "sfsdJr4_ATlw"
      },
      "source": [
        "## Analyze the data added"
      ]
    },
    {
      "cell_type": "code",
      "metadata": {
        "colab_type": "code",
        "id": "twQC--qrIvrv",
        "outputId": "9a5de240-0f70-4cd1-db2e-4feda5eb7224",
        "colab": {
          "base_uri": "https://localhost:8080/",
          "height": 419
        }
      },
      "source": [
        "sales_train.head()\n",
        "sales_train.head(-5)"
      ],
      "execution_count": 0,
      "outputs": [
        {
          "output_type": "execute_result",
          "data": {
            "text/html": [
              "<div>\n",
              "<style scoped>\n",
              "    .dataframe tbody tr th:only-of-type {\n",
              "        vertical-align: middle;\n",
              "    }\n",
              "\n",
              "    .dataframe tbody tr th {\n",
              "        vertical-align: top;\n",
              "    }\n",
              "\n",
              "    .dataframe thead th {\n",
              "        text-align: right;\n",
              "    }\n",
              "</style>\n",
              "<table border=\"1\" class=\"dataframe\">\n",
              "  <thead>\n",
              "    <tr style=\"text-align: right;\">\n",
              "      <th></th>\n",
              "      <th>date</th>\n",
              "      <th>date_block_num</th>\n",
              "      <th>shop_id</th>\n",
              "      <th>item_id</th>\n",
              "      <th>item_price</th>\n",
              "      <th>item_cnt_day</th>\n",
              "    </tr>\n",
              "  </thead>\n",
              "  <tbody>\n",
              "    <tr>\n",
              "      <th>0</th>\n",
              "      <td>02.01.2013</td>\n",
              "      <td>0</td>\n",
              "      <td>59</td>\n",
              "      <td>22154</td>\n",
              "      <td>999.00</td>\n",
              "      <td>1.0</td>\n",
              "    </tr>\n",
              "    <tr>\n",
              "      <th>1</th>\n",
              "      <td>03.01.2013</td>\n",
              "      <td>0</td>\n",
              "      <td>25</td>\n",
              "      <td>2552</td>\n",
              "      <td>899.00</td>\n",
              "      <td>1.0</td>\n",
              "    </tr>\n",
              "    <tr>\n",
              "      <th>2</th>\n",
              "      <td>05.01.2013</td>\n",
              "      <td>0</td>\n",
              "      <td>25</td>\n",
              "      <td>2552</td>\n",
              "      <td>899.00</td>\n",
              "      <td>-1.0</td>\n",
              "    </tr>\n",
              "    <tr>\n",
              "      <th>3</th>\n",
              "      <td>06.01.2013</td>\n",
              "      <td>0</td>\n",
              "      <td>25</td>\n",
              "      <td>2554</td>\n",
              "      <td>1709.05</td>\n",
              "      <td>1.0</td>\n",
              "    </tr>\n",
              "    <tr>\n",
              "      <th>4</th>\n",
              "      <td>15.01.2013</td>\n",
              "      <td>0</td>\n",
              "      <td>25</td>\n",
              "      <td>2555</td>\n",
              "      <td>1099.00</td>\n",
              "      <td>1.0</td>\n",
              "    </tr>\n",
              "    <tr>\n",
              "      <th>...</th>\n",
              "      <td>...</td>\n",
              "      <td>...</td>\n",
              "      <td>...</td>\n",
              "      <td>...</td>\n",
              "      <td>...</td>\n",
              "      <td>...</td>\n",
              "    </tr>\n",
              "    <tr>\n",
              "      <th>2935839</th>\n",
              "      <td>24.10.2015</td>\n",
              "      <td>33</td>\n",
              "      <td>25</td>\n",
              "      <td>7315</td>\n",
              "      <td>399.00</td>\n",
              "      <td>1.0</td>\n",
              "    </tr>\n",
              "    <tr>\n",
              "      <th>2935840</th>\n",
              "      <td>31.10.2015</td>\n",
              "      <td>33</td>\n",
              "      <td>25</td>\n",
              "      <td>7409</td>\n",
              "      <td>299.00</td>\n",
              "      <td>1.0</td>\n",
              "    </tr>\n",
              "    <tr>\n",
              "      <th>2935841</th>\n",
              "      <td>11.10.2015</td>\n",
              "      <td>33</td>\n",
              "      <td>25</td>\n",
              "      <td>7393</td>\n",
              "      <td>349.00</td>\n",
              "      <td>1.0</td>\n",
              "    </tr>\n",
              "    <tr>\n",
              "      <th>2935842</th>\n",
              "      <td>10.10.2015</td>\n",
              "      <td>33</td>\n",
              "      <td>25</td>\n",
              "      <td>7384</td>\n",
              "      <td>749.00</td>\n",
              "      <td>1.0</td>\n",
              "    </tr>\n",
              "    <tr>\n",
              "      <th>2935843</th>\n",
              "      <td>09.10.2015</td>\n",
              "      <td>33</td>\n",
              "      <td>25</td>\n",
              "      <td>7409</td>\n",
              "      <td>299.00</td>\n",
              "      <td>1.0</td>\n",
              "    </tr>\n",
              "  </tbody>\n",
              "</table>\n",
              "<p>2935844 rows × 6 columns</p>\n",
              "</div>"
            ],
            "text/plain": [
              "               date  date_block_num  shop_id  item_id  item_price  item_cnt_day\n",
              "0        02.01.2013               0       59    22154      999.00           1.0\n",
              "1        03.01.2013               0       25     2552      899.00           1.0\n",
              "2        05.01.2013               0       25     2552      899.00          -1.0\n",
              "3        06.01.2013               0       25     2554     1709.05           1.0\n",
              "4        15.01.2013               0       25     2555     1099.00           1.0\n",
              "...             ...             ...      ...      ...         ...           ...\n",
              "2935839  24.10.2015              33       25     7315      399.00           1.0\n",
              "2935840  31.10.2015              33       25     7409      299.00           1.0\n",
              "2935841  11.10.2015              33       25     7393      349.00           1.0\n",
              "2935842  10.10.2015              33       25     7384      749.00           1.0\n",
              "2935843  09.10.2015              33       25     7409      299.00           1.0\n",
              "\n",
              "[2935844 rows x 6 columns]"
            ]
          },
          "metadata": {
            "tags": []
          },
          "execution_count": 23
        }
      ]
    },
    {
      "cell_type": "markdown",
      "metadata": {
        "colab_type": "text",
        "id": "j0JY2-_ntmrC"
      },
      "source": [
        "copy head()'s output into https://www.tablesgenerator.com/markdown_tables#\n",
        "\n",
        "| idx | date       | date_block_num | shop_id | item_id | item_price | item_cnt_day |\n",
        "|-----|------------|----------------|---------|---------|------------|--------------|\n",
        "| 0   | 02.01.2013 | 0              | 59      | 22154   | 999.00     | 1.0          |\n",
        "| 1   | 03.01.2013 | 0              | 25      | 2552    | 899.00     | 1.0          |\n",
        "| 2   | 05.01.2013 | 0              | 25      | 2552    | 899.00     | -1.0         |\n",
        "| 3   | 06.01.2013 | 0              | 25      | 2554    | 1709.05    | 1.0          |\n",
        "| 4   | 15.01.2013 | 0              | 25      | 2555    | 1099.00    | 1.0          |\n",
        "|     |            |                |         |         |            |              |"
      ]
    },
    {
      "cell_type": "code",
      "metadata": {
        "colab_type": "code",
        "id": "ruMNgnnmIvrz",
        "outputId": "a1e6c644-9d25-48a4-a3ad-16d31198fa3e",
        "colab": {
          "base_uri": "https://localhost:8080/",
          "height": 204
        }
      },
      "source": [
        "sales_train.info()"
      ],
      "execution_count": 0,
      "outputs": [
        {
          "output_type": "stream",
          "text": [
            "<class 'pandas.core.frame.DataFrame'>\n",
            "RangeIndex: 2935849 entries, 0 to 2935848\n",
            "Data columns (total 6 columns):\n",
            "date              object\n",
            "date_block_num    int64\n",
            "shop_id           int64\n",
            "item_id           int64\n",
            "item_price        float64\n",
            "item_cnt_day      float64\n",
            "dtypes: float64(2), int64(3), object(1)\n",
            "memory usage: 134.4+ MB\n"
          ],
          "name": "stdout"
        }
      ]
    },
    {
      "cell_type": "code",
      "metadata": {
        "colab_type": "code",
        "id": "TUcc5ShcIvr1",
        "outputId": "d2545f08-be00-416a-ea1e-4788e125f077",
        "colab": {
          "base_uri": "https://localhost:8080/",
          "height": 153
        }
      },
      "source": [
        "# see the amount of memory used (in bytes) for each column. \n",
        "# It’s useful when building machine learning models which may require a lot memory in training.\n",
        "sales_train.memory_usage(deep=True)"
      ],
      "execution_count": 0,
      "outputs": [
        {
          "output_type": "execute_result",
          "data": {
            "text/plain": [
              "Index                   128\n",
              "date              196701883\n",
              "date_block_num     23486792\n",
              "shop_id            23486792\n",
              "item_id            23486792\n",
              "item_price         23486792\n",
              "item_cnt_day       23486792\n",
              "dtype: int64"
            ]
          },
          "metadata": {
            "tags": []
          },
          "execution_count": 25
        }
      ]
    },
    {
      "cell_type": "markdown",
      "metadata": {
        "colab_type": "text",
        "id": "_EVd6BmWIvr4"
      },
      "source": [
        "We can find out what categories exist and how many districts belong to each category by using the value_counts() method, but we know them already (form the description)"
      ]
    },
    {
      "cell_type": "code",
      "metadata": {
        "colab_type": "code",
        "id": "SJvJD5xOIvr5",
        "colab": {}
      },
      "source": [
        "# For numeric data, the result’s index will include count, mean, std, min, max as well as lower, 50 and upper percentiles.\n",
        "# For object data (e.g. strings or timestamps), the result’s index will include count, unique, top, and freq. The top is the most common value. The freq is the most common value’s frequency. Timestamps also include the first and last items.\n",
        "\n",
        "sales_train.describe(include='all')"
      ],
      "execution_count": 0,
      "outputs": []
    },
    {
      "cell_type": "code",
      "metadata": {
        "colab_type": "code",
        "id": "ehYz5aBXIvsF",
        "outputId": "4a5d4378-e305-4128-c0f2-eefe6a048d85",
        "colab": {
          "base_uri": "https://localhost:8080/",
          "height": 297
        }
      },
      "source": [
        "describe_entire_nrs(sales_train)"
      ],
      "execution_count": 0,
      "outputs": [
        {
          "output_type": "execute_result",
          "data": {
            "text/html": [
              "<div>\n",
              "<style scoped>\n",
              "    .dataframe tbody tr th:only-of-type {\n",
              "        vertical-align: middle;\n",
              "    }\n",
              "\n",
              "    .dataframe tbody tr th {\n",
              "        vertical-align: top;\n",
              "    }\n",
              "\n",
              "    .dataframe thead th {\n",
              "        text-align: right;\n",
              "    }\n",
              "</style>\n",
              "<table border=\"1\" class=\"dataframe\">\n",
              "  <thead>\n",
              "    <tr style=\"text-align: right;\">\n",
              "      <th></th>\n",
              "      <th>date_block_num</th>\n",
              "      <th>shop_id</th>\n",
              "      <th>item_id</th>\n",
              "      <th>item_price</th>\n",
              "      <th>item_cnt_day</th>\n",
              "    </tr>\n",
              "  </thead>\n",
              "  <tbody>\n",
              "    <tr>\n",
              "      <th>count</th>\n",
              "      <td>2935849</td>\n",
              "      <td>2935849</td>\n",
              "      <td>2935849</td>\n",
              "      <td>2935849</td>\n",
              "      <td>2935849</td>\n",
              "    </tr>\n",
              "    <tr>\n",
              "      <th>mean</th>\n",
              "      <td>14.57</td>\n",
              "      <td>33.00</td>\n",
              "      <td>10197.23</td>\n",
              "      <td>890.85</td>\n",
              "      <td>1.24</td>\n",
              "    </tr>\n",
              "    <tr>\n",
              "      <th>std</th>\n",
              "      <td>9.42</td>\n",
              "      <td>16.23</td>\n",
              "      <td>6324.30</td>\n",
              "      <td>1729.80</td>\n",
              "      <td>2.62</td>\n",
              "    </tr>\n",
              "    <tr>\n",
              "      <th>min</th>\n",
              "      <td>0.00</td>\n",
              "      <td>0.00</td>\n",
              "      <td>0.00</td>\n",
              "      <td>-1.00</td>\n",
              "      <td>-22.00</td>\n",
              "    </tr>\n",
              "    <tr>\n",
              "      <th>25%</th>\n",
              "      <td>7.00</td>\n",
              "      <td>22.00</td>\n",
              "      <td>4476.00</td>\n",
              "      <td>249.00</td>\n",
              "      <td>1.00</td>\n",
              "    </tr>\n",
              "    <tr>\n",
              "      <th>50%</th>\n",
              "      <td>14.00</td>\n",
              "      <td>31.00</td>\n",
              "      <td>9343.00</td>\n",
              "      <td>399.00</td>\n",
              "      <td>1.00</td>\n",
              "    </tr>\n",
              "    <tr>\n",
              "      <th>75%</th>\n",
              "      <td>23.00</td>\n",
              "      <td>47.00</td>\n",
              "      <td>15684.00</td>\n",
              "      <td>999.00</td>\n",
              "      <td>1.00</td>\n",
              "    </tr>\n",
              "    <tr>\n",
              "      <th>max</th>\n",
              "      <td>33.00</td>\n",
              "      <td>59.00</td>\n",
              "      <td>22169.00</td>\n",
              "      <td>307980.00</td>\n",
              "      <td>2169.00</td>\n",
              "    </tr>\n",
              "  </tbody>\n",
              "</table>\n",
              "</div>"
            ],
            "text/plain": [
              "      date_block_num  shop_id   item_id item_price item_cnt_day\n",
              "count        2935849  2935849   2935849    2935849      2935849\n",
              "mean           14.57    33.00  10197.23     890.85         1.24\n",
              "std             9.42    16.23   6324.30    1729.80         2.62\n",
              "min             0.00     0.00      0.00      -1.00       -22.00\n",
              "25%             7.00    22.00   4476.00     249.00         1.00\n",
              "50%            14.00    31.00   9343.00     399.00         1.00\n",
              "75%            23.00    47.00  15684.00     999.00         1.00\n",
              "max            33.00    59.00  22169.00  307980.00      2169.00"
            ]
          },
          "metadata": {
            "tags": []
          },
          "execution_count": 26
        }
      ]
    },
    {
      "cell_type": "code",
      "metadata": {
        "colab_type": "code",
        "id": "gPiC8KxxIvsJ",
        "outputId": "25bc8014-8139-43a9-e3cd-50587e7fce5f",
        "colab": {
          "base_uri": "https://localhost:8080/",
          "height": 1000
        }
      },
      "source": [
        "sales_train.hist(bins=50, figsize=(20,15))\n",
        "# plt.show()"
      ],
      "execution_count": 0,
      "outputs": [
        {
          "output_type": "execute_result",
          "data": {
            "text/plain": [
              "array([[<matplotlib.axes._subplots.AxesSubplot object at 0x7f13062d1518>,\n",
              "        <matplotlib.axes._subplots.AxesSubplot object at 0x7f13062a0630>],\n",
              "       [<matplotlib.axes._subplots.AxesSubplot object at 0x7f1306251be0>,\n",
              "        <matplotlib.axes._subplots.AxesSubplot object at 0x7f130620c1d0>],\n",
              "       [<matplotlib.axes._subplots.AxesSubplot object at 0x7f13061b7780>,\n",
              "        <matplotlib.axes._subplots.AxesSubplot object at 0x7f13061e5d30>]],\n",
              "      dtype=object)"
            ]
          },
          "metadata": {
            "tags": []
          },
          "execution_count": 12
        },
        {
          "output_type": "display_data",
          "data": {
            "image/png": "[encoded data removed]",
            "text/plain": [
              "<Figure size 1440x1080 with 6 Axes>"
            ]
          },
          "metadata": {
            "tags": []
          }
        }
      ]
    },
    {
      "cell_type": "markdown",
      "metadata": {
        "colab_type": "text",
        "id": "WpXWmVMTIvsN"
      },
      "source": [
        "observations on th plotted dataframe:\n",
        "* date_block_num, item_id, shop_id are capped -- Warning from hands-on book: The latter may be a serious problem since it is your target attribute (your labels). Your Machine Learning algorithms may learn that prices never go beyond that limit.\n",
        "    * date_block_num even capped, doesn't look to be a problem\n",
        "* These attributes have very different scales\n",
        "* item_cnt_day and item_price don't express anything\n"
      ]
    },
    {
      "cell_type": "markdown",
      "metadata": {
        "colab_type": "text",
        "id": "s9lgvnLcTAHq"
      },
      "source": [
        "## Looking for Correlations + Experimenting with Attribute Combinations"
      ]
    },
    {
      "cell_type": "markdown",
      "metadata": {
        "id": "m_tcf9wbTJh0",
        "colab_type": "text"
      },
      "source": [
        "### First correlations, with the **sales_train** dataset"
      ]
    },
    {
      "cell_type": "code",
      "metadata": {
        "colab_type": "code",
        "id": "QCid7JHptkgg",
        "outputId": "3e1f191b-e858-41e5-f30b-361c9b8b9ed9",
        "colab": {
          "base_uri": "https://localhost:8080/",
          "height": 118
        }
      },
      "source": [
        "corr_matrix = sales_train.corr()\n",
        "corr_matrix[\"item_cnt_day\"].sort_values(ascending=False)"
      ],
      "execution_count": 0,
      "outputs": [
        {
          "output_type": "execute_result",
          "data": {
            "text/plain": [
              "item_cnt_day      1.000000\n",
              "item_id           0.016650\n",
              "item_price        0.011197\n",
              "date_block_num    0.009402\n",
              "shop_id          -0.005230\n",
              "Name: item_cnt_day, dtype: float64"
            ]
          },
          "metadata": {
            "tags": []
          },
          "execution_count": 3
        }
      ]
    },
    {
      "cell_type": "code",
      "metadata": {
        "colab_type": "code",
        "id": "xf6lQH_Ytql_",
        "outputId": "0c3fac1b-2ef2-491a-87cb-92188085b56c",
        "colab": {
          "base_uri": "https://localhost:8080/",
          "height": 972
        }
      },
      "source": [
        "# 'date' attribute will be not considered for the correlations \n",
        "#   this represents a sort of a higher resolution of the date_block_num\n",
        "attributes = [\"date_block_num\", \"item_cnt_day\", \"item_price\", \"shop_id\", \"item_id\"]\n",
        "scatter_matrix(sales_train[attributes], figsize=(12, 8))"
      ],
      "execution_count": 0,
      "outputs": [
        {
          "output_type": "execute_result",
          "data": {
            "text/plain": [
              "array([[<matplotlib.axes._subplots.AxesSubplot object at 0x7f817bc30dd8>,\n",
              "        <matplotlib.axes._subplots.AxesSubplot object at 0x7f817ad6f358>,\n",
              "        <matplotlib.axes._subplots.AxesSubplot object at 0x7f817ad1f908>,\n",
              "        <matplotlib.axes._subplots.AxesSubplot object at 0x7f817ad4deb8>,\n",
              "        <matplotlib.axes._subplots.AxesSubplot object at 0x7f817ad054a8>],\n",
              "       [<matplotlib.axes._subplots.AxesSubplot object at 0x7f817acb4a58>,\n",
              "        <matplotlib.axes._subplots.AxesSubplot object at 0x7f817ac70048>,\n",
              "        <matplotlib.axes._subplots.AxesSubplot object at 0x7f817ac9a630>,\n",
              "        <matplotlib.axes._subplots.AxesSubplot object at 0x7f817ac9a668>,\n",
              "        <matplotlib.axes._subplots.AxesSubplot object at 0x7f817ac02198>],\n",
              "       [<matplotlib.axes._subplots.AxesSubplot object at 0x7f817abb0748>,\n",
              "        <matplotlib.axes._subplots.AxesSubplot object at 0x7f817ab5fcf8>,\n",
              "        <matplotlib.axes._subplots.AxesSubplot object at 0x7f817ab1f2e8>,\n",
              "        <matplotlib.axes._subplots.AxesSubplot object at 0x7f817ab4c898>,\n",
              "        <matplotlib.axes._subplots.AxesSubplot object at 0x7f817aaffe48>],\n",
              "       [<matplotlib.axes._subplots.AxesSubplot object at 0x7f817aabe438>,\n",
              "        <matplotlib.axes._subplots.AxesSubplot object at 0x7f817aa6c9e8>,\n",
              "        <matplotlib.axes._subplots.AxesSubplot object at 0x7f817aa1ef98>,\n",
              "        <matplotlib.axes._subplots.AxesSubplot object at 0x7f817aa59588>,\n",
              "        <matplotlib.axes._subplots.AxesSubplot object at 0x7f817aa0ab38>],\n",
              "       [<matplotlib.axes._subplots.AxesSubplot object at 0x7f817a9c6128>,\n",
              "        <matplotlib.axes._subplots.AxesSubplot object at 0x7f817a9776d8>,\n",
              "        <matplotlib.axes._subplots.AxesSubplot object at 0x7f817a929c88>,\n",
              "        <matplotlib.axes._subplots.AxesSubplot object at 0x7f817a8e5278>,\n",
              "        <matplotlib.axes._subplots.AxesSubplot object at 0x7f817a918828>]],\n",
              "      dtype=object)"
            ]
          },
          "metadata": {
            "tags": []
          },
          "execution_count": 5
        },
        {
          "output_type": "display_data",
          "data": {
            "image/png": "[encoded data removed]",
            "text/plain": [
              "<Figure size 864x576 with 25 Axes>"
            ]
          },
          "metadata": {
            "tags": []
          }
        }
      ]
    },
    {
      "cell_type": "markdown",
      "metadata": {
        "colab_type": "text",
        "id": "_zTzBzpNtyOE"
      },
      "source": [
        "Some correlations found:\n",
        "* date_block_num vs item_cnt_day - more and more items are sold\n",
        "* date_block_num vs item_price - more and more expensive items are sold\n",
        "* shop_id vs item_cnt_day - determine which shops sell more to less\n",
        "* item_id vs item_cnt_day - determine which items are the most sold"
      ]
    },
    {
      "cell_type": "code",
      "metadata": {
        "colab_type": "code",
        "id": "KBVP6gURTNIA",
        "outputId": "a4a3bd42-edb6-4f01-d2a9-25e6ca1bab6d",
        "colab": {
          "base_uri": "https://localhost:8080/",
          "height": 303
        }
      },
      "source": [
        "sales_train.plot(kind=\"scatter\", x=\"date_block_num\", y=\"item_cnt_day\")"
      ],
      "execution_count": 0,
      "outputs": [
        {
          "output_type": "execute_result",
          "data": {
            "text/plain": [
              "<matplotlib.axes._subplots.AxesSubplot at 0x7f817a8da748>"
            ]
          },
          "metadata": {
            "tags": []
          },
          "execution_count": 6
        },
        {
          "output_type": "display_data",
          "data": {
            "image/png": "[encoded data removed]",
            "text/plain": [
              "<Figure size 432x288 with 1 Axes>"
            ]
          },
          "metadata": {
            "tags": []
          }
        }
      ]
    },
    {
      "cell_type": "code",
      "metadata": {
        "colab_type": "code",
        "id": "tNXIBcCCFZFM",
        "outputId": "4ec7a8fc-86b1-4c53-810c-e608d25f93ef",
        "colab": {
          "base_uri": "https://localhost:8080/",
          "height": 34
        }
      },
      "source": [
        "# Find max value & its index of the shop_id, then print them\n",
        "\n",
        "# cnt_i = [0] * (sales_train_outl_1shop[\"shop_id\"].max() + 1)\n",
        "# for i in sales_train_outl_1shop[\"shop_id\"]:\n",
        "#     cnt_i[i] += 1\n",
        "\n",
        "# cnt_i_max = np.where(cnt_i == np.amax(cnt_i))[0]\n",
        "# print(\"max value: \", cnt_i_max, np.amax(cnt_i))"
      ],
      "execution_count": 0,
      "outputs": [
        {
          "output_type": "stream",
          "text": [
            "max value:  [31] 235634\n"
          ],
          "name": "stdout"
        }
      ]
    },
    {
      "cell_type": "code",
      "metadata": {
        "colab_type": "code",
        "id": "qhGdZWdyMqpW",
        "colab": {}
      },
      "source": [
        "# describe_entire_nrs(sales_train_outl_1shop)"
      ],
      "execution_count": 0,
      "outputs": []
    },
    {
      "cell_type": "code",
      "metadata": {
        "colab_type": "code",
        "id": "ImCKa6M3LKoR",
        "colab": {}
      },
      "source": [
        "# sales_train_outl_1shop = sales_train_outl_1shop[sales_train_outl_1shop[\"shop_id\"] == cnt_i_max[0]] # drop te rows which doesn't have the shop_id equal to cnt_i_max\n",
        "# sales_train_outl_mdl = sales_train_outl_1shop.copy()"
      ],
      "execution_count": 0,
      "outputs": []
    },
    {
      "cell_type": "code",
      "metadata": {
        "colab_type": "code",
        "id": "qJZjB2Ar-1eX",
        "colab": {}
      },
      "source": [
        "# sales_train_outl = sales_train[~(sales_train['item_cnt_day'] > 650)] # ignore the outliers\n",
        "# sales_train_outl = sales_train_outl[~(sales_train_outl['item_cnt_day'] < -1)] # ignore the outliers\n",
        "# sales_train_outl.plot(kind=\"scatter\", x=\"date_block_num\", y=\"item_cnt_day\")\n",
        "# sales_train_outl_mdl = sales_train_outl.copy()\n",
        "\n",
        "### This is not needed due to feature scaling"
      ],
      "execution_count": 0,
      "outputs": []
    },
    {
      "cell_type": "markdown",
      "metadata": {
        "id": "-smBbIVLV4O6",
        "colab_type": "text"
      },
      "source": [
        "#### Make a copy of the **sales_train**"
      ]
    },
    {
      "cell_type": "code",
      "metadata": {
        "id": "DQFM4BAH43ga",
        "colab_type": "code",
        "colab": {}
      },
      "source": [
        "sales_train_ = sales_train.copy()"
      ],
      "execution_count": 0,
      "outputs": []
    },
    {
      "cell_type": "markdown",
      "metadata": {
        "id": "K0BOIusHnR30",
        "colab_type": "text"
      },
      "source": [
        "#### The **date** attrb"
      ]
    },
    {
      "cell_type": "markdown",
      "metadata": {
        "id": "b1SuRQonnYhL",
        "colab_type": "text"
      },
      "source": [
        "##### var 1 | delete the **date** attr"
      ]
    },
    {
      "cell_type": "code",
      "metadata": {
        "id": "_YI6aVMrnYDb",
        "colab_type": "code",
        "colab": {}
      },
      "source": [
        "sales_train_.drop([\"date\"], inplace=True, axis=1)"
      ],
      "execution_count": 0,
      "outputs": []
    },
    {
      "cell_type": "markdown",
      "metadata": {
        "id": "PukyNbLonYxs",
        "colab_type": "text"
      },
      "source": [
        "##### var 2 | Convert the **date** attrb into a 'unique number'\n",
        "> use this\n",
        "\n",
        "from string pattern dd.mm.yyyy to int pattern yyyymmdd"
      ]
    },
    {
      "cell_type": "code",
      "metadata": {
        "id": "YxDnW74QnTFi",
        "colab_type": "code",
        "colab": {}
      },
      "source": [
        "date = sales_train_[[\"date\"]].values\n",
        "date_ = [0] * len(date)\n",
        "\n",
        "# enumerate function allows us to loop over a list and retrieve \n",
        "# both the index and the value of each item in the list\n",
        "for index, d in enumerate(date): # date_.append didn't work properly, so i used the index\n",
        "  n = int(''.join(c for c in str(d) if c.isdigit()))\n",
        "  date_[index] = (n%10000)*10000 + (int(n/10000)%100)*100 + int(n/1000000)\n",
        "\n",
        "sales_train_[\"date\"] = date_"
      ],
      "execution_count": 0,
      "outputs": []
    },
    {
      "cell_type": "markdown",
      "metadata": {
        "colab_type": "text",
        "id": "zinMfYN04JFu"
      },
      "source": [
        "### Add **item_cnt_month** as attr to the **sales_train** dataset"
      ]
    },
    {
      "cell_type": "code",
      "metadata": {
        "id": "wt6v6XjD43gV",
        "colab_type": "code",
        "outputId": "acb38038-19e1-4944-f94e-a892e818e818",
        "colab": {
          "base_uri": "https://localhost:8080/",
          "height": 225
        }
      },
      "source": [
        "# Attempt of using a new attrb: item_price_med\n",
        "\n",
        "# sales_train_gb_sh = sales_train.drop(['date_block_num', 'item_id', 'item_cnt_day'], axis = 1).groupby('shop_id').mean() # std seems more reliable\n",
        "# sales_train_gb_sh.rename(columns={\"item_price\": \"item_price_med\"}, inplace=True)\n",
        "\n",
        "# sales_train_gb_sh.head()"
      ],
      "execution_count": 0,
      "outputs": [
        {
          "output_type": "execute_result",
          "data": {
            "text/html": [
              "<div>\n",
              "<style scoped>\n",
              "    .dataframe tbody tr th:only-of-type {\n",
              "        vertical-align: middle;\n",
              "    }\n",
              "\n",
              "    .dataframe tbody tr th {\n",
              "        vertical-align: top;\n",
              "    }\n",
              "\n",
              "    .dataframe thead th {\n",
              "        text-align: right;\n",
              "    }\n",
              "</style>\n",
              "<table border=\"1\" class=\"dataframe\">\n",
              "  <thead>\n",
              "    <tr style=\"text-align: right;\">\n",
              "      <th></th>\n",
              "      <th>item_price_med</th>\n",
              "    </tr>\n",
              "    <tr>\n",
              "      <th>shop_id</th>\n",
              "      <th></th>\n",
              "    </tr>\n",
              "  </thead>\n",
              "  <tbody>\n",
              "    <tr>\n",
              "      <th>0</th>\n",
              "      <td>563.444151</td>\n",
              "    </tr>\n",
              "    <tr>\n",
              "      <th>1</th>\n",
              "      <td>515.350652</td>\n",
              "    </tr>\n",
              "    <tr>\n",
              "      <th>2</th>\n",
              "      <td>1350.638391</td>\n",
              "    </tr>\n",
              "    <tr>\n",
              "      <th>3</th>\n",
              "      <td>1036.840634</td>\n",
              "    </tr>\n",
              "    <tr>\n",
              "      <th>4</th>\n",
              "      <td>923.994318</td>\n",
              "    </tr>\n",
              "  </tbody>\n",
              "</table>\n",
              "</div>"
            ],
            "text/plain": [
              "         item_price_med\n",
              "shop_id                \n",
              "0            563.444151\n",
              "1            515.350652\n",
              "2           1350.638391\n",
              "3           1036.840634\n",
              "4            923.994318"
            ]
          },
          "metadata": {
            "tags": []
          },
          "execution_count": 6
        }
      ]
    },
    {
      "cell_type": "code",
      "metadata": {
        "id": "3epkz5GB43gY",
        "colab_type": "code",
        "outputId": "d51e2102-bbba-4e69-dcaf-bc69055e55ff",
        "colab": {
          "base_uri": "https://localhost:8080/",
          "height": 225
        }
      },
      "source": [
        "sales_train_gb_mth = sales_train.drop(['item_id', 'item_price'], axis = 1).groupby(['shop_id', 'date_block_num']).sum().astype('int')\n",
        "sales_train_gb_mth.rename(columns={\"item_cnt_day\": \"item_cnt_month\"}, inplace=True)\n",
        "\n",
        "# sales_train_gb_mth.head(5)\n",
        "sales_train_gb_mth.tail(5)"
      ],
      "execution_count": 0,
      "outputs": [
        {
          "output_type": "execute_result",
          "data": {
            "text/html": [
              "<div>\n",
              "<style scoped>\n",
              "    .dataframe tbody tr th:only-of-type {\n",
              "        vertical-align: middle;\n",
              "    }\n",
              "\n",
              "    .dataframe tbody tr th {\n",
              "        vertical-align: top;\n",
              "    }\n",
              "\n",
              "    .dataframe thead th {\n",
              "        text-align: right;\n",
              "    }\n",
              "</style>\n",
              "<table border=\"1\" class=\"dataframe\">\n",
              "  <thead>\n",
              "    <tr style=\"text-align: right;\">\n",
              "      <th></th>\n",
              "      <th></th>\n",
              "      <th>item_cnt_month</th>\n",
              "    </tr>\n",
              "    <tr>\n",
              "      <th>shop_id</th>\n",
              "      <th>date_block_num</th>\n",
              "      <th></th>\n",
              "    </tr>\n",
              "  </thead>\n",
              "  <tbody>\n",
              "    <tr>\n",
              "      <th rowspan=\"5\" valign=\"top\">59</th>\n",
              "      <th>29</th>\n",
              "      <td>913</td>\n",
              "    </tr>\n",
              "    <tr>\n",
              "      <th>30</th>\n",
              "      <td>992</td>\n",
              "    </tr>\n",
              "    <tr>\n",
              "      <th>31</th>\n",
              "      <td>1214</td>\n",
              "    </tr>\n",
              "    <tr>\n",
              "      <th>32</th>\n",
              "      <td>914</td>\n",
              "    </tr>\n",
              "    <tr>\n",
              "      <th>33</th>\n",
              "      <td>790</td>\n",
              "    </tr>\n",
              "  </tbody>\n",
              "</table>\n",
              "</div>"
            ],
            "text/plain": [
              "                        item_cnt_month\n",
              "shop_id date_block_num                \n",
              "59      29                         913\n",
              "        30                         992\n",
              "        31                        1214\n",
              "        32                         914\n",
              "        33                         790"
            ]
          },
          "metadata": {
            "tags": []
          },
          "execution_count": 7
        }
      ]
    },
    {
      "cell_type": "markdown",
      "metadata": {
        "id": "yzwd16sn4_Nb",
        "colab_type": "text"
      },
      "source": [
        "#### var 1\n",
        "\n",
        "The method below takes too much time to run \n",
        "\n",
        ".loc method seems to be slow \n",
        "\n",
        "instead, use the method below this cell\n"
      ]
    },
    {
      "cell_type": "code",
      "metadata": {
        "id": "U_H8Aeux43gg",
        "colab_type": "code",
        "outputId": "d6ecb866-480e-4b70-fa83-ef33c1c7fdf3",
        "colab": {
          "base_uri": "https://localhost:8080/",
          "height": 195
        }
      },
      "source": [
        "# The following code adds to the attr **item_cnt_month** \n",
        "\n",
        "# %%time is used for Colab nb to show the cell's runtime --> CPU times: user 39.4 ms, sys: 668 µs, total: 40.1 ms | Wall time: 40.3 ms\n",
        "# this overwrites the output\n",
        "\n",
        "# from IPython.display import clear_output\n",
        "\n",
        "for row in sales_train_.iterrows():\n",
        "  # clear_output() # clear the output of the current cell receiving output\n",
        "  # print(row)\n",
        "\n",
        "  idx_s = int(sales_train_.loc[sales_train_.index[row[0]], \"shop_id\"])\n",
        "  idx_m = int(sales_train_.loc[sales_train_.index[row[0]], \"date_block_num\"])\n",
        "\n",
        "  #item_price_med = sales_train_gb_sh[\"item_price_med\"][idx_s]\n",
        "  #sales_train_.loc[sales_train_.index[row[0]], \"item_price_med\"] = item_price_med\n",
        "\n",
        "  item_cnt_month = sales_train_gb_mth[\"item_cnt_month\"]\n",
        "  sales_train_.loc[sales_train_.index[row[0]], \"item_cnt_month\"] = int(item_cnt_month[idx_s][idx_m])"
      ],
      "execution_count": 0,
      "outputs": [
        {
          "output_type": "execute_result",
          "data": {
            "text/html": [
              "<div>\n",
              "<style scoped>\n",
              "    .dataframe tbody tr th:only-of-type {\n",
              "        vertical-align: middle;\n",
              "    }\n",
              "\n",
              "    .dataframe tbody tr th {\n",
              "        vertical-align: top;\n",
              "    }\n",
              "\n",
              "    .dataframe thead th {\n",
              "        text-align: right;\n",
              "    }\n",
              "</style>\n",
              "<table border=\"1\" class=\"dataframe\">\n",
              "  <thead>\n",
              "    <tr style=\"text-align: right;\">\n",
              "      <th></th>\n",
              "      <th>date_block_num</th>\n",
              "      <th>shop_id</th>\n",
              "      <th>item_id</th>\n",
              "      <th>item_price</th>\n",
              "      <th>item_cnt_day</th>\n",
              "      <th>item_cnt_month</th>\n",
              "    </tr>\n",
              "  </thead>\n",
              "  <tbody>\n",
              "    <tr>\n",
              "      <th>0</th>\n",
              "      <td>0</td>\n",
              "      <td>59</td>\n",
              "      <td>22154</td>\n",
              "      <td>999.00</td>\n",
              "      <td>1.0</td>\n",
              "      <td>2017</td>\n",
              "    </tr>\n",
              "    <tr>\n",
              "      <th>1</th>\n",
              "      <td>0</td>\n",
              "      <td>25</td>\n",
              "      <td>2552</td>\n",
              "      <td>899.00</td>\n",
              "      <td>1.0</td>\n",
              "      <td>8215</td>\n",
              "    </tr>\n",
              "    <tr>\n",
              "      <th>2</th>\n",
              "      <td>0</td>\n",
              "      <td>25</td>\n",
              "      <td>2552</td>\n",
              "      <td>899.00</td>\n",
              "      <td>-1.0</td>\n",
              "      <td>8215</td>\n",
              "    </tr>\n",
              "    <tr>\n",
              "      <th>3</th>\n",
              "      <td>0</td>\n",
              "      <td>25</td>\n",
              "      <td>2554</td>\n",
              "      <td>1709.05</td>\n",
              "      <td>1.0</td>\n",
              "      <td>8215</td>\n",
              "    </tr>\n",
              "    <tr>\n",
              "      <th>4</th>\n",
              "      <td>0</td>\n",
              "      <td>25</td>\n",
              "      <td>2555</td>\n",
              "      <td>1099.00</td>\n",
              "      <td>1.0</td>\n",
              "      <td>8215</td>\n",
              "    </tr>\n",
              "  </tbody>\n",
              "</table>\n",
              "</div>"
            ],
            "text/plain": [
              "   date_block_num  shop_id  item_id  item_price  item_cnt_day  item_cnt_month\n",
              "0               0       59    22154      999.00           1.0            2017\n",
              "1               0       25     2552      899.00           1.0            8215\n",
              "2               0       25     2552      899.00          -1.0            8215\n",
              "3               0       25     2554     1709.05           1.0            8215\n",
              "4               0       25     2555     1099.00           1.0            8215"
            ]
          },
          "metadata": {
            "tags": []
          },
          "execution_count": 24
        }
      ]
    },
    {
      "cell_type": "markdown",
      "metadata": {
        "id": "1fVTJaMx5DoV",
        "colab_type": "text"
      },
      "source": [
        "#### var 2\n",
        "\n",
        "> use this\n",
        "\n",
        "this method took ~24 min. It was used a list to be filled with the required values, then attached to the main dataframe\n",
        "\n",
        "start: 2020-02-01 17:16:02.477814 | stop: 2020-02-01 17:40:20.210183"
      ]
    },
    {
      "cell_type": "code",
      "metadata": {
        "id": "0yAkv637-bib",
        "colab_type": "code",
        "outputId": "6854d23a-6d6b-4f07-f3b0-278a9afefe45",
        "colab": {
          "base_uri": "https://localhost:8080/",
          "height": 50
        }
      },
      "source": [
        "import datetime\n",
        "\n",
        "sales_train_c = []\n",
        "\n",
        "print(datetime.datetime.now())\n",
        "for row in sales_train_.iterrows():\n",
        "  item_cnt_month = sales_train_gb_mth[\"item_cnt_month\"]\n",
        "  item_cnt_month_n = item_cnt_month[row[1][1]][row[1][0]]\n",
        "  \n",
        "  sales_train_c.append(int(item_cnt_month_n))\n",
        "\n",
        "print(datetime.datetime.now())"
      ],
      "execution_count": 0,
      "outputs": [
        {
          "output_type": "stream",
          "text": [
            "2020-02-03 09:13:58.560532\n",
            "2020-02-03 09:39:00.660538\n"
          ],
          "name": "stdout"
        }
      ]
    },
    {
      "cell_type": "markdown",
      "metadata": {
        "id": "x4qMfAre6H-z",
        "colab_type": "text"
      },
      "source": [
        "#### Add the **item_cnt_month** list to the main dataframe, then save it locally"
      ]
    },
    {
      "cell_type": "code",
      "metadata": {
        "id": "AQKrHjBq30TJ",
        "colab_type": "code",
        "colab": {}
      },
      "source": [
        "sales_train_['item_cnt_month'] = sales_train_c"
      ],
      "execution_count": 0,
      "outputs": []
    },
    {
      "cell_type": "code",
      "metadata": {
        "id": "WoLJT6umU7iJ",
        "colab_type": "code",
        "outputId": "008d56bc-cb8d-43d6-b97b-19c381773617",
        "colab": {
          "base_uri": "https://localhost:8080/",
          "height": 402
        }
      },
      "source": [
        "sales_train_"
      ],
      "execution_count": 113,
      "outputs": [
        {
          "output_type": "execute_result",
          "data": {
            "text/html": [
              "<div>\n",
              "<style scoped>\n",
              "    .dataframe tbody tr th:only-of-type {\n",
              "        vertical-align: middle;\n",
              "    }\n",
              "\n",
              "    .dataframe tbody tr th {\n",
              "        vertical-align: top;\n",
              "    }\n",
              "\n",
              "    .dataframe thead th {\n",
              "        text-align: right;\n",
              "    }\n",
              "</style>\n",
              "<table border=\"1\" class=\"dataframe\">\n",
              "  <thead>\n",
              "    <tr style=\"text-align: right;\">\n",
              "      <th></th>\n",
              "      <th>date_block_num</th>\n",
              "      <th>shop_id</th>\n",
              "      <th>item_id</th>\n",
              "      <th>item_price</th>\n",
              "      <th>item_cnt_day</th>\n",
              "      <th>item_cnt_month</th>\n",
              "      <th>date</th>\n",
              "    </tr>\n",
              "  </thead>\n",
              "  <tbody>\n",
              "    <tr>\n",
              "      <th>0</th>\n",
              "      <td>0</td>\n",
              "      <td>59</td>\n",
              "      <td>22154</td>\n",
              "      <td>999.00</td>\n",
              "      <td>1.0</td>\n",
              "      <td>2017</td>\n",
              "      <td>20130102</td>\n",
              "    </tr>\n",
              "    <tr>\n",
              "      <th>1</th>\n",
              "      <td>0</td>\n",
              "      <td>25</td>\n",
              "      <td>2552</td>\n",
              "      <td>899.00</td>\n",
              "      <td>1.0</td>\n",
              "      <td>8215</td>\n",
              "      <td>20130103</td>\n",
              "    </tr>\n",
              "    <tr>\n",
              "      <th>2</th>\n",
              "      <td>0</td>\n",
              "      <td>25</td>\n",
              "      <td>2552</td>\n",
              "      <td>899.00</td>\n",
              "      <td>-1.0</td>\n",
              "      <td>8215</td>\n",
              "      <td>20130105</td>\n",
              "    </tr>\n",
              "    <tr>\n",
              "      <th>3</th>\n",
              "      <td>0</td>\n",
              "      <td>25</td>\n",
              "      <td>2554</td>\n",
              "      <td>1709.05</td>\n",
              "      <td>1.0</td>\n",
              "      <td>8215</td>\n",
              "      <td>20130106</td>\n",
              "    </tr>\n",
              "    <tr>\n",
              "      <th>4</th>\n",
              "      <td>0</td>\n",
              "      <td>25</td>\n",
              "      <td>2555</td>\n",
              "      <td>1099.00</td>\n",
              "      <td>1.0</td>\n",
              "      <td>8215</td>\n",
              "      <td>20130115</td>\n",
              "    </tr>\n",
              "    <tr>\n",
              "      <th>...</th>\n",
              "      <td>...</td>\n",
              "      <td>...</td>\n",
              "      <td>...</td>\n",
              "      <td>...</td>\n",
              "      <td>...</td>\n",
              "      <td>...</td>\n",
              "      <td>...</td>\n",
              "    </tr>\n",
              "    <tr>\n",
              "      <th>2935844</th>\n",
              "      <td>33</td>\n",
              "      <td>25</td>\n",
              "      <td>7409</td>\n",
              "      <td>299.00</td>\n",
              "      <td>1.0</td>\n",
              "      <td>6247</td>\n",
              "      <td>20151010</td>\n",
              "    </tr>\n",
              "    <tr>\n",
              "      <th>2935845</th>\n",
              "      <td>33</td>\n",
              "      <td>25</td>\n",
              "      <td>7460</td>\n",
              "      <td>299.00</td>\n",
              "      <td>1.0</td>\n",
              "      <td>6247</td>\n",
              "      <td>20151009</td>\n",
              "    </tr>\n",
              "    <tr>\n",
              "      <th>2935846</th>\n",
              "      <td>33</td>\n",
              "      <td>25</td>\n",
              "      <td>7459</td>\n",
              "      <td>349.00</td>\n",
              "      <td>1.0</td>\n",
              "      <td>6247</td>\n",
              "      <td>20151014</td>\n",
              "    </tr>\n",
              "    <tr>\n",
              "      <th>2935847</th>\n",
              "      <td>33</td>\n",
              "      <td>25</td>\n",
              "      <td>7440</td>\n",
              "      <td>299.00</td>\n",
              "      <td>1.0</td>\n",
              "      <td>6247</td>\n",
              "      <td>20151022</td>\n",
              "    </tr>\n",
              "    <tr>\n",
              "      <th>2935848</th>\n",
              "      <td>33</td>\n",
              "      <td>25</td>\n",
              "      <td>7460</td>\n",
              "      <td>299.00</td>\n",
              "      <td>1.0</td>\n",
              "      <td>6247</td>\n",
              "      <td>20151003</td>\n",
              "    </tr>\n",
              "  </tbody>\n",
              "</table>\n",
              "<p>2935849 rows × 7 columns</p>\n",
              "</div>"
            ],
            "text/plain": [
              "         date_block_num  shop_id  ...  item_cnt_month      date\n",
              "0                     0       59  ...            2017  20130102\n",
              "1                     0       25  ...            8215  20130103\n",
              "2                     0       25  ...            8215  20130105\n",
              "3                     0       25  ...            8215  20130106\n",
              "4                     0       25  ...            8215  20130115\n",
              "...                 ...      ...  ...             ...       ...\n",
              "2935844              33       25  ...            6247  20151010\n",
              "2935845              33       25  ...            6247  20151009\n",
              "2935846              33       25  ...            6247  20151014\n",
              "2935847              33       25  ...            6247  20151022\n",
              "2935848              33       25  ...            6247  20151003\n",
              "\n",
              "[2935849 rows x 7 columns]"
            ]
          },
          "metadata": {
            "tags": []
          },
          "execution_count": 113
        }
      ]
    },
    {
      "cell_type": "code",
      "metadata": {
        "colab_type": "code",
        "id": "r71UoeG4DYgw",
        "colab": {}
      },
      "source": [
        "# Colab - save the reshaped dataset\n",
        "sales_train_.to_csv(r\"drive/My Drive/Colab Notebooks/datasets/sales_train_reshaped.csv\")"
      ],
      "execution_count": 0,
      "outputs": []
    },
    {
      "cell_type": "code",
      "metadata": {
        "id": "6sURm8SIOwNQ",
        "colab_type": "code",
        "colab": {}
      },
      "source": [
        "# Colab - get the reshaped dataset from drive\n",
        "sales_train_ = pd.read_csv('drive/My Drive/Colab Notebooks/datasets/sales_train_reshaped.csv')"
      ],
      "execution_count": 0,
      "outputs": []
    },
    {
      "cell_type": "code",
      "metadata": {
        "id": "ncANnwbB43go",
        "colab_type": "code",
        "colab": {}
      },
      "source": [
        "# VS Code - save the reshaped dataset\n",
        "sales_train_.to_csv(r\"input/sales_train_reshaped.csv\")"
      ],
      "execution_count": 0,
      "outputs": []
    },
    {
      "cell_type": "code",
      "metadata": {
        "id": "fEAXbu5GOwVE",
        "colab_type": "code",
        "colab": {}
      },
      "source": [
        "# VS Code - get the reshaped dataset from local drive\n",
        "sales_train_ = pd.read_csv(os.path.abspath(os.path.join('input', 'sales_train_reshaped.csv')))"
      ],
      "execution_count": 0,
      "outputs": []
    },
    {
      "cell_type": "markdown",
      "metadata": {
        "id": "dciNP-UjehKA",
        "colab_type": "text"
      },
      "source": [
        "#### Check for new correlations"
      ]
    },
    {
      "cell_type": "code",
      "metadata": {
        "id": "DawMelD4P5Ae",
        "colab_type": "code",
        "outputId": "491a8109-5af9-4634-b0bf-51650997ceb0",
        "colab": {
          "base_uri": "https://localhost:8080/",
          "height": 151
        }
      },
      "source": [
        "corr_matrix = sales_train_.corr()\n",
        "corr_matrix[\"item_cnt_month\"].sort_values(ascending=False)"
      ],
      "execution_count": 114,
      "outputs": [
        {
          "output_type": "execute_result",
          "data": {
            "text/plain": [
              "item_cnt_month    1.000000\n",
              "shop_id           0.072295\n",
              "item_id           0.061264\n",
              "item_cnt_day      0.024699\n",
              "item_price       -0.036215\n",
              "date_block_num   -0.184236\n",
              "date             -0.219112\n",
              "Name: item_cnt_month, dtype: float64"
            ]
          },
          "metadata": {
            "tags": []
          },
          "execution_count": 114
        }
      ]
    },
    {
      "cell_type": "code",
      "metadata": {
        "id": "5PiaGpzAb1a-",
        "colab_type": "code",
        "outputId": "8e82b644-426b-46ad-b58e-9d9ec22c8991",
        "colab": {
          "base_uri": "https://localhost:8080/",
          "height": 967
        }
      },
      "source": [
        "attributes = [\"date_block_num\", \"item_cnt_month\", \"shop_id\", \"item_id\", \"date\"]\n",
        "scatter_matrix(sales_train_[attributes], figsize=(12, 8))"
      ],
      "execution_count": 115,
      "outputs": [
        {
          "output_type": "execute_result",
          "data": {
            "text/plain": [
              "array([[<matplotlib.axes._subplots.AxesSubplot object at 0x7f85ff1ae668>,\n",
              "        <matplotlib.axes._subplots.AxesSubplot object at 0x7f85ff17b1d0>,\n",
              "        <matplotlib.axes._subplots.AxesSubplot object at 0x7f85ff12f320>,\n",
              "        <matplotlib.axes._subplots.AxesSubplot object at 0x7f85ff0df470>,\n",
              "        <matplotlib.axes._subplots.AxesSubplot object at 0x7f85ff104e48>],\n",
              "       [<matplotlib.axes._subplots.AxesSubplot object at 0x7f85ff0bb438>,\n",
              "        <matplotlib.axes._subplots.AxesSubplot object at 0x7f85ff0679e8>,\n",
              "        <matplotlib.axes._subplots.AxesSubplot object at 0x7f85ff096fd0>,\n",
              "        <matplotlib.axes._subplots.AxesSubplot object at 0x7f85ff024048>,\n",
              "        <matplotlib.axes._subplots.AxesSubplot object at 0x7f85feffbb38>],\n",
              "       [<matplotlib.axes._subplots.AxesSubplot object at 0x7f85fefb5128>,\n",
              "        <matplotlib.axes._subplots.AxesSubplot object at 0x7f85fef646d8>,\n",
              "        <matplotlib.axes._subplots.AxesSubplot object at 0x7f85fef95c88>,\n",
              "        <matplotlib.axes._subplots.AxesSubplot object at 0x7f85fef52278>,\n",
              "        <matplotlib.axes._subplots.AxesSubplot object at 0x7f85fef02828>],\n",
              "       [<matplotlib.axes._subplots.AxesSubplot object at 0x7f85feeb1dd8>,\n",
              "        <matplotlib.axes._subplots.AxesSubplot object at 0x7f8621b3d128>,\n",
              "        <matplotlib.axes._subplots.AxesSubplot object at 0x7f85feecb668>,\n",
              "        <matplotlib.axes._subplots.AxesSubplot object at 0x7f85fee7bc18>,\n",
              "        <matplotlib.axes._subplots.AxesSubplot object at 0x7f85fee38208>],\n",
              "       [<matplotlib.axes._subplots.AxesSubplot object at 0x7f85fede77b8>,\n",
              "        <matplotlib.axes._subplots.AxesSubplot object at 0x7f85fee17d68>,\n",
              "        <matplotlib.axes._subplots.AxesSubplot object at 0x7f85fedd5358>,\n",
              "        <matplotlib.axes._subplots.AxesSubplot object at 0x7f85fed83908>,\n",
              "        <matplotlib.axes._subplots.AxesSubplot object at 0x7f85fed34eb8>]],\n",
              "      dtype=object)"
            ]
          },
          "metadata": {
            "tags": []
          },
          "execution_count": 115
        },
        {
          "output_type": "display_data",
          "data": {
            "image/png": "[encoded data removed]",
            "text/plain": [
              "<Figure size 864x576 with 25 Axes>"
            ]
          },
          "metadata": {
            "tags": []
          }
        }
      ]
    },
    {
      "cell_type": "markdown",
      "metadata": {
        "id": "-brW4rDQI96h",
        "colab_type": "text"
      },
      "source": [
        "Interesting correlations:\n",
        "* shop_id vs item_cnt_month\n",
        "* date_block_num vs item_cnt_month"
      ]
    },
    {
      "cell_type": "markdown",
      "metadata": {
        "id": "8POfCuTb6lMn",
        "colab_type": "text"
      },
      "source": [
        "#### Plot a complex map"
      ]
    },
    {
      "cell_type": "code",
      "metadata": {
        "colab_type": "code",
        "id": "vt3va2rIgFYI",
        "outputId": "c25fdfef-7d4e-41a6-8a58-1b6ddfbc99a7",
        "colab": {
          "base_uri": "https://localhost:8080/",
          "height": 630
        }
      },
      "source": [
        "sales_train_.plot(kind=\"scatter\", \n",
        "                  x=\"date_block_num\", \n",
        "                  y=\"item_cnt_month\",\n",
        "                  s=sales_train_[\"shop_id\"], # the size of the circles\n",
        "                  label=\"shop_id\",\n",
        "                  # c=\"item_price_med\", cmap=plt.get_cmap(\"jet\"), colorbar=True, # the color of the circles\n",
        "                  figsize=(15,10),\n",
        "                  alpha=0.5, sharex=False\n",
        "                  )\n",
        "plt.legend()"
      ],
      "execution_count": 0,
      "outputs": [
        {
          "output_type": "execute_result",
          "data": {
            "text/plain": [
              "<matplotlib.legend.Legend at 0x7f31d05b9eb8>"
            ]
          },
          "metadata": {
            "tags": []
          },
          "execution_count": 53
        },
        {
          "output_type": "display_data",
          "data": {
            "image/png": "[encoded data removed]",
            "text/plain": [
              "<Figure size 1080x720 with 1 Axes>"
            ]
          },
          "metadata": {
            "tags": []
          }
        }
      ]
    },
    {
      "cell_type": "code",
      "metadata": {
        "id": "qITK3s-7RXHX",
        "colab_type": "code",
        "outputId": "e37f4e45-c5ea-4445-f8d1-518cc2ecadc5",
        "colab": {
          "base_uri": "https://localhost:8080/",
          "height": 646
        }
      },
      "source": [
        "sales_train_.plot(kind=\"scatter\", \n",
        "                  x=\"date_block_num\", \n",
        "                  y=\"item_cnt_month\",\n",
        "                  figsize=(15,10),\n",
        "                  sharex=False\n",
        "                  )\n",
        "plt.legend()"
      ],
      "execution_count": 0,
      "outputs": [
        {
          "output_type": "stream",
          "text": [
            "No handles with labels found to put in legend.\n"
          ],
          "name": "stderr"
        },
        {
          "output_type": "execute_result",
          "data": {
            "text/plain": [
              "<matplotlib.legend.Legend at 0x7f31d07a5eb8>"
            ]
          },
          "metadata": {
            "tags": []
          },
          "execution_count": 52
        },
        {
          "output_type": "display_data",
          "data": {
            "image/png": "[encoded data removed]",
            "text/plain": [
              "<Figure size 1080x720 with 1 Axes>"
            ]
          },
          "metadata": {
            "tags": []
          }
        }
      ]
    },
    {
      "cell_type": "markdown",
      "metadata": {
        "colab_type": "text",
        "id": "hbrUvboaSy0X"
      },
      "source": [
        "## Compute a test set"
      ]
    },
    {
      "cell_type": "markdown",
      "metadata": {
        "colab_type": "text",
        "id": "04A0rw2jwUst"
      },
      "source": [
        "### var 1\n",
        "\n",
        "Compute a hash of each instance’s identifier and put that instance in the test set if the hash is lower or equal to 20% of the maximum hash value. This ensures that the test set will remain consistent across multiple runs, even if you refresh the dataset. The new test set will contain 20% of the new instances, but it will not contain any instance that was previously in the training set."
      ]
    },
    {
      "cell_type": "code",
      "metadata": {
        "colab_type": "code",
        "id": "hAgEKI2LEm_Z",
        "colab": {}
      },
      "source": [
        "sales_train_with_id = sales_train.reset_index()   # adds an `index` column\n",
        "train_set, test_set = split_train_test_by_id(sales_train_with_id, 0.2, \"index\")"
      ],
      "execution_count": 0,
      "outputs": []
    },
    {
      "cell_type": "markdown",
      "metadata": {
        "colab_type": "text",
        "id": "KMuK49bBwrR-"
      },
      "source": [
        "### var 2\n",
        "\n",
        "> use this\n"
      ]
    },
    {
      "cell_type": "code",
      "metadata": {
        "colab_type": "code",
        "id": "WAfa92quw_zj",
        "colab": {}
      },
      "source": [
        "# this method is used because we'll have only one epoch of training\n",
        "from sklearn.model_selection import train_test_split\n",
        "\n",
        "train_set, test_set = train_test_split(sales_train_, train_size=0.8, shuffle=False) # 80% of data will be chosen for train_set"
      ],
      "execution_count": 0,
      "outputs": []
    },
    {
      "cell_type": "markdown",
      "metadata": {
        "colab_type": "text",
        "id": "ybRAFpYixCiz"
      },
      "source": [
        "### copy the train_set"
      ]
    },
    {
      "cell_type": "code",
      "metadata": {
        "colab_type": "code",
        "id": "66yjdCp7cVNn",
        "colab": {}
      },
      "source": [
        "sales_train_ts = train_set.copy()"
      ],
      "execution_count": 0,
      "outputs": []
    },
    {
      "cell_type": "markdown",
      "metadata": {
        "colab_type": "text",
        "id": "z0sisC0v-pxV"
      },
      "source": [
        "---\n",
        "# Prepare the data for Machine Learning algorithms"
      ]
    },
    {
      "cell_type": "markdown",
      "metadata": {
        "colab_type": "text",
        "id": "dsHK6AZqhM-u"
      },
      "source": [
        "**>> ?**\n",
        "\n",
        "I didn't understand exactly what the negative values repesent, but I suppose that:\n",
        "\n",
        "* item_cnt_day -- items stolen or not added to the inventory\n",
        "* item_price -- items stolen, sold under the real price or offered as bonus\n",
        "\n"
      ]
    },
    {
      "cell_type": "code",
      "metadata": {
        "colab_type": "code",
        "id": "y2iEwbX1IvsL",
        "colab": {}
      },
      "source": [
        "# cleanup the rows which have the item_cnt_day and item_price with negative values\n",
        "\n",
        "# sales_train_ts = sales_train_ts[~(sales_train_ts['item_cnt_day'] < 0)]\n",
        "# sales_train_ts = sales_train_ts[~(sales_train_ts['item_price'] < 0)]"
      ],
      "execution_count": 0,
      "outputs": []
    },
    {
      "cell_type": "markdown",
      "metadata": {
        "colab_type": "text",
        "id": "zAv_Hgi0ovfK"
      },
      "source": [
        "### Preprocess the categorical input features\n",
        "* item_id\n",
        "* shop_id\n",
        "* <strike>date</strike> [---](#eacv2)"
      ]
    },
    {
      "cell_type": "code",
      "metadata": {
        "colab_type": "code",
        "id": "SZQ3jy5Pfye7",
        "colab": {}
      },
      "source": [
        "from sklearn.preprocessing import OneHotEncoder"
      ],
      "execution_count": 0,
      "outputs": []
    },
    {
      "cell_type": "code",
      "metadata": {
        "colab_type": "code",
        "id": "ZncX5JFUfL6a",
        "colab": {}
      },
      "source": [
        "# date_cat_1hot = OneHotEncoder().fit_transform(sales_train[[\"date\"]])\n",
        "# print(date_cat_1hot)"
      ],
      "execution_count": 0,
      "outputs": []
    },
    {
      "cell_type": "code",
      "metadata": {
        "colab_type": "code",
        "id": "zq7iOS8Umezs",
        "colab": {}
      },
      "source": [
        "item_cat_1hot = OneHotEncoder().fit_transform(sales_train_ts[[\"item_id\"]])\n",
        "# print(item_cat_1hot)"
      ],
      "execution_count": 0,
      "outputs": []
    },
    {
      "cell_type": "code",
      "metadata": {
        "colab_type": "code",
        "id": "3HQ8kespoB0a",
        "colab": {}
      },
      "source": [
        "shop_cat_1hot = OneHotEncoder().fit_transform(sales_train_ts[[\"shop_id\"]])\n",
        "# print(shop_cat_1hot)"
      ],
      "execution_count": 0,
      "outputs": []
    },
    {
      "cell_type": "code",
      "metadata": {
        "colab_type": "code",
        "id": "yj7ChRsEzen3",
        "colab": {}
      },
      "source": [
        "attr_to_be_dropped = {\n",
        "    # \"date\",\n",
        "    \"item_id\",\n",
        "    \"shop_id\"\n",
        "    }\n",
        "sales_train_num = sales_train_ts.drop(attr_to_be_dropped, axis=1)"
      ],
      "execution_count": 0,
      "outputs": []
    },
    {
      "cell_type": "code",
      "metadata": {
        "id": "1WE74GiITdBw",
        "colab_type": "code",
        "outputId": "dc1dc7de-3a91-499e-93c9-1f90b6cabcb3",
        "colab": {
          "base_uri": "https://localhost:8080/",
          "height": 402
        }
      },
      "source": [
        "sales_train_num"
      ],
      "execution_count": 122,
      "outputs": [
        {
          "output_type": "execute_result",
          "data": {
            "text/html": [
              "<div>\n",
              "<style scoped>\n",
              "    .dataframe tbody tr th:only-of-type {\n",
              "        vertical-align: middle;\n",
              "    }\n",
              "\n",
              "    .dataframe tbody tr th {\n",
              "        vertical-align: top;\n",
              "    }\n",
              "\n",
              "    .dataframe thead th {\n",
              "        text-align: right;\n",
              "    }\n",
              "</style>\n",
              "<table border=\"1\" class=\"dataframe\">\n",
              "  <thead>\n",
              "    <tr style=\"text-align: right;\">\n",
              "      <th></th>\n",
              "      <th>date_block_num</th>\n",
              "      <th>item_price</th>\n",
              "      <th>item_cnt_day</th>\n",
              "      <th>item_cnt_month</th>\n",
              "      <th>date</th>\n",
              "    </tr>\n",
              "  </thead>\n",
              "  <tbody>\n",
              "    <tr>\n",
              "      <th>0</th>\n",
              "      <td>0</td>\n",
              "      <td>999.00</td>\n",
              "      <td>1.0</td>\n",
              "      <td>2017</td>\n",
              "      <td>20130102</td>\n",
              "    </tr>\n",
              "    <tr>\n",
              "      <th>1</th>\n",
              "      <td>0</td>\n",
              "      <td>899.00</td>\n",
              "      <td>1.0</td>\n",
              "      <td>8215</td>\n",
              "      <td>20130103</td>\n",
              "    </tr>\n",
              "    <tr>\n",
              "      <th>2</th>\n",
              "      <td>0</td>\n",
              "      <td>899.00</td>\n",
              "      <td>-1.0</td>\n",
              "      <td>8215</td>\n",
              "      <td>20130105</td>\n",
              "    </tr>\n",
              "    <tr>\n",
              "      <th>3</th>\n",
              "      <td>0</td>\n",
              "      <td>1709.05</td>\n",
              "      <td>1.0</td>\n",
              "      <td>8215</td>\n",
              "      <td>20130106</td>\n",
              "    </tr>\n",
              "    <tr>\n",
              "      <th>4</th>\n",
              "      <td>0</td>\n",
              "      <td>1099.00</td>\n",
              "      <td>1.0</td>\n",
              "      <td>8215</td>\n",
              "      <td>20130115</td>\n",
              "    </tr>\n",
              "    <tr>\n",
              "      <th>...</th>\n",
              "      <td>...</td>\n",
              "      <td>...</td>\n",
              "      <td>...</td>\n",
              "      <td>...</td>\n",
              "      <td>...</td>\n",
              "    </tr>\n",
              "    <tr>\n",
              "      <th>2348674</th>\n",
              "      <td>24</td>\n",
              "      <td>1083.25</td>\n",
              "      <td>1.0</td>\n",
              "      <td>1923</td>\n",
              "      <td>20150106</td>\n",
              "    </tr>\n",
              "    <tr>\n",
              "      <th>2348675</th>\n",
              "      <td>24</td>\n",
              "      <td>1399.00</td>\n",
              "      <td>1.0</td>\n",
              "      <td>1923</td>\n",
              "      <td>20150118</td>\n",
              "    </tr>\n",
              "    <tr>\n",
              "      <th>2348676</th>\n",
              "      <td>24</td>\n",
              "      <td>1199.00</td>\n",
              "      <td>1.0</td>\n",
              "      <td>1923</td>\n",
              "      <td>20150115</td>\n",
              "    </tr>\n",
              "    <tr>\n",
              "      <th>2348677</th>\n",
              "      <td>24</td>\n",
              "      <td>149.00</td>\n",
              "      <td>1.0</td>\n",
              "      <td>1923</td>\n",
              "      <td>20150113</td>\n",
              "    </tr>\n",
              "    <tr>\n",
              "      <th>2348678</th>\n",
              "      <td>24</td>\n",
              "      <td>149.00</td>\n",
              "      <td>1.0</td>\n",
              "      <td>1923</td>\n",
              "      <td>20150123</td>\n",
              "    </tr>\n",
              "  </tbody>\n",
              "</table>\n",
              "<p>2348679 rows × 5 columns</p>\n",
              "</div>"
            ],
            "text/plain": [
              "         date_block_num  item_price  item_cnt_day  item_cnt_month      date\n",
              "0                     0      999.00           1.0            2017  20130102\n",
              "1                     0      899.00           1.0            8215  20130103\n",
              "2                     0      899.00          -1.0            8215  20130105\n",
              "3                     0     1709.05           1.0            8215  20130106\n",
              "4                     0     1099.00           1.0            8215  20130115\n",
              "...                 ...         ...           ...             ...       ...\n",
              "2348674              24     1083.25           1.0            1923  20150106\n",
              "2348675              24     1399.00           1.0            1923  20150118\n",
              "2348676              24     1199.00           1.0            1923  20150115\n",
              "2348677              24      149.00           1.0            1923  20150113\n",
              "2348678              24      149.00           1.0            1923  20150123\n",
              "\n",
              "[2348679 rows x 5 columns]"
            ]
          },
          "metadata": {
            "tags": []
          },
          "execution_count": 122
        }
      ]
    },
    {
      "cell_type": "markdown",
      "metadata": {
        "colab_type": "text",
        "id": "OfX29URxpYcw"
      },
      "source": [
        "### <strike>Add extra attr</strike>"
      ]
    },
    {
      "cell_type": "markdown",
      "metadata": {
        "colab_type": "text",
        "id": "Dj_gxfCMsD7h"
      },
      "source": [
        "I'm thinking to create a custom transformer to add extra attributes, but not for now"
      ]
    },
    {
      "cell_type": "markdown",
      "metadata": {
        "colab_type": "text",
        "id": "7dEwo8Laqzr0"
      },
      "source": [
        "### Build a pipeline for preprocessing the numerical attributes"
      ]
    },
    {
      "cell_type": "markdown",
      "metadata": {
        "id": "Nzugh41Jf2Gk",
        "colab_type": "text"
      },
      "source": [
        "#### Now let's build a pipeline for preprocessing the numerical attributes:"
      ]
    },
    {
      "cell_type": "code",
      "metadata": {
        "colab_type": "code",
        "id": "AJtOCM3j1D3R",
        "colab": {}
      },
      "source": [
        "from sklearn.pipeline import Pipeline\n",
        "from sklearn.preprocessing import StandardScaler\n",
        "from sklearn.impute import SimpleImputer\n",
        "\n",
        "num_pipeline = Pipeline([ # a small pipeline for the numerical attributes\n",
        "        ('imputer', SimpleImputer(strategy=\"median\")),\n",
        "        # ('attribs_adder', CombinedAttributesAdder()),\n",
        "        ('std_scaler', StandardScaler()),\n",
        "    ])\n",
        "\n",
        "sales_train_num_tr = num_pipeline.fit_transform(sales_train_num)"
      ],
      "execution_count": 0,
      "outputs": []
    },
    {
      "cell_type": "markdown",
      "metadata": {
        "colab_type": "text",
        "id": "63pQs_AUyGX6"
      },
      "source": [
        "In version 0.20, Scikit-Learn introduced the ColumnTransformer to have a single transformer able to handle all columns -- to avoid handle the categorical columns and the numerical columns separately\n"
      ]
    },
    {
      "cell_type": "code",
      "metadata": {
        "colab_type": "code",
        "id": "La6wB4Z5wasp",
        "colab": {}
      },
      "source": [
        "from sklearn.compose import ColumnTransformer\n",
        "\n",
        "num_attribs = list(sales_train_num)\n",
        "# item_attribs = [[\"item_id\"], [\"shop_id\"]]\n",
        "\n",
        "full_pipeline = ColumnTransformer([\n",
        "        (\"num\", num_pipeline, num_attribs),\n",
        "        # ([\"itm\", \"shp\"], OneHotEncoder(), item_attribs)\n",
        "        (\"itm\", OneHotEncoder(), [\"item_id\"]),\n",
        "        (\"shp\", OneHotEncoder(), [\"shop_id\"]),\n",
        "    ])\n",
        "\n",
        "sales_train_prepared = full_pipeline.fit_transform(sales_train_ts)"
      ],
      "execution_count": 0,
      "outputs": []
    },
    {
      "cell_type": "markdown",
      "metadata": {
        "colab_type": "text",
        "id": "e98B5X-Y0gJi"
      },
      "source": [
        "Here is how this works: first we import the ColumnTransformer class, next we get the list of numerical column names and the list of categorical column names, and we construct a ColumnTransformer. The constructor requires a list of tuples, where each tuple contains a name, a transformer and a list of names (or indices) of columns that the transformer should be applied to. \n",
        "\n",
        "In this example, we specify that the numerical columns should be transformed using the num_pipeline that we defined earlier, and the categorical columns should be transformed using a OneHotEncoder. \n",
        "\n",
        "Finally, we apply this ColumnTransformer to the **sales_train** data: it applies each transformer to the appropriate columns and concatenates the outputs along the second axis (the transformers must return the same number of rows)."
      ]
    },
    {
      "cell_type": "markdown",
      "metadata": {
        "id": "m0pKYdwaf9kA",
        "colab_type": "text"
      },
      "source": [
        "#### Now let's join all these components into a big pipeline that will preprocess both the numerical and the categorical features:"
      ]
    },
    {
      "cell_type": "code",
      "metadata": {
        "id": "OfD-EjFAe9Y0",
        "colab_type": "code",
        "colab": {}
      },
      "source": [
        "num_attribs = list(sales_train_num)\n",
        "cat_attribs = [\"item_id\", \"shop_id\"]\n",
        "\n",
        "old_num_pipeline = Pipeline([\n",
        "        ('selector', OldDataFrameSelector(num_attribs)),\n",
        "        ('imputer', SimpleImputer(strategy=\"median\")),\n",
        "        # ('attribs_adder', CombinedAttributesAdder()),\n",
        "        ('std_scaler', StandardScaler()),\n",
        "    ])\n",
        "\n",
        "old_cat_pipeline = Pipeline([\n",
        "        ('selector', OldDataFrameSelector(cat_attribs)),\n",
        "        ('cat_encoder', OneHotEncoder(sparse=False)),\n",
        "    ])"
      ],
      "execution_count": 0,
      "outputs": []
    },
    {
      "cell_type": "code",
      "metadata": {
        "id": "DSHb3LCZf_0c",
        "colab_type": "code",
        "colab": {}
      },
      "source": [
        "from sklearn.pipeline import FeatureUnion\n",
        "\n",
        "old_full_pipeline = FeatureUnion(transformer_list=[\n",
        "        (\"num_pipeline\", old_num_pipeline),\n",
        "        (\"cat_pipeline\", old_cat_pipeline),\n",
        "    ])"
      ],
      "execution_count": 0,
      "outputs": []
    },
    {
      "cell_type": "code",
      "metadata": {
        "id": "dXC-wqtugJKb",
        "colab_type": "code",
        "colab": {}
      },
      "source": [
        "old_housing_prepared = old_full_pipeline.fit_transform(housing)\n",
        "old_housing_prepared"
      ],
      "execution_count": 0,
      "outputs": []
    },
    {
      "cell_type": "code",
      "metadata": {
        "id": "5o-ricawgLZP",
        "colab_type": "code",
        "colab": {}
      },
      "source": [
        "np.allclose(housing_prepared, old_housing_prepared)"
      ],
      "execution_count": 0,
      "outputs": []
    },
    {
      "cell_type": "markdown",
      "metadata": {
        "colab_type": "text",
        "id": "xuKU4L42tRwp"
      },
      "source": [
        "---\n",
        "# The model"
      ]
    },
    {
      "cell_type": "code",
      "metadata": {
        "colab_type": "code",
        "id": "eE7bZgVPhx9k",
        "colab": {}
      },
      "source": [
        "### this is a draft\n",
        "\n",
        "# lin1 = sklearn.linear_model.LinearRegression()\n",
        "\n",
        "# Xsample1 = np.c_[sales_train_mdl[\"date_block_num\"]]\n",
        "# ysample1 = np.c_[sales_train_mdl[\"item_cnt_day\"]]\n",
        "# lin1.fit(Xsample1, ysample1)\n",
        "# t0 = lin1.intercept_[0]\n",
        "# t1 = lin1.coef_[0][0]\n",
        "\n",
        "# sales_train_mdl.plot(kind='scatter', x=\"date_block_num\", y='item_cnt_day')\n",
        "# y = np.linspace(sales_train_mdl[\"date_block_num\"].min(), sales_train_mdl[\"date_block_num\"].max())\n",
        "# # plt.plot(y, t0 + t1*y, \"r+\", alpha=1) # the trend is not visible if it's plotted here"
      ],
      "execution_count": 0,
      "outputs": []
    },
    {
      "cell_type": "code",
      "metadata": {
        "colab_type": "code",
        "id": "MhArW2sVeIYZ",
        "colab": {}
      },
      "source": [
        "### this is a draft\n",
        "\n",
        "# plt.plot(y, t0 + t1*y, \"r+\") # this describes a linear trend"
      ],
      "execution_count": 0,
      "outputs": []
    },
    {
      "cell_type": "code",
      "metadata": {
        "id": "XdnOeNIgoRmY",
        "colab_type": "code",
        "colab": {}
      },
      "source": [
        "from sklearn.linear_model import LinearRegression\n",
        "\n",
        "lin_reg = LinearRegression()\n",
        "lin_reg.fit(sales_train_prepared, housing_labels)"
      ],
      "execution_count": 0,
      "outputs": []
    },
    {
      "cell_type": "code",
      "metadata": {
        "colab_type": "code",
        "id": "CokyVkK97nx0",
        "outputId": "7d7e81bb-0bf3-481c-9ca4-e4309d8a1026",
        "colab": {
          "base_uri": "https://localhost:8080/",
          "height": 370
        }
      },
      "source": [
        "from sklearn.linear_model import LinearRegression\n",
        "\n",
        "sales_train_prepared_labels = sales_train_prepared[\"item_cnt_month\"].copy() # item_cnt_day is a predictor\n",
        "housing = strat_train_set.drop(\"median_house_value\", axis=1)\n",
        "\n",
        "lin_reg = LinearRegression()\n",
        "lin_reg.fit(sales_train_prepared, sales_train_prepared_labels)"
      ],
      "execution_count": 0,
      "outputs": [
        {
          "output_type": "error",
          "ename": "IndexError",
          "evalue": "ignored",
          "traceback": [
            "\u001b[0;31m---------------------------------------------------------------------------\u001b[0m",
            "\u001b[0;31mIndexError\u001b[0m                                Traceback (most recent call last)",
            "\u001b[0;32m<ipython-input-16-15c0b59d73a2>\u001b[0m in \u001b[0;36m<module>\u001b[0;34m()\u001b[0m\n\u001b[1;32m      1\u001b[0m \u001b[0;32mfrom\u001b[0m \u001b[0msklearn\u001b[0m\u001b[0;34m.\u001b[0m\u001b[0mlinear_model\u001b[0m \u001b[0;32mimport\u001b[0m \u001b[0mLinearRegression\u001b[0m\u001b[0;34m\u001b[0m\u001b[0;34m\u001b[0m\u001b[0m\n\u001b[1;32m      2\u001b[0m \u001b[0;34m\u001b[0m\u001b[0m\n\u001b[0;32m----> 3\u001b[0;31m \u001b[0msales_train_prepared_labels\u001b[0m \u001b[0;34m=\u001b[0m \u001b[0msales_train_prepared\u001b[0m\u001b[0;34m[\u001b[0m\u001b[0;34m\"item_cnt_month\"\u001b[0m\u001b[0;34m]\u001b[0m\u001b[0;34m.\u001b[0m\u001b[0mcopy\u001b[0m\u001b[0;34m(\u001b[0m\u001b[0;34m)\u001b[0m \u001b[0;31m# item_cnt_day is a predictor\u001b[0m\u001b[0;34m\u001b[0m\u001b[0;34m\u001b[0m\u001b[0m\n\u001b[0m\u001b[1;32m      4\u001b[0m \u001b[0mhousing\u001b[0m \u001b[0;34m=\u001b[0m \u001b[0mstrat_train_set\u001b[0m\u001b[0;34m.\u001b[0m\u001b[0mdrop\u001b[0m\u001b[0;34m(\u001b[0m\u001b[0;34m\"median_house_value\"\u001b[0m\u001b[0;34m,\u001b[0m \u001b[0maxis\u001b[0m\u001b[0;34m=\u001b[0m\u001b[0;36m1\u001b[0m\u001b[0;34m)\u001b[0m\u001b[0;34m\u001b[0m\u001b[0;34m\u001b[0m\u001b[0m\n\u001b[1;32m      5\u001b[0m \u001b[0;34m\u001b[0m\u001b[0m\n",
            "\u001b[0;32m/usr/local/lib/python3.6/dist-packages/scipy/sparse/_index.py\u001b[0m in \u001b[0;36m__getitem__\u001b[0;34m(self, key)\u001b[0m\n\u001b[1;32m     33\u001b[0m     \"\"\"\n\u001b[1;32m     34\u001b[0m     \u001b[0;32mdef\u001b[0m \u001b[0m__getitem__\u001b[0m\u001b[0;34m(\u001b[0m\u001b[0mself\u001b[0m\u001b[0;34m,\u001b[0m \u001b[0mkey\u001b[0m\u001b[0;34m)\u001b[0m\u001b[0;34m:\u001b[0m\u001b[0;34m\u001b[0m\u001b[0;34m\u001b[0m\u001b[0m\n\u001b[0;32m---> 35\u001b[0;31m         \u001b[0mrow\u001b[0m\u001b[0;34m,\u001b[0m \u001b[0mcol\u001b[0m \u001b[0;34m=\u001b[0m \u001b[0mself\u001b[0m\u001b[0;34m.\u001b[0m\u001b[0m_validate_indices\u001b[0m\u001b[0;34m(\u001b[0m\u001b[0mkey\u001b[0m\u001b[0;34m)\u001b[0m\u001b[0;34m\u001b[0m\u001b[0;34m\u001b[0m\u001b[0m\n\u001b[0m\u001b[1;32m     36\u001b[0m         \u001b[0;31m# Dispatch to specialized methods.\u001b[0m\u001b[0;34m\u001b[0m\u001b[0;34m\u001b[0m\u001b[0;34m\u001b[0m\u001b[0m\n\u001b[1;32m     37\u001b[0m         \u001b[0;32mif\u001b[0m \u001b[0misinstance\u001b[0m\u001b[0;34m(\u001b[0m\u001b[0mrow\u001b[0m\u001b[0;34m,\u001b[0m \u001b[0mINT_TYPES\u001b[0m\u001b[0;34m)\u001b[0m\u001b[0;34m:\u001b[0m\u001b[0;34m\u001b[0m\u001b[0;34m\u001b[0m\u001b[0m\n",
            "\u001b[0;32m/usr/local/lib/python3.6/dist-packages/scipy/sparse/_index.py\u001b[0m in \u001b[0;36m_validate_indices\u001b[0;34m(self, key)\u001b[0m\n\u001b[1;32m    137\u001b[0m                 \u001b[0mrow\u001b[0m \u001b[0;34m+=\u001b[0m \u001b[0mM\u001b[0m\u001b[0;34m\u001b[0m\u001b[0;34m\u001b[0m\u001b[0m\n\u001b[1;32m    138\u001b[0m         \u001b[0;32melif\u001b[0m \u001b[0;32mnot\u001b[0m \u001b[0misinstance\u001b[0m\u001b[0;34m(\u001b[0m\u001b[0mrow\u001b[0m\u001b[0;34m,\u001b[0m \u001b[0mslice\u001b[0m\u001b[0;34m)\u001b[0m\u001b[0;34m:\u001b[0m\u001b[0;34m\u001b[0m\u001b[0;34m\u001b[0m\u001b[0m\n\u001b[0;32m--> 139\u001b[0;31m             \u001b[0mrow\u001b[0m \u001b[0;34m=\u001b[0m \u001b[0mself\u001b[0m\u001b[0;34m.\u001b[0m\u001b[0m_asindices\u001b[0m\u001b[0;34m(\u001b[0m\u001b[0mrow\u001b[0m\u001b[0;34m,\u001b[0m \u001b[0mM\u001b[0m\u001b[0;34m)\u001b[0m\u001b[0;34m\u001b[0m\u001b[0;34m\u001b[0m\u001b[0m\n\u001b[0m\u001b[1;32m    140\u001b[0m \u001b[0;34m\u001b[0m\u001b[0m\n\u001b[1;32m    141\u001b[0m         \u001b[0;32mif\u001b[0m \u001b[0misintlike\u001b[0m\u001b[0;34m(\u001b[0m\u001b[0mcol\u001b[0m\u001b[0;34m)\u001b[0m\u001b[0;34m:\u001b[0m\u001b[0;34m\u001b[0m\u001b[0;34m\u001b[0m\u001b[0m\n",
            "\u001b[0;32m/usr/local/lib/python3.6/dist-packages/scipy/sparse/_index.py\u001b[0m in \u001b[0;36m_asindices\u001b[0;34m(self, idx, length)\u001b[0m\n\u001b[1;32m    161\u001b[0m \u001b[0;34m\u001b[0m\u001b[0m\n\u001b[1;32m    162\u001b[0m         \u001b[0;32mif\u001b[0m \u001b[0mx\u001b[0m\u001b[0;34m.\u001b[0m\u001b[0mndim\u001b[0m \u001b[0;32mnot\u001b[0m \u001b[0;32min\u001b[0m \u001b[0;34m(\u001b[0m\u001b[0;36m1\u001b[0m\u001b[0;34m,\u001b[0m \u001b[0;36m2\u001b[0m\u001b[0;34m)\u001b[0m\u001b[0;34m:\u001b[0m\u001b[0;34m\u001b[0m\u001b[0;34m\u001b[0m\u001b[0m\n\u001b[0;32m--> 163\u001b[0;31m             \u001b[0;32mraise\u001b[0m \u001b[0mIndexError\u001b[0m\u001b[0;34m(\u001b[0m\u001b[0;34m'Index dimension must be <= 2'\u001b[0m\u001b[0;34m)\u001b[0m\u001b[0;34m\u001b[0m\u001b[0;34m\u001b[0m\u001b[0m\n\u001b[0m\u001b[1;32m    164\u001b[0m \u001b[0;34m\u001b[0m\u001b[0m\n\u001b[1;32m    165\u001b[0m         \u001b[0;32mif\u001b[0m \u001b[0mx\u001b[0m\u001b[0;34m.\u001b[0m\u001b[0msize\u001b[0m \u001b[0;34m==\u001b[0m \u001b[0;36m0\u001b[0m\u001b[0;34m:\u001b[0m\u001b[0;34m\u001b[0m\u001b[0;34m\u001b[0m\u001b[0m\n",
            "\u001b[0;31mIndexError\u001b[0m: Index dimension must be <= 2"
          ]
        }
      ]
    },
    {
      "cell_type": "markdown",
      "metadata": {
        "colab_type": "text",
        "id": "ZSpgjAEIIvsb"
      },
      "source": [
        "---\n",
        "the other data from the CSVs &darr;"
      ]
    },
    {
      "cell_type": "code",
      "metadata": {
        "colab_type": "code",
        "id": "6cwjexowIvsc",
        "colab": {}
      },
      "source": [
        "item_categories = pd.read_csv(os.path.abspath(os.path.join('input', 'item_categories.csv')))\n",
        "items = pd.read_csv(os.path.abspath(os.path.join('input', 'items.csv')))\n",
        "sample_submission = pd.read_csv(os.path.abspath(os.path.join('input', 'sample_submission.csv')))\n",
        "shops = pd.read_csv(os.path.abspath(os.path.join('input', 'shops.csv')))\n",
        "test = pd.read_csv(os.path.abspath(os.path.join('input', 'test.csv')))"
      ],
      "execution_count": 0,
      "outputs": []
    },
    {
      "cell_type": "code",
      "metadata": {
        "colab_type": "code",
        "id": "WFe2k4y6Ivse",
        "colab": {}
      },
      "source": [
        "item_categories.info()\n",
        "item_categories.describe(include='all')"
      ],
      "execution_count": 0,
      "outputs": []
    },
    {
      "cell_type": "code",
      "metadata": {
        "colab_type": "code",
        "id": "yoj1oLJWIvsg",
        "colab": {}
      },
      "source": [
        "items.info()\n",
        "items.describe(include='all')"
      ],
      "execution_count": 0,
      "outputs": []
    },
    {
      "cell_type": "code",
      "metadata": {
        "colab_type": "code",
        "id": "hotashVCIvsj",
        "colab": {}
      },
      "source": [
        "sample_submission.info()\n",
        "sample_submission.describe(include='all')"
      ],
      "execution_count": 0,
      "outputs": []
    },
    {
      "cell_type": "code",
      "metadata": {
        "colab_type": "code",
        "id": "KkIfhMuxIvsn",
        "colab": {}
      },
      "source": [
        "shops.info()\n",
        "shops.describe(include='all')"
      ],
      "execution_count": 0,
      "outputs": []
    },
    {
      "cell_type": "code",
      "metadata": {
        "colab_type": "code",
        "id": "Il42wrl4Ivsq",
        "colab": {}
      },
      "source": [
        "test.info()\n",
        "test.describe(include='all')"
      ],
      "execution_count": 0,
      "outputs": []
    },
    {
      "cell_type": "markdown",
      "metadata": {
        "colab_type": "text",
        "id": "_rbCmYtgIvss"
      },
      "source": [
        "---\n",
        "the other data from the CSVs &uarr;"
      ]
    },
    {
      "cell_type": "code",
      "metadata": {
        "colab_type": "code",
        "id": "I4eAsDTwIvst",
        "colab": {}
      },
      "source": [
        "train_set.info()"
      ],
      "execution_count": 0,
      "outputs": []
    },
    {
      "cell_type": "code",
      "metadata": {
        "colab_type": "code",
        "id": "TZHgJghJIvsv",
        "colab": {}
      },
      "source": [
        "# train_set.plot(kind=\"scatter\", x=\"date_block_num\", y=\"item_cnt_day\")\n",
        "\n",
        "# -- or --\n",
        "plt.scatter(train_set[\"date_block_num\"], train_set[\"item_cnt_day\"]) # in the notebook this gets stuck...\n",
        "plt.show()"
      ],
      "execution_count": 0,
      "outputs": []
    },
    {
      "cell_type": "markdown",
      "metadata": {
        "colab_type": "text",
        "id": "brphqakCIvsz"
      },
      "source": [
        "Select a Performance Measure -- A typical performance measure for regression problems is the Root Mean Square Error (RMSE). It gives an idea of how much error the system typically makes in its predictions, with a higher weight for large errors.\n",
        "\n",
        "`todo`"
      ]
    }
  ]
}