{
  "nbformat": 4,
  "nbformat_minor": 0,
  "metadata": {
    "language_info": {
      "name": "python",
      "codemirror_mode": {
        "name": "ipython",
        "version": 3
      },
      "version": "3.7.0-final"
    },
    "orig_nbformat": 2,
    "file_extension": ".py",
    "mimetype": "text/x-python",
    "name": "python",
    "npconvert_exporter": "python",
    "pygments_lexer": "ipython3",
    "version": 3,
    "kernelspec": {
      "name": "python37064bitmlenvvirtualenv89d51da7758947d6bdf3bbc1d7425a20",
      "display_name": "Python 3.7.0 64-bit ('ml_env': virtualenv)"
    },
    "colab": {
      "name": "01_kernel_nb.ipynb",
      "provenance": [],
      "include_colab_link": true
    }
  },
  "cells": [
    {
      "cell_type": "markdown",
      "metadata": {
        "colab_type": "text",
        "id": "view-in-github"
      },
      "source": [
        "<a href=\"https://colab.research.google.com/github/nyculescu/kaggle__competitive_data_science_predict_future_sales/blob/master/01_kernel_nb.ipynb\" target=\"_parent\"><img src=\"https://colab.research.google.com/assets/colab-badge.svg\" alt=\"Open In Colab\"/></a>"
      ]
    },
    {
      "cell_type": "code",
      "execution_count": 0,
      "metadata": {
        "colab": {},
        "colab_type": "code",
        "id": "Y67uLRbtIvrj"
      },
      "outputs": [],
      "source": [
        "# This Python 3 environment comes with many helpful analytics libraries installed\n",
        "# It is defined by the kaggle/python docker image: https://github.com/kaggle/docker-python\n",
        "# For example, here's several helpful packages to load in \n",
        "\n",
        "import numpy as np # linear algebra\n",
        "import pandas as pd # data processing, CSV file I/O (e.g. pd.read_csv)\n",
        "\n",
        "# Input data files are available in the \"../input/\" directory.\n",
        "# For example, running this (by clicking run or pressing Shift+Enter) will list all files under the input directory\n",
        "\n",
        "import os\n",
        "for dirname, _, filenames in os.walk('input'):\n",
        "    for filename in filenames:\n",
        "        print(os.path.join(dirname, filename))\n",
        "\n",
        "# Any results you write to the current directory are saved as output."
      ]
    },
    {
      "cell_type": "markdown",
      "metadata": {
        "colab_type": "text",
        "id": "oUfflf4mIvtE"
      },
      "source": [
        "### Input files\n",
        "\n",
        "* shops.csv- supplemental information about the shops -- `61 entries`\n",
        "    * shop_name (e.g., \"СПб ТК \"\"Сенная\"\"\")\n",
        "    * shop_id (e.g., 43)\n",
        "\n",
        "* item_categories.csv  - supplemental information about the items categories -- `85 entries`\n",
        "    * item_category_name (e.g., Кино - DVD)\n",
        "    * item_category_id (e.g., 40)\n",
        "\n",
        "* items.csv - supplemental information about the items/products -- `22.171 entries`\n",
        "    * item_name (e.g., 1812: 4 СЕРИИ (регион))\n",
        "    * item_id (e.g., 97)\n",
        "    * item_category_id (e.g., 40)\n",
        "\n",
        "* sales_train.csv - the training set. Daily historical data from January 2013 to October 2015 -- `2.935.850 entries from which 587.170 entries (20%) should be allotted to the training set`\n",
        "    * date (e.g., 23.02.2013)\n",
        "    * date_block_num (e.g., 1)\n",
        "    * shop_id (e.g., 43)\n",
        "    * item_id (e.g., 97)\n",
        "    * item_price (e.g., 149.0)\n",
        "    * item_cnt_day (e.g., 1.0)\n",
        "\n",
        "* sample_submission.csv - a sample submission file in the correct format -- `214.201 entries`\n",
        "    * ID (e.g., 0)\n",
        "    * item_cnt_month (e.g., 0.5)\n",
        "\n",
        "* test.csv - the test set. You need to forecast the sales for these shops and products for November 2015 -- `214.201 entries`\n",
        "    * ID (e.g., 0)\n",
        "    * shop_id (e.g., 43)\n",
        "    * item_id (e.g., 97)\n"
      ]
    },
    {
      "cell_type": "markdown",
      "metadata": {
        "colab_type": "text",
        "id": "hIUr2Gru_ut3"
      },
      "source": [
        "### Data fields\n",
        "* ID - an Id that represents a (Shop, Item) tuple within the test set\n",
        "* shop_id - unique identifier of a shop\n",
        "* item_id - unique identifier of a product\n",
        "* item_category_id - unique identifier of item category\n",
        "* item_cnt_day - number of products sold. You are predicting a monthly amount of this measure\n",
        "* item_price - current price of an item\n",
        "* date - date in format dd/mm/yyyy\n",
        "* date_block_num - a consecutive month number, used for convenience. January 2013 is 0, February 2013 is 1,..., October 2015 is 33\n",
        "* item_name - name of item\n",
        "* shop_name - name of shop\n",
        "* item_category_name - name of item category"
      ]
    },
    {
      "cell_type": "markdown",
      "metadata": {
        "colab_type": "text",
        "id": "ZEaot8MFIvrr"
      },
      "source": [
        "### The objective: what needs to be done?\n",
        "The task is to forecast the total amount of products sold in every shop for the test set.\n",
        "\n",
        "! Note that the list of shops and products slightly changes every month.\n"
      ]
    },
    {
      "cell_type": "markdown",
      "metadata": {
        "colab_type": "text",
        "id": "bu4pWprZ_LCj"
      },
      "source": [
        "### Frame this problem\n",
        "* typical supervised learning task - we have the labeled training examples\n",
        "* typical regression task - we're asked to predict a value\n",
        "    * multiple regression problem (value prediction) - the system will use multiple features to make a prediction\n",
        "    * also univariate regression problem - we're only trying to predict a single value (*total amount of products sold*) in every *shop*\n",
        "* plain batch learning - we don't have a continuous flow of data coming to the system - the data doesn't need to be adjusted rapidly, and the data is small enoug to fit in memory (`is it so?`)"
      ]
    },
    {
      "cell_type": "markdown",
      "metadata": {
        "colab_type": "text",
        "id": "mjFytufPwFxh"
      },
      "source": [
        "Select a Performance Measure -- A typical performance measure for regression problems is the Root Mean Square Error (RMSE). It gives an idea of how much error the system typically makes in its predictions, with a higher weight for large errors.\n",
        "\n",
        "`todo`"
      ]
    },
    {
      "cell_type": "markdown",
      "metadata": {
        "colab_type": "text",
        "id": "pPp8aEtSCUuo"
      },
      "source": [
        "---\n",
        "# Setup"
      ]
    },
    {
      "cell_type": "code",
      "execution_count": 1,
      "metadata": {},
      "outputs": [
        {
          "name": "stderr",
          "output_type": "stream",
          "text": "d:\\work\\ml\\handson-ml2\\ml_env\\lib\\site-packages\\sklearn\\externals\\joblib\\__init__.py:15: FutureWarning: sklearn.externals.joblib is deprecated in 0.21 and will be removed in 0.23. Please import this functionality directly from joblib, which can be installed with: pip install joblib. If this warning is raised when loading pickled models, you may need to re-serialize those models with scikit-learn 0.21+.\n  warnings.warn(msg, category=FutureWarning)\n"
        }
      ],
      "source": [
        "# Python ≥3.5 is required\n",
        "import sys\n",
        "assert sys.version_info >= (3, 5)\n",
        "\n",
        "\n",
        "# Scikit-Learn ≥0.20 is required\n",
        "import sklearn\n",
        "assert sklearn.__version__ >= \"0.20\"\n",
        "\n",
        "\n",
        "# Common imports\n",
        "import numpy as np\n",
        "import os\n",
        "import csv\n",
        "import pandas as pd\n",
        "from pandas.plotting import scatter_matrix\n",
        "import datetime\n",
        "from sklearn.externals import joblib\n",
        "from sklearn.metrics import mean_squared_error\n",
        "\n",
        "# To plot pretty figures\n",
        "%matplotlib inline\n",
        "import matplotlib as mpl\n",
        "import matplotlib.pyplot as plt\n",
        "mpl.rc('axes', labelsize=14)\n",
        "mpl.rc('xtick', labelsize=12)\n",
        "mpl.rc('ytick', labelsize=12)\n",
        "\n",
        "\n",
        "# Where to save the figures\n",
        "PROJECT_ROOT_DIR = \".\"\n",
        "CHAPTER_ID = \"kaggle__competitive_data_science_predict_future_sales\"\n",
        "IMAGES_PATH = os.path.join(PROJECT_ROOT_DIR, \"images\", CHAPTER_ID)\n",
        "os.makedirs(IMAGES_PATH, exist_ok=True)\n",
        "\n",
        "def save_fig(fig_id, tight_layout=True, fig_extension=\"png\", resolution=300):\n",
        "    path = os.path.join(IMAGES_PATH, fig_id + \".\" + fig_extension)\n",
        "    print(\"Saving figure\", fig_id)\n",
        "    if tight_layout:\n",
        "        plt.tight_layout()\n",
        "    plt.savefig(path, format=fig_extension, dpi=resolution)\n",
        "\n",
        "\n",
        "# Ignore useless warnings (see SciPy issue #5998)\n",
        "import warnings\n",
        "warnings.filterwarnings(action=\"ignore\", message=\"^internal gelsd\")\n",
        "\n",
        "\n",
        "# Print the entire number in Python from describe() function, but only for the numeric data\n",
        "def describe_entire_nrs(datafr):\n",
        "    desc = datafr.describe() # include='all' will not work\n",
        "    desc.loc['count'] = desc.loc['count'].astype(int).astype(str)\n",
        "    desc.iloc[1:] = desc.iloc[1:].applymap('{:.2f}'.format)\n",
        "    return desc\n",
        "\n",
        "\n",
        "# Used to generate the test set\n",
        "\n",
        "from zlib import crc32\n",
        "\n",
        "def test_set_check(identifier, test_ratio):\n",
        "    return crc32(np.int64(identifier)) & 0xffffffff < test_ratio * 2**32\n",
        "\n",
        "def split_train_test_by_id(data, test_ratio, id_column):\n",
        "    ids = data[id_column]\n",
        "    in_test_set = ids.apply(lambda id_: test_set_check(id_, test_ratio))\n",
        "    return data.loc[~in_test_set], data.loc[in_test_set]\n",
        "\n",
        "colab_path = \"drive/My Drive/Colab Notebooks/kaggle_competitive_data_science_predict_future_sales\"\n",
        "\n",
        "# -"
      ]
    },
    {
      "cell_type": "markdown",
      "metadata": {
        "colab_type": "text",
        "id": "coY5KPDE_78v"
      },
      "source": [
        "---\n",
        "### Colab"
      ]
    },
    {
      "cell_type": "code",
      "execution_count": 23,
      "metadata": {
        "colab": {
          "base_uri": "https://localhost:8080/",
          "height": 34
        },
        "colab_type": "code",
        "id": "UZiUVhz3LXcN",
        "outputId": "f8279ca8-e693-498b-ba38-5ce7a7aea76e"
      },
      "outputs": [
        {
          "name": "stdout",
          "output_type": "stream",
          "text": [
            "Drive already mounted at /content/drive; to attempt to forcibly remount, call drive.mount(\"/content/drive\", force_remount=True).\n"
          ]
        }
      ],
      "source": [
        "from google.colab import drive\n",
        "drive.mount('/content/drive')\n",
        "\n",
        "sales_train = pd.read_csv('%sdatasets/sales_train.csv' % colab_path)"
      ]
    },
    {
      "cell_type": "markdown",
      "metadata": {
        "colab_type": "text",
        "id": "QF9k4-OYABYX"
      },
      "source": [
        "---\n",
        "### VS Code"
      ]
    },
    {
      "cell_type": "code",
      "execution_count": 2,
      "metadata": {},
      "outputs": [],
      "source": [
        "sales_train = pd.read_csv(os.path.abspath(os.path.join('input', 'sales_train.csv')))"
      ]
    },
    {
      "cell_type": "markdown",
      "metadata": {
        "colab_type": "text",
        "id": "LbUjKspd_aqr"
      },
      "source": [
        "---\n",
        "# Get the data & Discover and visualize the data to gain insights"
      ]
    },
    {
      "cell_type": "markdown",
      "metadata": {
        "colab_type": "text",
        "id": "sfsdJr4_ATlw"
      },
      "source": [
        "## Analyze the data added"
      ]
    },
    {
      "cell_type": "code",
      "execution_count": 0,
      "metadata": {
        "colab": {
          "base_uri": "https://localhost:8080/",
          "height": 419
        },
        "colab_type": "code",
        "id": "twQC--qrIvrv",
        "outputId": "9a5de240-0f70-4cd1-db2e-4feda5eb7224"
      },
      "outputs": [
        {
          "data": {
            "text/html": [
              "<div>\n",
              "<style scoped>\n",
              "    .dataframe tbody tr th:only-of-type {\n",
              "        vertical-align: middle;\n",
              "    }\n",
              "\n",
              "    .dataframe tbody tr th {\n",
              "        vertical-align: top;\n",
              "    }\n",
              "\n",
              "    .dataframe thead th {\n",
              "        text-align: right;\n",
              "    }\n",
              "</style>\n",
              "<table border=\"1\" class=\"dataframe\">\n",
              "  <thead>\n",
              "    <tr style=\"text-align: right;\">\n",
              "      <th></th>\n",
              "      <th>date</th>\n",
              "      <th>date_block_num</th>\n",
              "      <th>shop_id</th>\n",
              "      <th>item_id</th>\n",
              "      <th>item_price</th>\n",
              "      <th>item_cnt_day</th>\n",
              "    </tr>\n",
              "  </thead>\n",
              "  <tbody>\n",
              "    <tr>\n",
              "      <th>0</th>\n",
              "      <td>02.01.2013</td>\n",
              "      <td>0</td>\n",
              "      <td>59</td>\n",
              "      <td>22154</td>\n",
              "      <td>999.00</td>\n",
              "      <td>1.0</td>\n",
              "    </tr>\n",
              "    <tr>\n",
              "      <th>1</th>\n",
              "      <td>03.01.2013</td>\n",
              "      <td>0</td>\n",
              "      <td>25</td>\n",
              "      <td>2552</td>\n",
              "      <td>899.00</td>\n",
              "      <td>1.0</td>\n",
              "    </tr>\n",
              "    <tr>\n",
              "      <th>2</th>\n",
              "      <td>05.01.2013</td>\n",
              "      <td>0</td>\n",
              "      <td>25</td>\n",
              "      <td>2552</td>\n",
              "      <td>899.00</td>\n",
              "      <td>-1.0</td>\n",
              "    </tr>\n",
              "    <tr>\n",
              "      <th>3</th>\n",
              "      <td>06.01.2013</td>\n",
              "      <td>0</td>\n",
              "      <td>25</td>\n",
              "      <td>2554</td>\n",
              "      <td>1709.05</td>\n",
              "      <td>1.0</td>\n",
              "    </tr>\n",
              "    <tr>\n",
              "      <th>4</th>\n",
              "      <td>15.01.2013</td>\n",
              "      <td>0</td>\n",
              "      <td>25</td>\n",
              "      <td>2555</td>\n",
              "      <td>1099.00</td>\n",
              "      <td>1.0</td>\n",
              "    </tr>\n",
              "    <tr>\n",
              "      <th>...</th>\n",
              "      <td>...</td>\n",
              "      <td>...</td>\n",
              "      <td>...</td>\n",
              "      <td>...</td>\n",
              "      <td>...</td>\n",
              "      <td>...</td>\n",
              "    </tr>\n",
              "    <tr>\n",
              "      <th>2935839</th>\n",
              "      <td>24.10.2015</td>\n",
              "      <td>33</td>\n",
              "      <td>25</td>\n",
              "      <td>7315</td>\n",
              "      <td>399.00</td>\n",
              "      <td>1.0</td>\n",
              "    </tr>\n",
              "    <tr>\n",
              "      <th>2935840</th>\n",
              "      <td>31.10.2015</td>\n",
              "      <td>33</td>\n",
              "      <td>25</td>\n",
              "      <td>7409</td>\n",
              "      <td>299.00</td>\n",
              "      <td>1.0</td>\n",
              "    </tr>\n",
              "    <tr>\n",
              "      <th>2935841</th>\n",
              "      <td>11.10.2015</td>\n",
              "      <td>33</td>\n",
              "      <td>25</td>\n",
              "      <td>7393</td>\n",
              "      <td>349.00</td>\n",
              "      <td>1.0</td>\n",
              "    </tr>\n",
              "    <tr>\n",
              "      <th>2935842</th>\n",
              "      <td>10.10.2015</td>\n",
              "      <td>33</td>\n",
              "      <td>25</td>\n",
              "      <td>7384</td>\n",
              "      <td>749.00</td>\n",
              "      <td>1.0</td>\n",
              "    </tr>\n",
              "    <tr>\n",
              "      <th>2935843</th>\n",
              "      <td>09.10.2015</td>\n",
              "      <td>33</td>\n",
              "      <td>25</td>\n",
              "      <td>7409</td>\n",
              "      <td>299.00</td>\n",
              "      <td>1.0</td>\n",
              "    </tr>\n",
              "  </tbody>\n",
              "</table>\n",
              "<p>2935844 rows × 6 columns</p>\n",
              "</div>"
            ],
            "text/plain": [
              "               date  date_block_num  shop_id  item_id  item_price  item_cnt_day\n",
              "0        02.01.2013               0       59    22154      999.00           1.0\n",
              "1        03.01.2013               0       25     2552      899.00           1.0\n",
              "2        05.01.2013               0       25     2552      899.00          -1.0\n",
              "3        06.01.2013               0       25     2554     1709.05           1.0\n",
              "4        15.01.2013               0       25     2555     1099.00           1.0\n",
              "...             ...             ...      ...      ...         ...           ...\n",
              "2935839  24.10.2015              33       25     7315      399.00           1.0\n",
              "2935840  31.10.2015              33       25     7409      299.00           1.0\n",
              "2935841  11.10.2015              33       25     7393      349.00           1.0\n",
              "2935842  10.10.2015              33       25     7384      749.00           1.0\n",
              "2935843  09.10.2015              33       25     7409      299.00           1.0\n",
              "\n",
              "[2935844 rows x 6 columns]"
            ]
          },
          "execution_count": 23,
          "metadata": {
            "tags": []
          },
          "output_type": "execute_result"
        }
      ],
      "source": [
        "sales_train.head()\n",
        "sales_train.head(-5)"
      ]
    },
    {
      "cell_type": "markdown",
      "metadata": {
        "colab_type": "text",
        "id": "j0JY2-_ntmrC"
      },
      "source": [
        "copy head()'s output into https://www.tablesgenerator.com/markdown_tables#\n",
        "\n",
        "| idx | date       | date_block_num | shop_id | item_id | item_price | item_cnt_day |\n",
        "|-----|------------|----------------|---------|---------|------------|--------------|\n",
        "| 0   | 02.01.2013 | 0              | 59      | 22154   | 999.00     | 1.0          |\n",
        "| 1   | 03.01.2013 | 0              | 25      | 2552    | 899.00     | 1.0          |\n",
        "| 2   | 05.01.2013 | 0              | 25      | 2552    | 899.00     | -1.0         |\n",
        "| 3   | 06.01.2013 | 0              | 25      | 2554    | 1709.05    | 1.0          |\n",
        "| 4   | 15.01.2013 | 0              | 25      | 2555    | 1099.00    | 1.0          |\n",
        "|     |            |                |         |         |            |              |"
      ]
    },
    {
      "cell_type": "code",
      "execution_count": 0,
      "metadata": {
        "colab": {
          "base_uri": "https://localhost:8080/",
          "height": 204
        },
        "colab_type": "code",
        "id": "ruMNgnnmIvrz",
        "outputId": "a1e6c644-9d25-48a4-a3ad-16d31198fa3e"
      },
      "outputs": [
        {
          "name": "stdout",
          "output_type": "stream",
          "text": [
            "<class 'pandas.core.frame.DataFrame'>\n",
            "RangeIndex: 2935849 entries, 0 to 2935848\n",
            "Data columns (total 6 columns):\n",
            "date              object\n",
            "date_block_num    int64\n",
            "shop_id           int64\n",
            "item_id           int64\n",
            "item_price        float64\n",
            "item_cnt_day      float64\n",
            "dtypes: float64(2), int64(3), object(1)\n",
            "memory usage: 134.4+ MB\n"
          ]
        }
      ],
      "source": [
        "sales_train.info()"
      ]
    },
    {
      "cell_type": "code",
      "execution_count": 0,
      "metadata": {
        "colab": {
          "base_uri": "https://localhost:8080/",
          "height": 153
        },
        "colab_type": "code",
        "id": "TUcc5ShcIvr1",
        "outputId": "d2545f08-be00-416a-ea1e-4788e125f077"
      },
      "outputs": [
        {
          "data": {
            "text/plain": [
              "Index                   128\n",
              "date              196701883\n",
              "date_block_num     23486792\n",
              "shop_id            23486792\n",
              "item_id            23486792\n",
              "item_price         23486792\n",
              "item_cnt_day       23486792\n",
              "dtype: int64"
            ]
          },
          "execution_count": 25,
          "metadata": {
            "tags": []
          },
          "output_type": "execute_result"
        }
      ],
      "source": [
        "# see the amount of memory used (in bytes) for each column. \n",
        "# It’s useful when building machine learning models which may require a lot memory in training.\n",
        "sales_train.memory_usage(deep=True)"
      ]
    },
    {
      "cell_type": "markdown",
      "metadata": {
        "colab_type": "text",
        "id": "_EVd6BmWIvr4"
      },
      "source": [
        "We can find out what categories exist and how many districts belong to each category by using the value_counts() method, but we know them already (form the description)"
      ]
    },
    {
      "cell_type": "code",
      "execution_count": 0,
      "metadata": {
        "colab": {},
        "colab_type": "code",
        "id": "SJvJD5xOIvr5"
      },
      "outputs": [],
      "source": [
        "# For numeric data, the result’s index will include count, mean, std, min, max as well as lower, 50 and upper percentiles.\n",
        "# For object data (e.g. strings or timestamps), the result’s index will include count, unique, top, and freq. The top is the most common value. The freq is the most common value’s frequency. Timestamps also include the first and last items.\n",
        "\n",
        "sales_train.describe(include='all')"
      ]
    },
    {
      "cell_type": "code",
      "execution_count": 0,
      "metadata": {
        "colab": {
          "base_uri": "https://localhost:8080/",
          "height": 297
        },
        "colab_type": "code",
        "id": "ehYz5aBXIvsF",
        "outputId": "4a5d4378-e305-4128-c0f2-eefe6a048d85"
      },
      "outputs": [
        {
          "data": {
            "text/html": [
              "<div>\n",
              "<style scoped>\n",
              "    .dataframe tbody tr th:only-of-type {\n",
              "        vertical-align: middle;\n",
              "    }\n",
              "\n",
              "    .dataframe tbody tr th {\n",
              "        vertical-align: top;\n",
              "    }\n",
              "\n",
              "    .dataframe thead th {\n",
              "        text-align: right;\n",
              "    }\n",
              "</style>\n",
              "<table border=\"1\" class=\"dataframe\">\n",
              "  <thead>\n",
              "    <tr style=\"text-align: right;\">\n",
              "      <th></th>\n",
              "      <th>date_block_num</th>\n",
              "      <th>shop_id</th>\n",
              "      <th>item_id</th>\n",
              "      <th>item_price</th>\n",
              "      <th>item_cnt_day</th>\n",
              "    </tr>\n",
              "  </thead>\n",
              "  <tbody>\n",
              "    <tr>\n",
              "      <th>count</th>\n",
              "      <td>2935849</td>\n",
              "      <td>2935849</td>\n",
              "      <td>2935849</td>\n",
              "      <td>2935849</td>\n",
              "      <td>2935849</td>\n",
              "    </tr>\n",
              "    <tr>\n",
              "      <th>mean</th>\n",
              "      <td>14.57</td>\n",
              "      <td>33.00</td>\n",
              "      <td>10197.23</td>\n",
              "      <td>890.85</td>\n",
              "      <td>1.24</td>\n",
              "    </tr>\n",
              "    <tr>\n",
              "      <th>std</th>\n",
              "      <td>9.42</td>\n",
              "      <td>16.23</td>\n",
              "      <td>6324.30</td>\n",
              "      <td>1729.80</td>\n",
              "      <td>2.62</td>\n",
              "    </tr>\n",
              "    <tr>\n",
              "      <th>min</th>\n",
              "      <td>0.00</td>\n",
              "      <td>0.00</td>\n",
              "      <td>0.00</td>\n",
              "      <td>-1.00</td>\n",
              "      <td>-22.00</td>\n",
              "    </tr>\n",
              "    <tr>\n",
              "      <th>25%</th>\n",
              "      <td>7.00</td>\n",
              "      <td>22.00</td>\n",
              "      <td>4476.00</td>\n",
              "      <td>249.00</td>\n",
              "      <td>1.00</td>\n",
              "    </tr>\n",
              "    <tr>\n",
              "      <th>50%</th>\n",
              "      <td>14.00</td>\n",
              "      <td>31.00</td>\n",
              "      <td>9343.00</td>\n",
              "      <td>399.00</td>\n",
              "      <td>1.00</td>\n",
              "    </tr>\n",
              "    <tr>\n",
              "      <th>75%</th>\n",
              "      <td>23.00</td>\n",
              "      <td>47.00</td>\n",
              "      <td>15684.00</td>\n",
              "      <td>999.00</td>\n",
              "      <td>1.00</td>\n",
              "    </tr>\n",
              "    <tr>\n",
              "      <th>max</th>\n",
              "      <td>33.00</td>\n",
              "      <td>59.00</td>\n",
              "      <td>22169.00</td>\n",
              "      <td>307980.00</td>\n",
              "      <td>2169.00</td>\n",
              "    </tr>\n",
              "  </tbody>\n",
              "</table>\n",
              "</div>"
            ],
            "text/plain": [
              "      date_block_num  shop_id   item_id item_price item_cnt_day\n",
              "count        2935849  2935849   2935849    2935849      2935849\n",
              "mean           14.57    33.00  10197.23     890.85         1.24\n",
              "std             9.42    16.23   6324.30    1729.80         2.62\n",
              "min             0.00     0.00      0.00      -1.00       -22.00\n",
              "25%             7.00    22.00   4476.00     249.00         1.00\n",
              "50%            14.00    31.00   9343.00     399.00         1.00\n",
              "75%            23.00    47.00  15684.00     999.00         1.00\n",
              "max            33.00    59.00  22169.00  307980.00      2169.00"
            ]
          },
          "execution_count": 26,
          "metadata": {
            "tags": []
          },
          "output_type": "execute_result"
        }
      ],
      "source": [
        "describe_entire_nrs(sales_train)"
      ]
    },
    {
      "cell_type": "code",
      "execution_count": 0,
      "metadata": {
        "colab": {
          "base_uri": "https://localhost:8080/",
          "height": 1000
        },
        "colab_type": "code",
        "id": "gPiC8KxxIvsJ",
        "outputId": "25bc8014-8139-43a9-e3cd-50587e7fce5f"
      },
      "outputs": [
        {
          "data": {
            "text/plain": [
              "array([[<matplotlib.axes._subplots.AxesSubplot object at 0x7f13062d1518>,\n",
              "        <matplotlib.axes._subplots.AxesSubplot object at 0x7f13062a0630>],\n",
              "       [<matplotlib.axes._subplots.AxesSubplot object at 0x7f1306251be0>,\n",
              "        <matplotlib.axes._subplots.AxesSubplot object at 0x7f130620c1d0>],\n",
              "       [<matplotlib.axes._subplots.AxesSubplot object at 0x7f13061b7780>,\n",
              "        <matplotlib.axes._subplots.AxesSubplot object at 0x7f13061e5d30>]],\n",
              "      dtype=object)"
            ]
          },
          "execution_count": 12,
          "metadata": {
            "tags": []
          },
          "output_type": "execute_result"
        },
        {
          "data": {
            "image/png": "[encoded data removed]",
            "text/plain": [
              "<Figure size 1440x1080 with 6 Axes>"
            ]
          },
          "metadata": {
            "tags": []
          },
          "output_type": "display_data"
        }
      ],
      "source": [
        "sales_train.hist(bins=50, figsize=(20,15))\n",
        "# plt.show()"
      ]
    },
    {
      "cell_type": "markdown",
      "metadata": {
        "colab_type": "text",
        "id": "WpXWmVMTIvsN"
      },
      "source": [
        "observations on th plotted dataframe:\n",
        "* date_block_num, item_id, shop_id are capped -- Warning from hands-on book: The latter may be a serious problem since it is your target attribute (your labels). Your Machine Learning algorithms may learn that prices never go beyond that limit.\n",
        "    * date_block_num even capped, doesn't look to be a problem\n",
        "* These attributes have very different scales\n",
        "* item_cnt_day and item_price don't express anything\n"
      ]
    },
    {
      "cell_type": "markdown",
      "metadata": {
        "colab_type": "text",
        "id": "s9lgvnLcTAHq"
      },
      "source": [
        "## Looking for Correlations + Experimenting with Attribute Combinations"
      ]
    },
    {
      "cell_type": "markdown",
      "metadata": {
        "colab_type": "text",
        "id": "m_tcf9wbTJh0"
      },
      "source": [
        "### First correlations, based on the **sales_train** dataset"
      ]
    },
    {
      "cell_type": "code",
      "execution_count": 0,
      "metadata": {
        "colab": {
          "base_uri": "https://localhost:8080/",
          "height": 118
        },
        "colab_type": "code",
        "id": "QCid7JHptkgg",
        "outputId": "3e1f191b-e858-41e5-f30b-361c9b8b9ed9"
      },
      "outputs": [
        {
          "data": {
            "text/plain": [
              "item_cnt_day      1.000000\n",
              "item_id           0.016650\n",
              "item_price        0.011197\n",
              "date_block_num    0.009402\n",
              "shop_id          -0.005230\n",
              "Name: item_cnt_day, dtype: float64"
            ]
          },
          "execution_count": 3,
          "metadata": {
            "tags": []
          },
          "output_type": "execute_result"
        }
      ],
      "source": [
        "corr_matrix = sales_train.corr()\n",
        "corr_matrix[\"item_cnt_day\"].sort_values(ascending=False)"
      ]
    },
    {
      "cell_type": "code",
      "execution_count": 0,
      "metadata": {
        "colab": {
          "base_uri": "https://localhost:8080/",
          "height": 972
        },
        "colab_type": "code",
        "id": "xf6lQH_Ytql_",
        "outputId": "0c3fac1b-2ef2-491a-87cb-92188085b56c"
      },
      "outputs": [
        {
          "data": {
            "text/plain": [
              "array([[<matplotlib.axes._subplots.AxesSubplot object at 0x7f817bc30dd8>,\n",
              "        <matplotlib.axes._subplots.AxesSubplot object at 0x7f817ad6f358>,\n",
              "        <matplotlib.axes._subplots.AxesSubplot object at 0x7f817ad1f908>,\n",
              "        <matplotlib.axes._subplots.AxesSubplot object at 0x7f817ad4deb8>,\n",
              "        <matplotlib.axes._subplots.AxesSubplot object at 0x7f817ad054a8>],\n",
              "       [<matplotlib.axes._subplots.AxesSubplot object at 0x7f817acb4a58>,\n",
              "        <matplotlib.axes._subplots.AxesSubplot object at 0x7f817ac70048>,\n",
              "        <matplotlib.axes._subplots.AxesSubplot object at 0x7f817ac9a630>,\n",
              "        <matplotlib.axes._subplots.AxesSubplot object at 0x7f817ac9a668>,\n",
              "        <matplotlib.axes._subplots.AxesSubplot object at 0x7f817ac02198>],\n",
              "       [<matplotlib.axes._subplots.AxesSubplot object at 0x7f817abb0748>,\n",
              "        <matplotlib.axes._subplots.AxesSubplot object at 0x7f817ab5fcf8>,\n",
              "        <matplotlib.axes._subplots.AxesSubplot object at 0x7f817ab1f2e8>,\n",
              "        <matplotlib.axes._subplots.AxesSubplot object at 0x7f817ab4c898>,\n",
              "        <matplotlib.axes._subplots.AxesSubplot object at 0x7f817aaffe48>],\n",
              "       [<matplotlib.axes._subplots.AxesSubplot object at 0x7f817aabe438>,\n",
              "        <matplotlib.axes._subplots.AxesSubplot object at 0x7f817aa6c9e8>,\n",
              "        <matplotlib.axes._subplots.AxesSubplot object at 0x7f817aa1ef98>,\n",
              "        <matplotlib.axes._subplots.AxesSubplot object at 0x7f817aa59588>,\n",
              "        <matplotlib.axes._subplots.AxesSubplot object at 0x7f817aa0ab38>],\n",
              "       [<matplotlib.axes._subplots.AxesSubplot object at 0x7f817a9c6128>,\n",
              "        <matplotlib.axes._subplots.AxesSubplot object at 0x7f817a9776d8>,\n",
              "        <matplotlib.axes._subplots.AxesSubplot object at 0x7f817a929c88>,\n",
              "        <matplotlib.axes._subplots.AxesSubplot object at 0x7f817a8e5278>,\n",
              "        <matplotlib.axes._subplots.AxesSubplot object at 0x7f817a918828>]],\n",
              "      dtype=object)"
            ]
          },
          "execution_count": 5,
          "metadata": {
            "tags": []
          },
          "output_type": "execute_result"
        },
        {
          "data": {
            "image/png": "[encoded data removed]",
            "text/plain": [
              "<Figure size 864x576 with 25 Axes>"
            ]
          },
          "metadata": {
            "tags": []
          },
          "output_type": "display_data"
        }
      ],
      "source": [
        "# 'date' attribute will be not considered for the correlations \n",
        "#   this represents a sort of a higher resolution of the date_block_num\n",
        "attributes = [\"date_block_num\", \"item_cnt_day\", \"item_price\", \"shop_id\", \"item_id\"]\n",
        "scatter_matrix(sales_train[attributes], figsize=(12, 8))"
      ]
    },
    {
      "cell_type": "markdown",
      "metadata": {
        "colab_type": "text",
        "id": "_zTzBzpNtyOE"
      },
      "source": [
        "Some correlations found:\n",
        "* date_block_num vs item_cnt_day - more and more items are sold\n",
        "* date_block_num vs item_price - more and more expensive items are sold\n",
        "* shop_id vs item_cnt_day - determine which shops sell more to less\n",
        "* item_id vs item_cnt_day - determine which items are the most sold"
      ]
    },
    {
      "cell_type": "code",
      "execution_count": 0,
      "metadata": {
        "colab": {
          "base_uri": "https://localhost:8080/",
          "height": 303
        },
        "colab_type": "code",
        "id": "KBVP6gURTNIA",
        "outputId": "a4a3bd42-edb6-4f01-d2a9-25e6ca1bab6d"
      },
      "outputs": [
        {
          "data": {
            "text/plain": [
              "<matplotlib.axes._subplots.AxesSubplot at 0x7f817a8da748>"
            ]
          },
          "execution_count": 6,
          "metadata": {
            "tags": []
          },
          "output_type": "execute_result"
        },
        {
          "data": {
            "image/png": "[encoded data removed]",
            "text/plain": [
              "<Figure size 432x288 with 1 Axes>"
            ]
          },
          "metadata": {
            "tags": []
          },
          "output_type": "display_data"
        }
      ],
      "source": [
        "sales_train.plot(kind=\"scatter\", x=\"date_block_num\", y=\"item_cnt_day\")"
      ]
    },
    {
      "cell_type": "code",
      "execution_count": 0,
      "metadata": {
        "colab": {
          "base_uri": "https://localhost:8080/",
          "height": 34
        },
        "colab_type": "code",
        "id": "tNXIBcCCFZFM",
        "outputId": "4ec7a8fc-86b1-4c53-810c-e608d25f93ef"
      },
      "outputs": [
        {
          "name": "stdout",
          "output_type": "stream",
          "text": [
            "max value:  [31] 235634\n"
          ]
        }
      ],
      "source": [
        "# Find max value & its index of the shop_id, then print them\n",
        "\n",
        "# cnt_i = [0] * (sales_train_outl_1shop[\"shop_id\"].max() + 1)\n",
        "# for i in sales_train_outl_1shop[\"shop_id\"]:\n",
        "#     cnt_i[i] += 1\n",
        "\n",
        "# cnt_i_max = np.where(cnt_i == np.amax(cnt_i))[0]\n",
        "# print(\"max value: \", cnt_i_max, np.amax(cnt_i))"
      ]
    },
    {
      "cell_type": "code",
      "execution_count": 0,
      "metadata": {
        "colab": {},
        "colab_type": "code",
        "id": "qhGdZWdyMqpW"
      },
      "outputs": [],
      "source": [
        "# describe_entire_nrs(sales_train_outl_1shop)"
      ]
    },
    {
      "cell_type": "code",
      "execution_count": 0,
      "metadata": {
        "colab": {},
        "colab_type": "code",
        "id": "ImCKa6M3LKoR"
      },
      "outputs": [],
      "source": [
        "# sales_train_outl_1shop = sales_train_outl_1shop[sales_train_outl_1shop[\"shop_id\"] == cnt_i_max[0]] # drop te rows which doesn't have the shop_id equal to cnt_i_max\n",
        "# sales_train_outl_mdl = sales_train_outl_1shop.copy()"
      ]
    },
    {
      "cell_type": "code",
      "execution_count": 0,
      "metadata": {
        "colab": {},
        "colab_type": "code",
        "id": "qJZjB2Ar-1eX"
      },
      "outputs": [],
      "source": [
        "# sales_train_outl = sales_train[~(sales_train['item_cnt_day'] > 650)] # ignore the outliers\n",
        "# sales_train_outl = sales_train_outl[~(sales_train_outl['item_cnt_day'] < -1)] # ignore the outliers\n",
        "# sales_train_outl.plot(kind=\"scatter\", x=\"date_block_num\", y=\"item_cnt_day\")\n",
        "# sales_train_outl_mdl = sales_train_outl.copy()\n",
        "\n",
        "### This is not needed due to feature scaling"
      ]
    },
    {
      "cell_type": "markdown",
      "metadata": {
        "colab_type": "text",
        "id": "-smBbIVLV4O6"
      },
      "source": [
        "#### Make a copy of the **sales_train**"
      ]
    },
    {
      "cell_type": "code",
      "execution_count": 0,
      "metadata": {
        "colab": {},
        "colab_type": "code",
        "id": "WZbPQdM9DWxP"
      },
      "outputs": [],
      "source": [
        "sales_train_ = sales_train.copy()"
      ]
    },
    {
      "cell_type": "markdown",
      "metadata": {
        "colab_type": "text",
        "id": "K0BOIusHnR30"
      },
      "source": [
        "#### The **date** attrb"
      ]
    },
    {
      "cell_type": "markdown",
      "metadata": {
        "colab_type": "text",
        "id": "b1SuRQonnYhL"
      },
      "source": [
        "##### var 1 | delete the **date** attr"
      ]
    },
    {
      "cell_type": "code",
      "execution_count": 0,
      "metadata": {
        "colab": {},
        "colab_type": "code",
        "id": "_YI6aVMrnYDb"
      },
      "outputs": [],
      "source": [
        "sales_train_.drop([\"date\"], inplace=True, axis=1)"
      ]
    },
    {
      "cell_type": "markdown",
      "metadata": {
        "colab_type": "text",
        "id": "PukyNbLonYxs"
      },
      "source": [
        "##### var 2 | Convert the **date** attrb into a 'unique number'\n",
        "> use this\n",
        "\n",
        "from string pattern dd.mm.yyyy to int pattern yyyymmdd"
      ]
    },
    {
      "cell_type": "code",
      "execution_count": 0,
      "metadata": {
        "colab": {},
        "colab_type": "code",
        "id": "3aHvF2uJDWxZ"
      },
      "outputs": [],
      "source": [
        "date = sales_train_[[\"date\"]].values\n",
        "date_ = [0] * len(date)\n",
        "\n",
        "# enumerate function allows us to loop over a list and retrieve \n",
        "# both the index and the value of each item in the list\n",
        "for index, d in enumerate(date): # date_.append didn't work properly, so i used the index\n",
        "  n = int(''.join(c for c in str(d) if c.isdigit()))\n",
        "  date_[index] = (n%10000)*10000 + (int(n/10000)%100)*100 + int(n/1000000)\n",
        "\n",
        "sales_train_[\"date\"] = date_"
      ]
    },
    {
      "cell_type": "markdown",
      "metadata": {
        "colab_type": "text",
        "id": "zinMfYN04JFu"
      },
      "source": [
        "### Add **item_cnt_month** as attr to the **sales_train** dataset"
      ]
    },
    {
      "cell_type": "code",
      "execution_count": 0,
      "metadata": {
        "colab": {
          "base_uri": "https://localhost:8080/",
          "height": 225
        },
        "colab_type": "code",
        "id": "wt6v6XjD43gV",
        "outputId": "acb38038-19e1-4944-f94e-a892e818e818"
      },
      "outputs": [
        {
          "data": {
            "text/html": [
              "<div>\n",
              "<style scoped>\n",
              "    .dataframe tbody tr th:only-of-type {\n",
              "        vertical-align: middle;\n",
              "    }\n",
              "\n",
              "    .dataframe tbody tr th {\n",
              "        vertical-align: top;\n",
              "    }\n",
              "\n",
              "    .dataframe thead th {\n",
              "        text-align: right;\n",
              "    }\n",
              "</style>\n",
              "<table border=\"1\" class=\"dataframe\">\n",
              "  <thead>\n",
              "    <tr style=\"text-align: right;\">\n",
              "      <th></th>\n",
              "      <th>item_price_med</th>\n",
              "    </tr>\n",
              "    <tr>\n",
              "      <th>shop_id</th>\n",
              "      <th></th>\n",
              "    </tr>\n",
              "  </thead>\n",
              "  <tbody>\n",
              "    <tr>\n",
              "      <th>0</th>\n",
              "      <td>563.444151</td>\n",
              "    </tr>\n",
              "    <tr>\n",
              "      <th>1</th>\n",
              "      <td>515.350652</td>\n",
              "    </tr>\n",
              "    <tr>\n",
              "      <th>2</th>\n",
              "      <td>1350.638391</td>\n",
              "    </tr>\n",
              "    <tr>\n",
              "      <th>3</th>\n",
              "      <td>1036.840634</td>\n",
              "    </tr>\n",
              "    <tr>\n",
              "      <th>4</th>\n",
              "      <td>923.994318</td>\n",
              "    </tr>\n",
              "  </tbody>\n",
              "</table>\n",
              "</div>"
            ],
            "text/plain": [
              "         item_price_med\n",
              "shop_id                \n",
              "0            563.444151\n",
              "1            515.350652\n",
              "2           1350.638391\n",
              "3           1036.840634\n",
              "4            923.994318"
            ]
          },
          "execution_count": 6,
          "metadata": {
            "tags": []
          },
          "output_type": "execute_result"
        }
      ],
      "source": [
        "# Attempt of using a new attrb: item_price_med\n",
        "\n",
        "# sales_train_gb_sh = sales_train.drop(['date_block_num', 'item_id', 'item_cnt_day'], axis = 1).groupby('shop_id').mean() # std seems more reliable\n",
        "# sales_train_gb_sh.rename(columns={\"item_price\": \"item_price_med\"}, inplace=True)\n",
        "\n",
        "# sales_train_gb_sh.head()"
      ]
    },
    {
      "cell_type": "code",
      "execution_count": 0,
      "metadata": {
        "colab": {
          "base_uri": "https://localhost:8080/",
          "height": 225
        },
        "colab_type": "code",
        "id": "3epkz5GB43gY",
        "outputId": "d51e2102-bbba-4e69-dcaf-bc69055e55ff"
      },
      "outputs": [
        {
          "data": {
            "text/html": [
              "<div>\n",
              "<style scoped>\n",
              "    .dataframe tbody tr th:only-of-type {\n",
              "        vertical-align: middle;\n",
              "    }\n",
              "\n",
              "    .dataframe tbody tr th {\n",
              "        vertical-align: top;\n",
              "    }\n",
              "\n",
              "    .dataframe thead th {\n",
              "        text-align: right;\n",
              "    }\n",
              "</style>\n",
              "<table border=\"1\" class=\"dataframe\">\n",
              "  <thead>\n",
              "    <tr style=\"text-align: right;\">\n",
              "      <th></th>\n",
              "      <th></th>\n",
              "      <th>item_cnt_month</th>\n",
              "    </tr>\n",
              "    <tr>\n",
              "      <th>shop_id</th>\n",
              "      <th>date_block_num</th>\n",
              "      <th></th>\n",
              "    </tr>\n",
              "  </thead>\n",
              "  <tbody>\n",
              "    <tr>\n",
              "      <th rowspan=\"5\" valign=\"top\">59</th>\n",
              "      <th>29</th>\n",
              "      <td>913</td>\n",
              "    </tr>\n",
              "    <tr>\n",
              "      <th>30</th>\n",
              "      <td>992</td>\n",
              "    </tr>\n",
              "    <tr>\n",
              "      <th>31</th>\n",
              "      <td>1214</td>\n",
              "    </tr>\n",
              "    <tr>\n",
              "      <th>32</th>\n",
              "      <td>914</td>\n",
              "    </tr>\n",
              "    <tr>\n",
              "      <th>33</th>\n",
              "      <td>790</td>\n",
              "    </tr>\n",
              "  </tbody>\n",
              "</table>\n",
              "</div>"
            ],
            "text/plain": [
              "                        item_cnt_month\n",
              "shop_id date_block_num                \n",
              "59      29                         913\n",
              "        30                         992\n",
              "        31                        1214\n",
              "        32                         914\n",
              "        33                         790"
            ]
          },
          "execution_count": 7,
          "metadata": {
            "tags": []
          },
          "output_type": "execute_result"
        }
      ],
      "source": [
        "sales_train_gb_mth = sales_train.drop(['item_id', 'item_price'], axis = 1).groupby(['shop_id', 'date_block_num']).sum().astype('int')\n",
        "sales_train_gb_mth.rename(columns={\"item_cnt_day\": \"item_cnt_month\"}, inplace=True)\n",
        "\n",
        "# sales_train_gb_mth.head(5)\n",
        "sales_train_gb_mth.tail(5)"
      ]
    },
    {
      "cell_type": "markdown",
      "metadata": {
        "colab_type": "text",
        "id": "yzwd16sn4_Nb"
      },
      "source": [
        "#### var 1\n",
        "\n",
        "The method below takes too much time to run \n",
        "\n",
        ".loc method seems to be slow \n",
        "\n",
        "instead, use the method below this cell\n"
      ]
    },
    {
      "cell_type": "code",
      "execution_count": 0,
      "metadata": {
        "colab": {
          "base_uri": "https://localhost:8080/",
          "height": 195
        },
        "colab_type": "code",
        "id": "U_H8Aeux43gg",
        "outputId": "d6ecb866-480e-4b70-fa83-ef33c1c7fdf3"
      },
      "outputs": [
        {
          "data": {
            "text/html": [
              "<div>\n",
              "<style scoped>\n",
              "    .dataframe tbody tr th:only-of-type {\n",
              "        vertical-align: middle;\n",
              "    }\n",
              "\n",
              "    .dataframe tbody tr th {\n",
              "        vertical-align: top;\n",
              "    }\n",
              "\n",
              "    .dataframe thead th {\n",
              "        text-align: right;\n",
              "    }\n",
              "</style>\n",
              "<table border=\"1\" class=\"dataframe\">\n",
              "  <thead>\n",
              "    <tr style=\"text-align: right;\">\n",
              "      <th></th>\n",
              "      <th>date_block_num</th>\n",
              "      <th>shop_id</th>\n",
              "      <th>item_id</th>\n",
              "      <th>item_price</th>\n",
              "      <th>item_cnt_day</th>\n",
              "      <th>item_cnt_month</th>\n",
              "    </tr>\n",
              "  </thead>\n",
              "  <tbody>\n",
              "    <tr>\n",
              "      <th>0</th>\n",
              "      <td>0</td>\n",
              "      <td>59</td>\n",
              "      <td>22154</td>\n",
              "      <td>999.00</td>\n",
              "      <td>1.0</td>\n",
              "      <td>2017</td>\n",
              "    </tr>\n",
              "    <tr>\n",
              "      <th>1</th>\n",
              "      <td>0</td>\n",
              "      <td>25</td>\n",
              "      <td>2552</td>\n",
              "      <td>899.00</td>\n",
              "      <td>1.0</td>\n",
              "      <td>8215</td>\n",
              "    </tr>\n",
              "    <tr>\n",
              "      <th>2</th>\n",
              "      <td>0</td>\n",
              "      <td>25</td>\n",
              "      <td>2552</td>\n",
              "      <td>899.00</td>\n",
              "      <td>-1.0</td>\n",
              "      <td>8215</td>\n",
              "    </tr>\n",
              "    <tr>\n",
              "      <th>3</th>\n",
              "      <td>0</td>\n",
              "      <td>25</td>\n",
              "      <td>2554</td>\n",
              "      <td>1709.05</td>\n",
              "      <td>1.0</td>\n",
              "      <td>8215</td>\n",
              "    </tr>\n",
              "    <tr>\n",
              "      <th>4</th>\n",
              "      <td>0</td>\n",
              "      <td>25</td>\n",
              "      <td>2555</td>\n",
              "      <td>1099.00</td>\n",
              "      <td>1.0</td>\n",
              "      <td>8215</td>\n",
              "    </tr>\n",
              "  </tbody>\n",
              "</table>\n",
              "</div>"
            ],
            "text/plain": [
              "   date_block_num  shop_id  item_id  item_price  item_cnt_day  item_cnt_month\n",
              "0               0       59    22154      999.00           1.0            2017\n",
              "1               0       25     2552      899.00           1.0            8215\n",
              "2               0       25     2552      899.00          -1.0            8215\n",
              "3               0       25     2554     1709.05           1.0            8215\n",
              "4               0       25     2555     1099.00           1.0            8215"
            ]
          },
          "execution_count": 24,
          "metadata": {
            "tags": []
          },
          "output_type": "execute_result"
        }
      ],
      "source": [
        "# The following code adds to the attr **item_cnt_month** \n",
        "\n",
        "# %%time is used for Colab nb to show the cell's runtime --> CPU times: user 39.4 ms, sys: 668 µs, total: 40.1 ms | Wall time: 40.3 ms\n",
        "# this overwrites the output\n",
        "\n",
        "# from IPython.display import clear_output\n",
        "\n",
        "for row in sales_train_.iterrows():\n",
        "  # clear_output() # clear the output of the current cell receiving output\n",
        "  # print(row)\n",
        "\n",
        "  idx_s = int(sales_train_.loc[sales_train_.index[row[0]], \"shop_id\"])\n",
        "  idx_m = int(sales_train_.loc[sales_train_.index[row[0]], \"date_block_num\"])\n",
        "\n",
        "  #item_price_med = sales_train_gb_sh[\"item_price_med\"][idx_s]\n",
        "  #sales_train_.loc[sales_train_.index[row[0]], \"item_price_med\"] = item_price_med\n",
        "\n",
        "  item_cnt_month = sales_train_gb_mth[\"item_cnt_month\"]\n",
        "  sales_train_.loc[sales_train_.index[row[0]], \"item_cnt_month\"] = int(item_cnt_month[idx_s][idx_m])"
      ]
    },
    {
      "cell_type": "markdown",
      "metadata": {
        "colab_type": "text",
        "id": "1fVTJaMx5DoV"
      },
      "source": [
        "#### var 2\n",
        "\n",
        "> use this\n",
        "\n",
        "this method took ~24 min. It was used a list to be filled with the required values, then attached to the main dataframe\n",
        "\n",
        "start: 2020-02-01 17:16:02.477814 | stop: 2020-02-01 17:40:20.210183"
      ]
    },
    {
      "cell_type": "code",
      "execution_count": 0,
      "metadata": {
        "colab": {
          "base_uri": "https://localhost:8080/",
          "height": 50
        },
        "colab_type": "code",
        "id": "0yAkv637-bib",
        "outputId": "6854d23a-6d6b-4f07-f3b0-278a9afefe45"
      },
      "outputs": [
        {
          "name": "stdout",
          "output_type": "stream",
          "text": [
            "2020-02-03 09:13:58.560532\n",
            "2020-02-03 09:39:00.660538\n"
          ]
        }
      ],
      "source": [
        "sales_train_c = []\n",
        "\n",
        "print(datetime.datetime.now())\n",
        "for row in sales_train_.iterrows():\n",
        "  item_cnt_month = sales_train_gb_mth[\"item_cnt_month\"]\n",
        "  item_cnt_month_n = item_cnt_month[row[1][1]][row[1][0]]\n",
        "  \n",
        "  sales_train_c.append(int(item_cnt_month_n))\n",
        "\n",
        "print(datetime.datetime.now())"
      ]
    },
    {
      "cell_type": "markdown",
      "metadata": {
        "colab_type": "text",
        "id": "x4qMfAre6H-z"
      },
      "source": [
        "#### Add the **item_cnt_month** list to the main dataframe, then save it locally"
      ]
    },
    {
      "cell_type": "code",
      "execution_count": 0,
      "metadata": {
        "colab": {},
        "colab_type": "code",
        "id": "AQKrHjBq30TJ"
      },
      "outputs": [],
      "source": [
        "sales_train_['item_cnt_month'] = sales_train_c"
      ]
    },
    {
      "cell_type": "code",
      "execution_count": 5,
      "metadata": {
        "colab": {
          "base_uri": "https://localhost:8080/",
          "height": 419
        },
        "colab_type": "code",
        "id": "WoLJT6umU7iJ",
        "outputId": "aa61fbf8-da20-4054-a2fb-35e51953e13e"
      },
      "outputs": [
        {
          "data": {
            "text/html": [
              "<div>\n",
              "<style scoped>\n",
              "    .dataframe tbody tr th:only-of-type {\n",
              "        vertical-align: middle;\n",
              "    }\n",
              "\n",
              "    .dataframe tbody tr th {\n",
              "        vertical-align: top;\n",
              "    }\n",
              "\n",
              "    .dataframe thead th {\n",
              "        text-align: right;\n",
              "    }\n",
              "</style>\n",
              "<table border=\"1\" class=\"dataframe\">\n",
              "  <thead>\n",
              "    <tr style=\"text-align: right;\">\n",
              "      <th></th>\n",
              "      <th>Unnamed: 0</th>\n",
              "      <th>date_block_num</th>\n",
              "      <th>shop_id</th>\n",
              "      <th>item_id</th>\n",
              "      <th>item_price</th>\n",
              "      <th>item_cnt_day</th>\n",
              "      <th>item_cnt_month</th>\n",
              "      <th>date</th>\n",
              "    </tr>\n",
              "  </thead>\n",
              "  <tbody>\n",
              "    <tr>\n",
              "      <th>0</th>\n",
              "      <td>0</td>\n",
              "      <td>0</td>\n",
              "      <td>59</td>\n",
              "      <td>22154</td>\n",
              "      <td>999.00</td>\n",
              "      <td>1.0</td>\n",
              "      <td>2017</td>\n",
              "      <td>20130102</td>\n",
              "    </tr>\n",
              "    <tr>\n",
              "      <th>1</th>\n",
              "      <td>1</td>\n",
              "      <td>0</td>\n",
              "      <td>25</td>\n",
              "      <td>2552</td>\n",
              "      <td>899.00</td>\n",
              "      <td>1.0</td>\n",
              "      <td>8215</td>\n",
              "      <td>20130103</td>\n",
              "    </tr>\n",
              "    <tr>\n",
              "      <th>2</th>\n",
              "      <td>2</td>\n",
              "      <td>0</td>\n",
              "      <td>25</td>\n",
              "      <td>2552</td>\n",
              "      <td>899.00</td>\n",
              "      <td>-1.0</td>\n",
              "      <td>8215</td>\n",
              "      <td>20130105</td>\n",
              "    </tr>\n",
              "    <tr>\n",
              "      <th>3</th>\n",
              "      <td>3</td>\n",
              "      <td>0</td>\n",
              "      <td>25</td>\n",
              "      <td>2554</td>\n",
              "      <td>1709.05</td>\n",
              "      <td>1.0</td>\n",
              "      <td>8215</td>\n",
              "      <td>20130106</td>\n",
              "    </tr>\n",
              "    <tr>\n",
              "      <th>4</th>\n",
              "      <td>4</td>\n",
              "      <td>0</td>\n",
              "      <td>25</td>\n",
              "      <td>2555</td>\n",
              "      <td>1099.00</td>\n",
              "      <td>1.0</td>\n",
              "      <td>8215</td>\n",
              "      <td>20130115</td>\n",
              "    </tr>\n",
              "    <tr>\n",
              "      <th>...</th>\n",
              "      <td>...</td>\n",
              "      <td>...</td>\n",
              "      <td>...</td>\n",
              "      <td>...</td>\n",
              "      <td>...</td>\n",
              "      <td>...</td>\n",
              "      <td>...</td>\n",
              "      <td>...</td>\n",
              "    </tr>\n",
              "    <tr>\n",
              "      <th>2935844</th>\n",
              "      <td>2935844</td>\n",
              "      <td>33</td>\n",
              "      <td>25</td>\n",
              "      <td>7409</td>\n",
              "      <td>299.00</td>\n",
              "      <td>1.0</td>\n",
              "      <td>6247</td>\n",
              "      <td>20151010</td>\n",
              "    </tr>\n",
              "    <tr>\n",
              "      <th>2935845</th>\n",
              "      <td>2935845</td>\n",
              "      <td>33</td>\n",
              "      <td>25</td>\n",
              "      <td>7460</td>\n",
              "      <td>299.00</td>\n",
              "      <td>1.0</td>\n",
              "      <td>6247</td>\n",
              "      <td>20151009</td>\n",
              "    </tr>\n",
              "    <tr>\n",
              "      <th>2935846</th>\n",
              "      <td>2935846</td>\n",
              "      <td>33</td>\n",
              "      <td>25</td>\n",
              "      <td>7459</td>\n",
              "      <td>349.00</td>\n",
              "      <td>1.0</td>\n",
              "      <td>6247</td>\n",
              "      <td>20151014</td>\n",
              "    </tr>\n",
              "    <tr>\n",
              "      <th>2935847</th>\n",
              "      <td>2935847</td>\n",
              "      <td>33</td>\n",
              "      <td>25</td>\n",
              "      <td>7440</td>\n",
              "      <td>299.00</td>\n",
              "      <td>1.0</td>\n",
              "      <td>6247</td>\n",
              "      <td>20151022</td>\n",
              "    </tr>\n",
              "    <tr>\n",
              "      <th>2935848</th>\n",
              "      <td>2935848</td>\n",
              "      <td>33</td>\n",
              "      <td>25</td>\n",
              "      <td>7460</td>\n",
              "      <td>299.00</td>\n",
              "      <td>1.0</td>\n",
              "      <td>6247</td>\n",
              "      <td>20151003</td>\n",
              "    </tr>\n",
              "  </tbody>\n",
              "</table>\n",
              "<p>2935849 rows × 8 columns</p>\n",
              "</div>"
            ],
            "text/plain": [
              "         Unnamed: 0  date_block_num  ...  item_cnt_month      date\n",
              "0                 0               0  ...            2017  20130102\n",
              "1                 1               0  ...            8215  20130103\n",
              "2                 2               0  ...            8215  20130105\n",
              "3                 3               0  ...            8215  20130106\n",
              "4                 4               0  ...            8215  20130115\n",
              "...             ...             ...  ...             ...       ...\n",
              "2935844     2935844              33  ...            6247  20151010\n",
              "2935845     2935845              33  ...            6247  20151009\n",
              "2935846     2935846              33  ...            6247  20151014\n",
              "2935847     2935847              33  ...            6247  20151022\n",
              "2935848     2935848              33  ...            6247  20151003\n",
              "\n",
              "[2935849 rows x 8 columns]"
            ]
          },
          "execution_count": 5,
          "metadata": {
            "tags": []
          },
          "output_type": "execute_result"
        }
      ],
      "source": [
        "sales_train_"
      ]
    },
    {
      "cell_type": "code",
      "execution_count": 0,
      "metadata": {
        "colab": {},
        "colab_type": "code",
        "id": "r71UoeG4DYgw"
      },
      "outputs": [],
      "source": [
        "# Colab - save the reshaped dataset\n",
        "sales_train_.to_csv(r\"%sdatasets/sales_train_reshaped.csv\" % colab_path)"
      ]
    },
    {
      "cell_type": "code",
      "execution_count": 0,
      "metadata": {
        "colab": {},
        "colab_type": "code",
        "id": "6sURm8SIOwNQ"
      },
      "outputs": [],
      "source": [
        "# Colab - get the reshaped dataset from drive\n",
        "sales_train_ = pd.read_csv('%sdatasets/sales_train_reshaped.csv' % colab_path)"
      ]
    },
    {
      "cell_type": "code",
      "execution_count": 0,
      "metadata": {
        "colab": {},
        "colab_type": "code",
        "id": "lx70a9bhDWyO"
      },
      "outputs": [],
      "source": [
        "# VS Code - save the reshaped dataset\n",
        "sales_train_.to_csv(r\"input/sales_train_reshaped.csv\")"
      ]
    },
    {
      "cell_type": "code",
      "execution_count": 12,
      "metadata": {},
      "outputs": [],
      "source": [
        "# VS Code - get the reshaped dataset from local drive\n",
        "sales_train_ = pd.read_csv(os.path.abspath(os.path.join('input', 'sales_train_reshaped.csv')))"
      ]
    },
    {
      "cell_type": "code",
      "execution_count": 13,
      "metadata": {},
      "outputs": [
        {
          "data": {
            "text/html": "<div>\n<style scoped>\n    .dataframe tbody tr th:only-of-type {\n        vertical-align: middle;\n    }\n\n    .dataframe tbody tr th {\n        vertical-align: top;\n    }\n\n    .dataframe thead th {\n        text-align: right;\n    }\n</style>\n<table border=\"1\" class=\"dataframe\">\n  <thead>\n    <tr style=\"text-align: right;\">\n      <th></th>\n      <th>date_block_num</th>\n      <th>shop_id</th>\n      <th>item_id</th>\n      <th>item_price</th>\n      <th>item_cnt_day</th>\n      <th>item_cnt_month</th>\n      <th>date</th>\n    </tr>\n  </thead>\n  <tbody>\n    <tr>\n      <th>0</th>\n      <td>0</td>\n      <td>59</td>\n      <td>22154</td>\n      <td>999.00</td>\n      <td>1.0</td>\n      <td>2017</td>\n      <td>20130102</td>\n    </tr>\n    <tr>\n      <th>1</th>\n      <td>0</td>\n      <td>25</td>\n      <td>2552</td>\n      <td>899.00</td>\n      <td>1.0</td>\n      <td>8215</td>\n      <td>20130103</td>\n    </tr>\n    <tr>\n      <th>2</th>\n      <td>0</td>\n      <td>25</td>\n      <td>2552</td>\n      <td>899.00</td>\n      <td>-1.0</td>\n      <td>8215</td>\n      <td>20130105</td>\n    </tr>\n    <tr>\n      <th>3</th>\n      <td>0</td>\n      <td>25</td>\n      <td>2554</td>\n      <td>1709.05</td>\n      <td>1.0</td>\n      <td>8215</td>\n      <td>20130106</td>\n    </tr>\n    <tr>\n      <th>4</th>\n      <td>0</td>\n      <td>25</td>\n      <td>2555</td>\n      <td>1099.00</td>\n      <td>1.0</td>\n      <td>8215</td>\n      <td>20130115</td>\n    </tr>\n    <tr>\n      <th>...</th>\n      <td>...</td>\n      <td>...</td>\n      <td>...</td>\n      <td>...</td>\n      <td>...</td>\n      <td>...</td>\n      <td>...</td>\n    </tr>\n    <tr>\n      <th>2935844</th>\n      <td>33</td>\n      <td>25</td>\n      <td>7409</td>\n      <td>299.00</td>\n      <td>1.0</td>\n      <td>6247</td>\n      <td>20151010</td>\n    </tr>\n    <tr>\n      <th>2935845</th>\n      <td>33</td>\n      <td>25</td>\n      <td>7460</td>\n      <td>299.00</td>\n      <td>1.0</td>\n      <td>6247</td>\n      <td>20151009</td>\n    </tr>\n    <tr>\n      <th>2935846</th>\n      <td>33</td>\n      <td>25</td>\n      <td>7459</td>\n      <td>349.00</td>\n      <td>1.0</td>\n      <td>6247</td>\n      <td>20151014</td>\n    </tr>\n    <tr>\n      <th>2935847</th>\n      <td>33</td>\n      <td>25</td>\n      <td>7440</td>\n      <td>299.00</td>\n      <td>1.0</td>\n      <td>6247</td>\n      <td>20151022</td>\n    </tr>\n    <tr>\n      <th>2935848</th>\n      <td>33</td>\n      <td>25</td>\n      <td>7460</td>\n      <td>299.00</td>\n      <td>1.0</td>\n      <td>6247</td>\n      <td>20151003</td>\n    </tr>\n  </tbody>\n</table>\n<p>2935849 rows × 7 columns</p>\n</div>",
            "text/plain": "         date_block_num  shop_id  item_id  item_price  item_cnt_day  \\\n0                     0       59    22154      999.00           1.0   \n1                     0       25     2552      899.00           1.0   \n2                     0       25     2552      899.00          -1.0   \n3                     0       25     2554     1709.05           1.0   \n4                     0       25     2555     1099.00           1.0   \n...                 ...      ...      ...         ...           ...   \n2935844              33       25     7409      299.00           1.0   \n2935845              33       25     7460      299.00           1.0   \n2935846              33       25     7459      349.00           1.0   \n2935847              33       25     7440      299.00           1.0   \n2935848              33       25     7460      299.00           1.0   \n\n         item_cnt_month      date  \n0                  2017  20130102  \n1                  8215  20130103  \n2                  8215  20130105  \n3                  8215  20130106  \n4                  8215  20130115  \n...                 ...       ...  \n2935844            6247  20151010  \n2935845            6247  20151009  \n2935846            6247  20151014  \n2935847            6247  20151022  \n2935848            6247  20151003  \n\n[2935849 rows x 7 columns]"
          },
          "execution_count": 13,
          "metadata": {},
          "output_type": "execute_result"
        }
      ],
      "source": [
        "sales_train_.drop('Unnamed: 0', axis=1, inplace=True)\n",
        "sales_train_"
      ]
    },
    {
      "cell_type": "markdown",
      "metadata": {
        "colab_type": "text",
        "id": "dciNP-UjehKA"
      },
      "source": [
        "#### Check for new correlations"
      ]
    },
    {
      "cell_type": "code",
      "execution_count": 0,
      "metadata": {
        "colab": {
          "base_uri": "https://localhost:8080/",
          "height": 151
        },
        "colab_type": "code",
        "id": "DawMelD4P5Ae",
        "outputId": "491a8109-5af9-4634-b0bf-51650997ceb0"
      },
      "outputs": [
        {
          "data": {
            "text/plain": [
              "item_cnt_month    1.000000\n",
              "shop_id           0.072295\n",
              "item_id           0.061264\n",
              "item_cnt_day      0.024699\n",
              "item_price       -0.036215\n",
              "date_block_num   -0.184236\n",
              "date             -0.219112\n",
              "Name: item_cnt_month, dtype: float64"
            ]
          },
          "execution_count": 114,
          "metadata": {
            "tags": []
          },
          "output_type": "execute_result"
        }
      ],
      "source": [
        "corr_matrix = sales_train_.corr()\n",
        "corr_matrix[\"item_cnt_month\"].sort_values(ascending=False)"
      ]
    },
    {
      "cell_type": "markdown",
      "metadata": {
        "colab_type": "text",
        "id": "FLdEdWfGQyXn"
      },
      "source": [
        "* **item_cnt_month** is the most correlated with **date**, but we need to estimate per month, not per day \n",
        "\n",
        "* **item_cnt_month** is then the most correlated with **date_block_num**, which is the same as the previous steps"
      ]
    },
    {
      "cell_type": "code",
      "execution_count": 0,
      "metadata": {
        "colab": {
          "base_uri": "https://localhost:8080/",
          "height": 967
        },
        "colab_type": "code",
        "id": "5PiaGpzAb1a-",
        "outputId": "8e82b644-426b-46ad-b58e-9d9ec22c8991"
      },
      "outputs": [
        {
          "data": {
            "text/plain": [
              "array([[<matplotlib.axes._subplots.AxesSubplot object at 0x7f85ff1ae668>,\n",
              "        <matplotlib.axes._subplots.AxesSubplot object at 0x7f85ff17b1d0>,\n",
              "        <matplotlib.axes._subplots.AxesSubplot object at 0x7f85ff12f320>,\n",
              "        <matplotlib.axes._subplots.AxesSubplot object at 0x7f85ff0df470>,\n",
              "        <matplotlib.axes._subplots.AxesSubplot object at 0x7f85ff104e48>],\n",
              "       [<matplotlib.axes._subplots.AxesSubplot object at 0x7f85ff0bb438>,\n",
              "        <matplotlib.axes._subplots.AxesSubplot object at 0x7f85ff0679e8>,\n",
              "        <matplotlib.axes._subplots.AxesSubplot object at 0x7f85ff096fd0>,\n",
              "        <matplotlib.axes._subplots.AxesSubplot object at 0x7f85ff024048>,\n",
              "        <matplotlib.axes._subplots.AxesSubplot object at 0x7f85feffbb38>],\n",
              "       [<matplotlib.axes._subplots.AxesSubplot object at 0x7f85fefb5128>,\n",
              "        <matplotlib.axes._subplots.AxesSubplot object at 0x7f85fef646d8>,\n",
              "        <matplotlib.axes._subplots.AxesSubplot object at 0x7f85fef95c88>,\n",
              "        <matplotlib.axes._subplots.AxesSubplot object at 0x7f85fef52278>,\n",
              "        <matplotlib.axes._subplots.AxesSubplot object at 0x7f85fef02828>],\n",
              "       [<matplotlib.axes._subplots.AxesSubplot object at 0x7f85feeb1dd8>,\n",
              "        <matplotlib.axes._subplots.AxesSubplot object at 0x7f8621b3d128>,\n",
              "        <matplotlib.axes._subplots.AxesSubplot object at 0x7f85feecb668>,\n",
              "        <matplotlib.axes._subplots.AxesSubplot object at 0x7f85fee7bc18>,\n",
              "        <matplotlib.axes._subplots.AxesSubplot object at 0x7f85fee38208>],\n",
              "       [<matplotlib.axes._subplots.AxesSubplot object at 0x7f85fede77b8>,\n",
              "        <matplotlib.axes._subplots.AxesSubplot object at 0x7f85fee17d68>,\n",
              "        <matplotlib.axes._subplots.AxesSubplot object at 0x7f85fedd5358>,\n",
              "        <matplotlib.axes._subplots.AxesSubplot object at 0x7f85fed83908>,\n",
              "        <matplotlib.axes._subplots.AxesSubplot object at 0x7f85fed34eb8>]],\n",
              "      dtype=object)"
            ]
          },
          "execution_count": 115,
          "metadata": {
            "tags": []
          },
          "output_type": "execute_result"
        },
        {
          "data": {
            "image/png": "[encoded data removed]",
            "text/plain": [
              "<Figure size 864x576 with 25 Axes>"
            ]
          },
          "metadata": {
            "tags": []
          },
          "output_type": "display_data"
        }
      ],
      "source": [
        "attributes = [\"date_block_num\", \"item_cnt_month\", \"shop_id\", \"item_id\", \"date\"]\n",
        "scatter_matrix(sales_train_[attributes], figsize=(12, 8))"
      ]
    },
    {
      "cell_type": "markdown",
      "metadata": {
        "colab_type": "text",
        "id": "-brW4rDQI96h"
      },
      "source": [
        "Interesting correlations from the plot:\n",
        "* **shop_id** - **item_cnt_month**\n",
        "* **date_block_num** - **item_cnt_month**"
      ]
    },
    {
      "cell_type": "markdown",
      "metadata": {
        "colab_type": "text",
        "id": "8POfCuTb6lMn"
      },
      "source": [
        "#### Plot a complex map"
      ]
    },
    {
      "cell_type": "code",
      "execution_count": 10,
      "metadata": {
        "colab": {
          "base_uri": "https://localhost:8080/",
          "height": 484
        },
        "colab_type": "code",
        "id": "vt3va2rIgFYI",
        "outputId": "f130c34c-7c98-435d-f0e5-a67ef6d9e781"
      },
      "outputs": [
        {
          "name": "stderr",
          "output_type": "stream",
          "text": [
            "No handles with labels found to put in legend.\n"
          ]
        },
        {
          "data": {
            "text/plain": [
              "<matplotlib.legend.Legend at 0x7f251ed88908>"
            ]
          },
          "execution_count": 10,
          "metadata": {
            "tags": []
          },
          "output_type": "execute_result"
        },
        {
          "data": {
            "image/png": "[encoded data removed]",
            "text/plain": [
              "<Figure size 864x504 with 1 Axes>"
            ]
          },
          "metadata": {
            "tags": []
          },
          "output_type": "display_data"
        }
      ],
      "source": [
        "sales_train_.plot(kind=\"scatter\", \n",
        "                  x=\"date_block_num\", \n",
        "                  y=\"item_cnt_month\",\n",
        "                  # s=sales_train_[\"shop_id\"], # the size of the circles\n",
        "                  # label=\"shop_id\",\n",
        "                  # c=\"item_price_med\", cmap=plt.get_cmap(\"jet\"), colorbar=True, # the color of the circles\n",
        "                  figsize=(12,7),\n",
        "                  alpha=0.5, sharex=False\n",
        "                  )\n",
        "plt.legend()"
      ]
    },
    {
      "cell_type": "code",
      "execution_count": 11,
      "metadata": {
        "colab": {
          "base_uri": "https://localhost:8080/",
          "height": 484
        },
        "colab_type": "code",
        "id": "qITK3s-7RXHX",
        "outputId": "849bf6cc-3129-4dac-dbb1-0d46cba40678"
      },
      "outputs": [
        {
          "name": "stderr",
          "output_type": "stream",
          "text": [
            "No handles with labels found to put in legend.\n"
          ]
        },
        {
          "data": {
            "text/plain": [
              "<matplotlib.legend.Legend at 0x7f251f035b00>"
            ]
          },
          "execution_count": 11,
          "metadata": {
            "tags": []
          },
          "output_type": "execute_result"
        },
        {
          "data": {
            "image/png": "[encoded data removed]",
            "text/plain": [
              "<Figure size 864x504 with 1 Axes>"
            ]
          },
          "metadata": {
            "tags": []
          },
          "output_type": "display_data"
        }
      ],
      "source": [
        "sales_train_.plot(kind=\"scatter\", \n",
        "                  x=\"shop_id\", \n",
        "                  y=\"item_cnt_month\",\n",
        "                  figsize=(12,7),\n",
        "                  sharex=False\n",
        "                  )\n",
        "plt.legend()"
      ]
    },
    {
      "cell_type": "markdown",
      "metadata": {
        "colab_type": "text",
        "id": "hbrUvboaSy0X"
      },
      "source": [
        "## Compute a test set"
      ]
    },
    {
      "cell_type": "markdown",
      "metadata": {
        "colab_type": "text",
        "id": "04A0rw2jwUst"
      },
      "source": [
        "### var 1\n",
        "\n",
        "Compute a hash of each instance’s identifier and put that instance in the test set if the hash is lower or equal to 20% of the maximum hash value. This ensures that the test set will remain consistent across multiple runs, even if you refresh the dataset. The new test set will contain 20% of the new instances, but it will not contain any instance that was previously in the training set."
      ]
    },
    {
      "cell_type": "code",
      "execution_count": 14,
      "metadata": {},
      "outputs": [],
      "source": [
        "sales_train_with_id = sales_train.reset_index()   # adds an `index` column\n",
        "train_set, test_set = split_train_test_by_id(sales_train_with_id, 0.2, \"index\")"
      ]
    },
    {
      "cell_type": "markdown",
      "metadata": {
        "colab_type": "text",
        "id": "KMuK49bBwrR-"
      },
      "source": [
        "### var 2\n",
        "\n",
        "> &uarr; use this\n"
      ]
    },
    {
      "cell_type": "code",
      "execution_count": 15,
      "metadata": {},
      "outputs": [],
      "source": [
        "# this method is used because we'll have only one epoch of training\n",
        "from sklearn.model_selection import train_test_split\n",
        "\n",
        "train_set, test_set = train_test_split(sales_train_, train_size=0.8, shuffle=False) # 80% of data will be chosen for train_set"
      ]
    },
    {
      "cell_type": "markdown",
      "metadata": {
        "colab_type": "text",
        "id": "ybRAFpYixCiz"
      },
      "source": [
        "### copy the train_set"
      ]
    },
    {
      "cell_type": "code",
      "execution_count": 16,
      "metadata": {},
      "outputs": [],
      "source": [
        "sales_train_ts = train_set.copy()"
      ]
    },
    {
      "cell_type": "markdown",
      "metadata": {
        "colab_type": "text",
        "id": "z0sisC0v-pxV"
      },
      "source": [
        "---\n",
        "# Prepare the data for Machine Learning algorithms"
      ]
    },
    {
      "cell_type": "markdown",
      "metadata": {
        "colab_type": "text",
        "id": "dsHK6AZqhM-u"
      },
      "source": [
        "**>> ?**\n",
        "\n",
        "I didn't understand exactly what the negative values repesent, but I suppose that:\n",
        "\n",
        "* item_cnt_day -- items stolen or not added to the inventory\n",
        "* item_price -- items stolen, sold under the real price or offered as bonus\n",
        "\n"
      ]
    },
    {
      "cell_type": "code",
      "execution_count": 0,
      "metadata": {
        "colab": {},
        "colab_type": "code",
        "id": "y2iEwbX1IvsL"
      },
      "outputs": [],
      "source": [
        "# cleanup the rows which have the item_cnt_day and item_price with negative values\n",
        "\n",
        "# sales_train_ts = sales_train_ts[~(sales_train_ts['item_cnt_day'] < 0)]\n",
        "# sales_train_ts = sales_train_ts[~(sales_train_ts['item_price'] < 0)]"
      ]
    },
    {
      "cell_type": "code",
      "execution_count": 17,
      "metadata": {},
      "outputs": [],
      "source": [
        "# The predictor will be the feature item_cnt_month\n",
        "\n",
        "sales_train_ts_lb = sales_train_ts['item_cnt_month'].copy()\n",
        "sales_train_ts.drop('item_cnt_month', axis=1, inplace=True)"
      ]
    },
    {
      "cell_type": "markdown",
      "metadata": {
        "colab_type": "text",
        "id": "zAv_Hgi0ovfK"
      },
      "source": [
        "### Preprocess the categorical input features\n",
        "* item_id\n",
        "* shop_id\n",
        "* <strike>date</strike> [---](#eacv2)"
      ]
    },
    {
      "cell_type": "code",
      "execution_count": 18,
      "metadata": {},
      "outputs": [],
      "source": [
        "from sklearn.preprocessing import OneHotEncoder\n",
        "\n",
        "item_cat_1hot = OneHotEncoder().fit_transform(sales_train_ts[[\"item_id\"]])\n",
        "shop_cat_1hot = OneHotEncoder().fit_transform(sales_train_ts[[\"shop_id\"]])\n",
        "\n",
        "attr_to_be_dropped = {\n",
        "    \"item_id\",\n",
        "    \"shop_id\"\n",
        "    }\n",
        "sales_train_num = sales_train_ts.drop(attr_to_be_dropped, axis=1)"
      ]
    },
    {
      "cell_type": "code",
      "execution_count": 19,
      "metadata": {},
      "outputs": [
        {
          "data": {
            "text/html": "<div>\n<style scoped>\n    .dataframe tbody tr th:only-of-type {\n        vertical-align: middle;\n    }\n\n    .dataframe tbody tr th {\n        vertical-align: top;\n    }\n\n    .dataframe thead th {\n        text-align: right;\n    }\n</style>\n<table border=\"1\" class=\"dataframe\">\n  <thead>\n    <tr style=\"text-align: right;\">\n      <th></th>\n      <th>date_block_num</th>\n      <th>item_price</th>\n      <th>item_cnt_day</th>\n      <th>date</th>\n    </tr>\n  </thead>\n  <tbody>\n    <tr>\n      <th>0</th>\n      <td>0</td>\n      <td>999.00</td>\n      <td>1.0</td>\n      <td>20130102</td>\n    </tr>\n    <tr>\n      <th>1</th>\n      <td>0</td>\n      <td>899.00</td>\n      <td>1.0</td>\n      <td>20130103</td>\n    </tr>\n    <tr>\n      <th>2</th>\n      <td>0</td>\n      <td>899.00</td>\n      <td>-1.0</td>\n      <td>20130105</td>\n    </tr>\n    <tr>\n      <th>3</th>\n      <td>0</td>\n      <td>1709.05</td>\n      <td>1.0</td>\n      <td>20130106</td>\n    </tr>\n    <tr>\n      <th>4</th>\n      <td>0</td>\n      <td>1099.00</td>\n      <td>1.0</td>\n      <td>20130115</td>\n    </tr>\n    <tr>\n      <th>...</th>\n      <td>...</td>\n      <td>...</td>\n      <td>...</td>\n      <td>...</td>\n    </tr>\n    <tr>\n      <th>2348674</th>\n      <td>24</td>\n      <td>1083.25</td>\n      <td>1.0</td>\n      <td>20150106</td>\n    </tr>\n    <tr>\n      <th>2348675</th>\n      <td>24</td>\n      <td>1399.00</td>\n      <td>1.0</td>\n      <td>20150118</td>\n    </tr>\n    <tr>\n      <th>2348676</th>\n      <td>24</td>\n      <td>1199.00</td>\n      <td>1.0</td>\n      <td>20150115</td>\n    </tr>\n    <tr>\n      <th>2348677</th>\n      <td>24</td>\n      <td>149.00</td>\n      <td>1.0</td>\n      <td>20150113</td>\n    </tr>\n    <tr>\n      <th>2348678</th>\n      <td>24</td>\n      <td>149.00</td>\n      <td>1.0</td>\n      <td>20150123</td>\n    </tr>\n  </tbody>\n</table>\n<p>2348679 rows × 4 columns</p>\n</div>",
            "text/plain": "         date_block_num  item_price  item_cnt_day      date\n0                     0      999.00           1.0  20130102\n1                     0      899.00           1.0  20130103\n2                     0      899.00          -1.0  20130105\n3                     0     1709.05           1.0  20130106\n4                     0     1099.00           1.0  20130115\n...                 ...         ...           ...       ...\n2348674              24     1083.25           1.0  20150106\n2348675              24     1399.00           1.0  20150118\n2348676              24     1199.00           1.0  20150115\n2348677              24      149.00           1.0  20150113\n2348678              24      149.00           1.0  20150123\n\n[2348679 rows x 4 columns]"
          },
          "execution_count": 19,
          "metadata": {},
          "output_type": "execute_result"
        }
      ],
      "source": [
        "sales_train_num"
      ]
    },
    {
      "cell_type": "markdown",
      "metadata": {
        "colab_type": "text",
        "id": "7dEwo8Laqzr0"
      },
      "source": [
        "### Build a pipeline for preprocessing the numerical attributes"
      ]
    },
    {
      "cell_type": "markdown",
      "metadata": {
        "colab_type": "text",
        "id": "Nzugh41Jf2Gk"
      },
      "source": [
        "#### Now let's build a pipeline for preprocessing the numerical attributes:"
      ]
    },
    {
      "cell_type": "code",
      "execution_count": 20,
      "metadata": {},
      "outputs": [],
      "source": [
        "from sklearn.pipeline import Pipeline\n",
        "from sklearn.preprocessing import StandardScaler\n",
        "from sklearn.impute import SimpleImputer\n",
        "\n",
        "num_pipeline = Pipeline([ # a small pipeline for the numerical attributes\n",
        "        ('imputer', SimpleImputer(strategy=\"median\")),\n",
        "        # ('attribs_adder', CombinedAttributesAdder()),\n",
        "        ('std_scaler', StandardScaler()),\n",
        "    ])\n",
        "\n",
        "sales_train_num_tr = num_pipeline.fit_transform(sales_train_num)"
      ]
    },
    {
      "cell_type": "markdown",
      "metadata": {
        "colab_type": "text",
        "id": "63pQs_AUyGX6"
      },
      "source": [
        "In version 0.20, Scikit-Learn introduced the ColumnTransformer to have a single transformer able to handle all columns -- to avoid handle the categorical columns and the numerical columns separately\n"
      ]
    },
    {
      "cell_type": "code",
      "execution_count": 21,
      "metadata": {},
      "outputs": [],
      "source": [
        "from sklearn.compose import ColumnTransformer\n",
        "\n",
        "num_attribs = list(sales_train_num)\n",
        "# item_attribs = [[\"item_id\"], [\"shop_id\"]]\n",
        "\n",
        "full_pipeline = ColumnTransformer([\n",
        "        (\"num\", num_pipeline, num_attribs),\n",
        "        # ([\"itm\", \"shp\"], OneHotEncoder(), item_attribs)\n",
        "        (\"itm\", OneHotEncoder(), [\"item_id\"]),\n",
        "        (\"shp\", OneHotEncoder(), [\"shop_id\"]),\n",
        "    ])\n",
        "\n",
        "sales_train_ts_prep = full_pipeline.fit_transform(sales_train_ts)"
      ]
    },
    {
      "cell_type": "markdown",
      "metadata": {
        "colab_type": "text",
        "id": "e98B5X-Y0gJi"
      },
      "source": [
        "Here is how this works: first we import the ColumnTransformer class, next we get the list of numerical column names and the list of categorical column names, and we construct a ColumnTransformer. The constructor requires a list of tuples, where each tuple contains a name, a transformer and a list of names (or indices) of columns that the transformer should be applied to. \n",
        "\n",
        "In this example, we specify that the numerical columns should be transformed using the num_pipeline that we defined earlier, and the categorical columns should be transformed using a OneHotEncoder. \n",
        "\n",
        "Finally, we apply this ColumnTransformer to the **sales_train** data: it applies each transformer to the appropriate columns and concatenates the outputs along the second axis (the transformers must return the same number of rows)."
      ]
    },
    {
      "cell_type": "markdown",
      "metadata": {
        "colab_type": "text",
        "id": "xuKU4L42tRwp"
      },
      "source": [
        "---\n",
        "# The model"
      ]
    },
    {
      "cell_type": "code",
      "execution_count": 0,
      "metadata": {
        "colab": {},
        "colab_type": "code",
        "id": "eE7bZgVPhx9k"
      },
      "outputs": [],
      "source": [
        "### this is a draft\n",
        "\n",
        "# lin1 = sklearn.linear_model.LinearRegression()\n",
        "\n",
        "# Xsample1 = np.c_[sales_train_mdl[\"date_block_num\"]]\n",
        "# ysample1 = np.c_[sales_train_mdl[\"item_cnt_day\"]]\n",
        "# lin1.fit(Xsample1, ysample1)\n",
        "# t0 = lin1.intercept_[0]\n",
        "# t1 = lin1.coef_[0][0]\n",
        "\n",
        "# sales_train_mdl.plot(kind='scatter', x=\"date_block_num\", y='item_cnt_day')\n",
        "# y = np.linspace(sales_train_mdl[\"date_block_num\"].min(), sales_train_mdl[\"date_block_num\"].max())\n",
        "# # plt.plot(y, t0 + t1*y, \"r+\", alpha=1) # the trend is not visible if it's plotted here"
      ]
    },
    {
      "cell_type": "code",
      "execution_count": 0,
      "metadata": {
        "colab": {},
        "colab_type": "code",
        "id": "MhArW2sVeIYZ"
      },
      "outputs": [],
      "source": [
        "### this is a draft\n",
        "\n",
        "# plt.plot(y, t0 + t1*y, \"r+\") # this describes a linear trend"
      ]
    },
    {
      "cell_type": "markdown",
      "metadata": {
        "colab_type": "text",
        "id": "cgEYIFm4KG7N"
      },
      "source": [
        "## Linear Regression"
      ]
    },
    {
      "cell_type": "code",
      "execution_count": 22,
      "metadata": {},
      "outputs": [
        {
          "name": "stdout",
          "output_type": "stream",
          "text": "2020-02-05 20:13:33.653041\n2020-02-05 20:15:37.629983\n"
        }
      ],
      "source": [
        "from sklearn.linear_model import LinearRegression\n",
        "\n",
        "print(datetime.datetime.now())\n",
        "lin_reg = LinearRegression()\n",
        "lin_reg.fit(sales_train_ts_prep, sales_train_ts_lb)\n",
        "print(datetime.datetime.now())"
      ]
    },
    {
      "cell_type": "code",
      "execution_count": 37,
      "metadata": {
        "colab": {
          "base_uri": "https://localhost:8080/",
          "height": 34
        },
        "colab_type": "code",
        "id": "-cC8fdxBY0jP",
        "outputId": "db47a8e1-ae80-4e61-fa64-76aa1380d52e"
      },
      "outputs": [
        {
          "data": {
            "text/plain": [
              "['drive/My Drive/Colab Notebooks/kaggle_competitive_data_science_predict_future_sales/models/lin_reg.pkl']"
            ]
          },
          "execution_count": 37,
          "metadata": {
            "tags": []
          },
          "output_type": "execute_result"
        }
      ],
      "source": [
        "# Save the current model in Drive\n",
        "\n",
        "joblib.dump(lin_reg, \"%smodels/lin_reg.pkl\" % colab_path)"
      ]
    },
    {
      "cell_type": "code",
      "execution_count": 15,
      "metadata": {},
      "outputs": [
        {
          "name": "stdout",
          "output_type": "stream",
          "text": "Predictions: [1913.19634677 7681.00405623 7665.18102295 8214.36870995 7947.97978686]\n"
        }
      ],
      "source": [
        "# let's try the full preprocessing pipeline on a few training instances\n",
        "some_data = sales_train_ts.iloc[:5]\n",
        "some_labels = sales_train_ts_lb.iloc[:5]\n",
        "some_data_prepared = full_pipeline.transform(some_data)\n",
        "\n",
        "print(\"Predictions:\", lin_reg.predict(some_data_prepared))"
      ]
    },
    {
      "cell_type": "code",
      "execution_count": 44,
      "metadata": {
        "colab": {
          "base_uri": "https://localhost:8080/",
          "height": 34
        },
        "colab_type": "code",
        "id": "eizt8DyMDW1n",
        "outputId": "55da8cdf-cb7e-4694-a3a7-34465ae64bbe"
      },
      "outputs": [
        {
          "name": "stdout",
          "output_type": "stream",
          "text": [
            "Labels: [2017, 8215, 8215, 8215, 8215]\n"
          ]
        }
      ],
      "source": [
        "print(\"Labels:\", list(some_labels))"
      ]
    },
    {
      "cell_type": "markdown",
      "metadata": {
        "colab_type": "text",
        "id": "mOvqZ5w6DW1r"
      },
      "source": [
        "Compare against the actual values:"
      ]
    },
    {
      "cell_type": "code",
      "execution_count": 16,
      "metadata": {},
      "outputs": [
        {
          "data": {
            "text/plain": "945.6653657767256"
          },
          "execution_count": 16,
          "metadata": {},
          "output_type": "execute_result"
        }
      ],
      "source": [
        "sales_train_predictions = lin_reg.predict(sales_train_ts_prep)\n",
        "lin_mse = mean_squared_error(sales_train_ts_lb, sales_train_predictions)\n",
        "lin_rmse = np.sqrt(lin_mse)\n",
        "lin_rmse"
      ]
    },
    {
      "cell_type": "code",
      "execution_count": 41,
      "metadata": {
        "colab": {
          "base_uri": "https://localhost:8080/",
          "height": 34
        },
        "colab_type": "code",
        "id": "fzXWIYYeDW1x",
        "outputId": "924c8aa3-8da1-4850-d9da-240f963ba250"
      },
      "outputs": [
        {
          "data": {
            "text/plain": [
              "635.259837605684"
            ]
          },
          "execution_count": 41,
          "metadata": {
            "tags": []
          },
          "output_type": "execute_result"
        }
      ],
      "source": [
        "from sklearn.metrics import mean_absolute_error\n",
        "\n",
        "lin_mae = mean_absolute_error(sales_train_ts_lb, sales_train_predictions)\n",
        "lin_mae"
      ]
    },
    {
      "cell_type": "markdown",
      "metadata": {
        "colab_type": "text",
        "id": "ZL6cf-MLLCg9"
      },
      "source": [
        "The model underfits the training data -- it can mean that the features do not provide enough information to make good predictions, or that the model is not powerful enough"
      ]
    },
    {
      "cell_type": "markdown",
      "metadata": {
        "colab_type": "text",
        "id": "NPNnaGzPDW10"
      },
      "source": [
        "## Decision Tree Regressor"
      ]
    },
    {
      "cell_type": "code",
      "execution_count": 38,
      "metadata": {
        "colab": {
          "base_uri": "https://localhost:8080/",
          "height": 51
        },
        "colab_type": "code",
        "id": "dfmsp_w1DW17",
        "outputId": "71a784d9-4dbe-43f0-9031-8eaa40a35c5f"
      },
      "outputs": [
        {
          "name": "stdout",
          "output_type": "stream",
          "text": [
            "2020-02-05 14:47:23.326804\n",
            "2020-02-05 14:48:13.399870\n"
          ]
        }
      ],
      "source": [
        "from sklearn.tree import DecisionTreeRegressor\n",
        "\n",
        "print(datetime.datetime.now())\n",
        "tree_reg = DecisionTreeRegressor(random_state=42)\n",
        "tree_reg.fit(sales_train_ts_prep, sales_train_ts_lb)\n",
        "print(datetime.datetime.now())"
      ]
    },
    {
      "cell_type": "code",
      "execution_count": 41,
      "metadata": {
        "colab": {
          "base_uri": "https://localhost:8080/",
          "height": 34
        },
        "colab_type": "code",
        "id": "o3mzLD0sDW2D",
        "outputId": "5daa6006-306d-4610-82dd-5a3973ce7174"
      },
      "outputs": [
        {
          "data": {
            "text/plain": [
              "0.0"
            ]
          },
          "execution_count": 41,
          "metadata": {
            "tags": []
          },
          "output_type": "execute_result"
        }
      ],
      "source": [
        "sales_train_predictions = tree_reg.predict(sales_train_ts_prep)\n",
        "tree_mse = mean_squared_error(sales_train_ts_lb, sales_train_predictions)\n",
        "tree_rmse = np.sqrt(tree_mse)\n",
        "tree_rmse"
      ]
    },
    {
      "cell_type": "markdown",
      "metadata": {
        "colab_type": "text",
        "id": "VYY1Km4vJlX0"
      },
      "source": [
        "the result is 0.0 --> the model is overfitting the training set badly"
      ]
    },
    {
      "cell_type": "code",
      "execution_count": 42,
      "metadata": {
        "colab": {
          "base_uri": "https://localhost:8080/",
          "height": 34
        },
        "colab_type": "code",
        "id": "YdlJYoSAX4JN",
        "outputId": "bf5f2c46-2aa3-45e5-b0f9-0c1866c7b3b6"
      },
      "outputs": [
        {
          "data": {
            "text/plain": [
              "['drive/My Drive/Colab Notebooks/kaggle_competitive_data_science_predict_future_sales/models/tree_reg.pkl']"
            ]
          },
          "execution_count": 42,
          "metadata": {
            "tags": []
          },
          "output_type": "execute_result"
        }
      ],
      "source": [
        "# Save the current model in Drive\n",
        "\n",
        "joblib.dump(tree_reg, \"%smodels/tree_reg.pkl\" % colab_path)"
      ]
    },
    {
      "cell_type": "markdown",
      "metadata": {
        "colab_type": "text",
        "id": "4nT2uIN4L7kU"
      },
      "source": [
        "## Evaluation using **Cross-Validation** for _Linear Regression_ and _Decision Tree Regressor_ models"
      ]
    },
    {
      "cell_type": "markdown",
      "execution_count": null,
      "metadata": {},
      "outputs": [],
      "source": [
        "Little things for Cross-Validation\n",
        "\n",
        "There are some caveats in the train/test split method (80%-20%). In order to avoid this, we can perform something called **cross validation**. It’s very similar to train/test split, but it’s applied to more subsets. Meaning, we split our data into k subsets, and train on k-1 one of those subset. What we do is to hold the last subset for test. We’re able to do it for each of the subsets.\n",
        "\n",
        "![](https://miro.medium.com/max/1185/1*4G__SV580CxFj78o9yUXuQ.png)"
      ]
    },
    {
      "cell_type": "markdown",
      "metadata": {
        "colab_type": "text",
        "id": "QggQ3pRQMbXQ"
      },
      "source": [
        "A great alternative* to evaluate the **Decision Tree model** is to use Scikit-Learn’s cross-validation feature. The following code performs K-fold cross-validation: it randomly splits the training set into 10 distinct subsets called folds, then it trains and evaluates the Decision Tree model 10 times, picking a different fold for evaluation every time and training on the other 9 folds. The result is an array containing the 10 evaluation scores:\n",
        "\n",
        "`*One way to evaluate the Decision Tree model would be to use the train_test_split function to split the training set into a smaller training set and a validation set, then train your models against the smaller training set and evaluate them against the validation set. It’s a bit of work...`"
      ]
    },
    {
      "cell_type": "markdown",
      "metadata": {
        "colab_type": "text",
        "id": "-MhO18ObM3ey"
      },
      "source": [
        "Scikit-Learn’s cross-validation features expect a *utility function* (greater is better)"
      ]
    },
    {
      "cell_type": "code",
      "execution_count": 0,
      "metadata": {
        "colab": {},
        "colab_type": "code",
        "id": "UdJujIA2L9VY"
      },
      "outputs": [],
      "source": [
        "from sklearn.model_selection import cross_val_score\n",
        "\n",
        "scores = cross_val_score(tree_reg, # Decision Tree Regression\n",
        "                         sales_train_ts_prep, sales_train_ts_lb,\n",
        "                         scoring=\"neg_mean_squared_error\", cv=10)\n",
        "tree_rmse_scores = np.sqrt(-scores)"
      ]
    },
    {
      "cell_type": "code",
      "execution_count": 46,
      "metadata": {
        "colab": {
          "base_uri": "https://localhost:8080/",
          "height": 85
        },
        "colab_type": "code",
        "id": "DtC084cIL-92",
        "outputId": "c3c7f865-32c7-402d-8caa-c42e38030fa6"
      },
      "outputs": [
        {
          "name": "stdout",
          "output_type": "stream",
          "text": [
            "Scores: [1154.18216135  991.97927223  578.12261944  468.93434823 1493.46599155\n",
            " 1829.94513933  460.20095367  462.74438862  820.08943456 2074.20357007]\n",
            "Mean: 1033.38678790521\n",
            "Standard deviation: 563.1452999529927\n"
          ]
        }
      ],
      "source": [
        "def display_scores(scores):\n",
        "    print(\"Scores:\", scores)\n",
        "    print(\"Mean:\", scores.mean())\n",
        "    print(\"Standard deviation:\", scores.std())\n",
        "\n",
        "display_scores(tree_rmse_scores)"
      ]
    },
    {
      "cell_type": "code",
      "execution_count": 47,
      "metadata": {
        "colab": {
          "base_uri": "https://localhost:8080/",
          "height": 85
        },
        "colab_type": "code",
        "id": "o9Pjtr-eMBoE",
        "outputId": "d225832b-47f5-4476-939a-04b9db96713e"
      },
      "outputs": [
        {
          "name": "stdout",
          "output_type": "stream",
          "text": [
            "Scores: [1002.85700693  928.10915351  709.08649255  573.00833524 1154.24329741\n",
            " 1531.48986869  690.47800705 1022.91480785 1220.46128013 1965.2870501 ]\n",
            "Mean: 1079.7935299455162\n",
            "Standard deviation: 398.9288941224045\n"
          ]
        }
      ],
      "source": [
        "lin_scores = cross_val_score(lin_reg, # Linear Regression\n",
        "                             sales_train_ts_prep, sales_train_ts_lb,\n",
        "                             scoring=\"neg_mean_squared_error\", cv=10)\n",
        "lin_rmse_scores = np.sqrt(-lin_scores)\n",
        "display_scores(lin_rmse_scores)"
      ]
    },
    {
      "cell_type": "markdown",
      "metadata": {
        "colab_type": "text",
        "id": "vG4QPc_IKMPS"
      },
      "source": [
        "## Random Forest Regressor \n",
        "\n",
        "[Understanding Random Forest](https://towardsdatascience.com/understanding-random-forest-58381e0602d2) -- How the Algorithm Works and Why it Is So Effective"
      ]
    },
    {
      "cell_type": "code",
      "execution_count": 11,
      "metadata": {},
      "outputs": [
        {
          "name": "stdout",
          "output_type": "stream",
          "text": "2020-02-05 19:01:57.978695\n"
        },
        {
          "ename": "KeyboardInterrupt",
          "evalue": "",
          "output_type": "error",
          "traceback": [
            "\u001b[1;31m---------------------------------------------------------------------------\u001b[0m",
            "\u001b[1;31mKeyboardInterrupt\u001b[0m                         Traceback (most recent call last)",
            "\u001b[1;32m<ipython-input-11-52676cd020a3>\u001b[0m in \u001b[0;36m<module>\u001b[1;34m\u001b[0m\n\u001b[0;32m      3\u001b[0m \u001b[0mprint\u001b[0m\u001b[1;33m(\u001b[0m\u001b[0mdatetime\u001b[0m\u001b[1;33m.\u001b[0m\u001b[0mdatetime\u001b[0m\u001b[1;33m.\u001b[0m\u001b[0mnow\u001b[0m\u001b[1;33m(\u001b[0m\u001b[1;33m)\u001b[0m\u001b[1;33m)\u001b[0m\u001b[1;33m\u001b[0m\u001b[0m\n\u001b[0;32m      4\u001b[0m \u001b[0mforest_reg\u001b[0m \u001b[1;33m=\u001b[0m \u001b[0mRandomForestRegressor\u001b[0m\u001b[1;33m(\u001b[0m\u001b[0mn_estimators\u001b[0m\u001b[1;33m=\u001b[0m\u001b[1;36m100\u001b[0m\u001b[1;33m,\u001b[0m \u001b[0mrandom_state\u001b[0m\u001b[1;33m=\u001b[0m\u001b[1;36m42\u001b[0m\u001b[1;33m)\u001b[0m\u001b[1;33m\u001b[0m\u001b[0m\n\u001b[1;32m----> 5\u001b[1;33m \u001b[0mforest_reg\u001b[0m\u001b[1;33m.\u001b[0m\u001b[0mfit\u001b[0m\u001b[1;33m(\u001b[0m\u001b[0msales_train_ts_prep\u001b[0m\u001b[1;33m,\u001b[0m \u001b[0msales_train_ts_lb\u001b[0m\u001b[1;33m)\u001b[0m\u001b[1;33m\u001b[0m\u001b[0m\n\u001b[0m\u001b[0;32m      6\u001b[0m \u001b[0mprint\u001b[0m\u001b[1;33m(\u001b[0m\u001b[0mdatetime\u001b[0m\u001b[1;33m.\u001b[0m\u001b[0mdatetime\u001b[0m\u001b[1;33m.\u001b[0m\u001b[0mnow\u001b[0m\u001b[1;33m(\u001b[0m\u001b[1;33m)\u001b[0m\u001b[1;33m)\u001b[0m\u001b[1;33m\u001b[0m\u001b[0m\n",
            "\u001b[1;32md:\\work\\ml\\handson-ml2\\ml_env\\lib\\site-packages\\sklearn\\ensemble\\_forest.py\u001b[0m in \u001b[0;36mfit\u001b[1;34m(self, X, y, sample_weight)\u001b[0m\n\u001b[0;32m    381\u001b[0m                     \u001b[0mverbose\u001b[0m\u001b[1;33m=\u001b[0m\u001b[0mself\u001b[0m\u001b[1;33m.\u001b[0m\u001b[0mverbose\u001b[0m\u001b[1;33m,\u001b[0m \u001b[0mclass_weight\u001b[0m\u001b[1;33m=\u001b[0m\u001b[0mself\u001b[0m\u001b[1;33m.\u001b[0m\u001b[0mclass_weight\u001b[0m\u001b[1;33m,\u001b[0m\u001b[1;33m\u001b[0m\u001b[0m\n\u001b[0;32m    382\u001b[0m                     n_samples_bootstrap=n_samples_bootstrap)\n\u001b[1;32m--> 383\u001b[1;33m                 for i, t in enumerate(trees))\n\u001b[0m\u001b[0;32m    384\u001b[0m \u001b[1;33m\u001b[0m\u001b[0m\n\u001b[0;32m    385\u001b[0m             \u001b[1;31m# Collect newly grown trees\u001b[0m\u001b[1;33m\u001b[0m\u001b[1;33m\u001b[0m\u001b[0m\n",
            "\u001b[1;32md:\\work\\ml\\handson-ml2\\ml_env\\lib\\site-packages\\joblib\\parallel.py\u001b[0m in \u001b[0;36m__call__\u001b[1;34m(self, iterable)\u001b[0m\n\u001b[0;32m   1005\u001b[0m                 \u001b[0mself\u001b[0m\u001b[1;33m.\u001b[0m\u001b[0m_iterating\u001b[0m \u001b[1;33m=\u001b[0m \u001b[0mself\u001b[0m\u001b[1;33m.\u001b[0m\u001b[0m_original_iterator\u001b[0m \u001b[1;32mis\u001b[0m \u001b[1;32mnot\u001b[0m \u001b[1;32mNone\u001b[0m\u001b[1;33m\u001b[0m\u001b[0m\n\u001b[0;32m   1006\u001b[0m \u001b[1;33m\u001b[0m\u001b[0m\n\u001b[1;32m-> 1007\u001b[1;33m             \u001b[1;32mwhile\u001b[0m \u001b[0mself\u001b[0m\u001b[1;33m.\u001b[0m\u001b[0mdispatch_one_batch\u001b[0m\u001b[1;33m(\u001b[0m\u001b[0miterator\u001b[0m\u001b[1;33m)\u001b[0m\u001b[1;33m:\u001b[0m\u001b[1;33m\u001b[0m\u001b[0m\n\u001b[0m\u001b[0;32m   1008\u001b[0m                 \u001b[1;32mpass\u001b[0m\u001b[1;33m\u001b[0m\u001b[0m\n\u001b[0;32m   1009\u001b[0m \u001b[1;33m\u001b[0m\u001b[0m\n",
            "\u001b[1;32md:\\work\\ml\\handson-ml2\\ml_env\\lib\\site-packages\\joblib\\parallel.py\u001b[0m in \u001b[0;36mdispatch_one_batch\u001b[1;34m(self, iterator)\u001b[0m\n\u001b[0;32m    833\u001b[0m                 \u001b[1;32mreturn\u001b[0m \u001b[1;32mFalse\u001b[0m\u001b[1;33m\u001b[0m\u001b[0m\n\u001b[0;32m    834\u001b[0m             \u001b[1;32melse\u001b[0m\u001b[1;33m:\u001b[0m\u001b[1;33m\u001b[0m\u001b[0m\n\u001b[1;32m--> 835\u001b[1;33m                 \u001b[0mself\u001b[0m\u001b[1;33m.\u001b[0m\u001b[0m_dispatch\u001b[0m\u001b[1;33m(\u001b[0m\u001b[0mtasks\u001b[0m\u001b[1;33m)\u001b[0m\u001b[1;33m\u001b[0m\u001b[0m\n\u001b[0m\u001b[0;32m    836\u001b[0m                 \u001b[1;32mreturn\u001b[0m \u001b[1;32mTrue\u001b[0m\u001b[1;33m\u001b[0m\u001b[0m\n\u001b[0;32m    837\u001b[0m \u001b[1;33m\u001b[0m\u001b[0m\n",
            "\u001b[1;32md:\\work\\ml\\handson-ml2\\ml_env\\lib\\site-packages\\joblib\\parallel.py\u001b[0m in \u001b[0;36m_dispatch\u001b[1;34m(self, batch)\u001b[0m\n\u001b[0;32m    752\u001b[0m         \u001b[1;32mwith\u001b[0m \u001b[0mself\u001b[0m\u001b[1;33m.\u001b[0m\u001b[0m_lock\u001b[0m\u001b[1;33m:\u001b[0m\u001b[1;33m\u001b[0m\u001b[0m\n\u001b[0;32m    753\u001b[0m             \u001b[0mjob_idx\u001b[0m \u001b[1;33m=\u001b[0m \u001b[0mlen\u001b[0m\u001b[1;33m(\u001b[0m\u001b[0mself\u001b[0m\u001b[1;33m.\u001b[0m\u001b[0m_jobs\u001b[0m\u001b[1;33m)\u001b[0m\u001b[1;33m\u001b[0m\u001b[0m\n\u001b[1;32m--> 754\u001b[1;33m             \u001b[0mjob\u001b[0m \u001b[1;33m=\u001b[0m \u001b[0mself\u001b[0m\u001b[1;33m.\u001b[0m\u001b[0m_backend\u001b[0m\u001b[1;33m.\u001b[0m\u001b[0mapply_async\u001b[0m\u001b[1;33m(\u001b[0m\u001b[0mbatch\u001b[0m\u001b[1;33m,\u001b[0m \u001b[0mcallback\u001b[0m\u001b[1;33m=\u001b[0m\u001b[0mcb\u001b[0m\u001b[1;33m)\u001b[0m\u001b[1;33m\u001b[0m\u001b[0m\n\u001b[0m\u001b[0;32m    755\u001b[0m             \u001b[1;31m# A job can complete so quickly than its callback is\u001b[0m\u001b[1;33m\u001b[0m\u001b[1;33m\u001b[0m\u001b[0m\n\u001b[0;32m    756\u001b[0m             \u001b[1;31m# called before we get here, causing self._jobs to\u001b[0m\u001b[1;33m\u001b[0m\u001b[1;33m\u001b[0m\u001b[0m\n",
            "\u001b[1;32md:\\work\\ml\\handson-ml2\\ml_env\\lib\\site-packages\\joblib\\_parallel_backends.py\u001b[0m in \u001b[0;36mapply_async\u001b[1;34m(self, func, callback)\u001b[0m\n\u001b[0;32m    207\u001b[0m     \u001b[1;32mdef\u001b[0m \u001b[0mapply_async\u001b[0m\u001b[1;33m(\u001b[0m\u001b[0mself\u001b[0m\u001b[1;33m,\u001b[0m \u001b[0mfunc\u001b[0m\u001b[1;33m,\u001b[0m \u001b[0mcallback\u001b[0m\u001b[1;33m=\u001b[0m\u001b[1;32mNone\u001b[0m\u001b[1;33m)\u001b[0m\u001b[1;33m:\u001b[0m\u001b[1;33m\u001b[0m\u001b[0m\n\u001b[0;32m    208\u001b[0m         \u001b[1;34m\"\"\"Schedule a func to be run\"\"\"\u001b[0m\u001b[1;33m\u001b[0m\u001b[0m\n\u001b[1;32m--> 209\u001b[1;33m         \u001b[0mresult\u001b[0m \u001b[1;33m=\u001b[0m \u001b[0mImmediateResult\u001b[0m\u001b[1;33m(\u001b[0m\u001b[0mfunc\u001b[0m\u001b[1;33m)\u001b[0m\u001b[1;33m\u001b[0m\u001b[0m\n\u001b[0m\u001b[0;32m    210\u001b[0m         \u001b[1;32mif\u001b[0m \u001b[0mcallback\u001b[0m\u001b[1;33m:\u001b[0m\u001b[1;33m\u001b[0m\u001b[0m\n\u001b[0;32m    211\u001b[0m             \u001b[0mcallback\u001b[0m\u001b[1;33m(\u001b[0m\u001b[0mresult\u001b[0m\u001b[1;33m)\u001b[0m\u001b[1;33m\u001b[0m\u001b[0m\n",
            "\u001b[1;32md:\\work\\ml\\handson-ml2\\ml_env\\lib\\site-packages\\joblib\\_parallel_backends.py\u001b[0m in \u001b[0;36m__init__\u001b[1;34m(self, batch)\u001b[0m\n\u001b[0;32m    588\u001b[0m         \u001b[1;31m# Don't delay the application, to avoid keeping the input\u001b[0m\u001b[1;33m\u001b[0m\u001b[1;33m\u001b[0m\u001b[0m\n\u001b[0;32m    589\u001b[0m         \u001b[1;31m# arguments in memory\u001b[0m\u001b[1;33m\u001b[0m\u001b[1;33m\u001b[0m\u001b[0m\n\u001b[1;32m--> 590\u001b[1;33m         \u001b[0mself\u001b[0m\u001b[1;33m.\u001b[0m\u001b[0mresults\u001b[0m \u001b[1;33m=\u001b[0m \u001b[0mbatch\u001b[0m\u001b[1;33m(\u001b[0m\u001b[1;33m)\u001b[0m\u001b[1;33m\u001b[0m\u001b[0m\n\u001b[0m\u001b[0;32m    591\u001b[0m \u001b[1;33m\u001b[0m\u001b[0m\n\u001b[0;32m    592\u001b[0m     \u001b[1;32mdef\u001b[0m \u001b[0mget\u001b[0m\u001b[1;33m(\u001b[0m\u001b[0mself\u001b[0m\u001b[1;33m)\u001b[0m\u001b[1;33m:\u001b[0m\u001b[1;33m\u001b[0m\u001b[0m\n",
            "\u001b[1;32md:\\work\\ml\\handson-ml2\\ml_env\\lib\\site-packages\\joblib\\parallel.py\u001b[0m in \u001b[0;36m__call__\u001b[1;34m(self)\u001b[0m\n\u001b[0;32m    254\u001b[0m         \u001b[1;32mwith\u001b[0m \u001b[0mparallel_backend\u001b[0m\u001b[1;33m(\u001b[0m\u001b[0mself\u001b[0m\u001b[1;33m.\u001b[0m\u001b[0m_backend\u001b[0m\u001b[1;33m,\u001b[0m \u001b[0mn_jobs\u001b[0m\u001b[1;33m=\u001b[0m\u001b[0mself\u001b[0m\u001b[1;33m.\u001b[0m\u001b[0m_n_jobs\u001b[0m\u001b[1;33m)\u001b[0m\u001b[1;33m:\u001b[0m\u001b[1;33m\u001b[0m\u001b[0m\n\u001b[0;32m    255\u001b[0m             return [func(*args, **kwargs)\n\u001b[1;32m--> 256\u001b[1;33m                     for func, args, kwargs in self.items]\n\u001b[0m\u001b[0;32m    257\u001b[0m \u001b[1;33m\u001b[0m\u001b[0m\n\u001b[0;32m    258\u001b[0m     \u001b[1;32mdef\u001b[0m \u001b[0m__len__\u001b[0m\u001b[1;33m(\u001b[0m\u001b[0mself\u001b[0m\u001b[1;33m)\u001b[0m\u001b[1;33m:\u001b[0m\u001b[1;33m\u001b[0m\u001b[0m\n",
            "\u001b[1;32md:\\work\\ml\\handson-ml2\\ml_env\\lib\\site-packages\\joblib\\parallel.py\u001b[0m in \u001b[0;36m<listcomp>\u001b[1;34m(.0)\u001b[0m\n\u001b[0;32m    254\u001b[0m         \u001b[1;32mwith\u001b[0m \u001b[0mparallel_backend\u001b[0m\u001b[1;33m(\u001b[0m\u001b[0mself\u001b[0m\u001b[1;33m.\u001b[0m\u001b[0m_backend\u001b[0m\u001b[1;33m,\u001b[0m \u001b[0mn_jobs\u001b[0m\u001b[1;33m=\u001b[0m\u001b[0mself\u001b[0m\u001b[1;33m.\u001b[0m\u001b[0m_n_jobs\u001b[0m\u001b[1;33m)\u001b[0m\u001b[1;33m:\u001b[0m\u001b[1;33m\u001b[0m\u001b[0m\n\u001b[0;32m    255\u001b[0m             return [func(*args, **kwargs)\n\u001b[1;32m--> 256\u001b[1;33m                     for func, args, kwargs in self.items]\n\u001b[0m\u001b[0;32m    257\u001b[0m \u001b[1;33m\u001b[0m\u001b[0m\n\u001b[0;32m    258\u001b[0m     \u001b[1;32mdef\u001b[0m \u001b[0m__len__\u001b[0m\u001b[1;33m(\u001b[0m\u001b[0mself\u001b[0m\u001b[1;33m)\u001b[0m\u001b[1;33m:\u001b[0m\u001b[1;33m\u001b[0m\u001b[0m\n",
            "\u001b[1;32md:\\work\\ml\\handson-ml2\\ml_env\\lib\\site-packages\\sklearn\\ensemble\\_forest.py\u001b[0m in \u001b[0;36m_parallel_build_trees\u001b[1;34m(tree, forest, X, y, sample_weight, tree_idx, n_trees, verbose, class_weight, n_samples_bootstrap)\u001b[0m\n\u001b[0;32m    163\u001b[0m             \u001b[0mcurr_sample_weight\u001b[0m \u001b[1;33m*=\u001b[0m \u001b[0mcompute_sample_weight\u001b[0m\u001b[1;33m(\u001b[0m\u001b[1;34m'balanced'\u001b[0m\u001b[1;33m,\u001b[0m \u001b[0my\u001b[0m\u001b[1;33m,\u001b[0m \u001b[0mindices\u001b[0m\u001b[1;33m)\u001b[0m\u001b[1;33m\u001b[0m\u001b[0m\n\u001b[0;32m    164\u001b[0m \u001b[1;33m\u001b[0m\u001b[0m\n\u001b[1;32m--> 165\u001b[1;33m         \u001b[0mtree\u001b[0m\u001b[1;33m.\u001b[0m\u001b[0mfit\u001b[0m\u001b[1;33m(\u001b[0m\u001b[0mX\u001b[0m\u001b[1;33m,\u001b[0m \u001b[0my\u001b[0m\u001b[1;33m,\u001b[0m \u001b[0msample_weight\u001b[0m\u001b[1;33m=\u001b[0m\u001b[0mcurr_sample_weight\u001b[0m\u001b[1;33m,\u001b[0m \u001b[0mcheck_input\u001b[0m\u001b[1;33m=\u001b[0m\u001b[1;32mFalse\u001b[0m\u001b[1;33m)\u001b[0m\u001b[1;33m\u001b[0m\u001b[0m\n\u001b[0m\u001b[0;32m    166\u001b[0m     \u001b[1;32melse\u001b[0m\u001b[1;33m:\u001b[0m\u001b[1;33m\u001b[0m\u001b[0m\n\u001b[0;32m    167\u001b[0m         \u001b[0mtree\u001b[0m\u001b[1;33m.\u001b[0m\u001b[0mfit\u001b[0m\u001b[1;33m(\u001b[0m\u001b[0mX\u001b[0m\u001b[1;33m,\u001b[0m \u001b[0my\u001b[0m\u001b[1;33m,\u001b[0m \u001b[0msample_weight\u001b[0m\u001b[1;33m=\u001b[0m\u001b[0msample_weight\u001b[0m\u001b[1;33m,\u001b[0m \u001b[0mcheck_input\u001b[0m\u001b[1;33m=\u001b[0m\u001b[1;32mFalse\u001b[0m\u001b[1;33m)\u001b[0m\u001b[1;33m\u001b[0m\u001b[0m\n",
            "\u001b[1;32md:\\work\\ml\\handson-ml2\\ml_env\\lib\\site-packages\\sklearn\\tree\\_classes.py\u001b[0m in \u001b[0;36mfit\u001b[1;34m(self, X, y, sample_weight, check_input, X_idx_sorted)\u001b[0m\n\u001b[0;32m   1223\u001b[0m             \u001b[0msample_weight\u001b[0m\u001b[1;33m=\u001b[0m\u001b[0msample_weight\u001b[0m\u001b[1;33m,\u001b[0m\u001b[1;33m\u001b[0m\u001b[0m\n\u001b[0;32m   1224\u001b[0m             \u001b[0mcheck_input\u001b[0m\u001b[1;33m=\u001b[0m\u001b[0mcheck_input\u001b[0m\u001b[1;33m,\u001b[0m\u001b[1;33m\u001b[0m\u001b[0m\n\u001b[1;32m-> 1225\u001b[1;33m             X_idx_sorted=X_idx_sorted)\n\u001b[0m\u001b[0;32m   1226\u001b[0m         \u001b[1;32mreturn\u001b[0m \u001b[0mself\u001b[0m\u001b[1;33m\u001b[0m\u001b[0m\n\u001b[0;32m   1227\u001b[0m \u001b[1;33m\u001b[0m\u001b[0m\n",
            "\u001b[1;32md:\\work\\ml\\handson-ml2\\ml_env\\lib\\site-packages\\sklearn\\tree\\_classes.py\u001b[0m in \u001b[0;36mfit\u001b[1;34m(self, X, y, sample_weight, check_input, X_idx_sorted)\u001b[0m\n\u001b[0;32m    365\u001b[0m                                            min_impurity_split)\n\u001b[0;32m    366\u001b[0m \u001b[1;33m\u001b[0m\u001b[0m\n\u001b[1;32m--> 367\u001b[1;33m         \u001b[0mbuilder\u001b[0m\u001b[1;33m.\u001b[0m\u001b[0mbuild\u001b[0m\u001b[1;33m(\u001b[0m\u001b[0mself\u001b[0m\u001b[1;33m.\u001b[0m\u001b[0mtree_\u001b[0m\u001b[1;33m,\u001b[0m \u001b[0mX\u001b[0m\u001b[1;33m,\u001b[0m \u001b[0my\u001b[0m\u001b[1;33m,\u001b[0m \u001b[0msample_weight\u001b[0m\u001b[1;33m,\u001b[0m \u001b[0mX_idx_sorted\u001b[0m\u001b[1;33m)\u001b[0m\u001b[1;33m\u001b[0m\u001b[0m\n\u001b[0m\u001b[0;32m    368\u001b[0m \u001b[1;33m\u001b[0m\u001b[0m\n\u001b[0;32m    369\u001b[0m         \u001b[1;32mif\u001b[0m \u001b[0mself\u001b[0m\u001b[1;33m.\u001b[0m\u001b[0mn_outputs_\u001b[0m \u001b[1;33m==\u001b[0m \u001b[1;36m1\u001b[0m \u001b[1;32mand\u001b[0m \u001b[0mis_classifier\u001b[0m\u001b[1;33m(\u001b[0m\u001b[0mself\u001b[0m\u001b[1;33m)\u001b[0m\u001b[1;33m:\u001b[0m\u001b[1;33m\u001b[0m\u001b[0m\n",
            "\u001b[1;31mKeyboardInterrupt\u001b[0m: "
          ]
        }
      ],
      "source": [
        "from sklearn.ensemble import RandomForestRegressor\n",
        "\n",
        "print(datetime.datetime.now())\n",
        "forest_reg = RandomForestRegressor(n_estimators=100, random_state=42)\n",
        "forest_reg.fit(sales_train_ts_prep, sales_train_ts_lb)\n",
        "print(datetime.datetime.now())"
      ]
    },
    {
      "cell_type": "markdown",
      "metadata": {
        "colab_type": "text",
        "id": "uXIBjHw3kQdT"
      },
      "source": [
        ">> \n",
        "&uarr; This gets stuck or takes too long to run"
      ]
    },
    {
      "cell_type": "code",
      "execution_count": 0,
      "metadata": {
        "colab": {},
        "colab_type": "code",
        "id": "XtmVOaH9KpYK"
      },
      "outputs": [],
      "source": [
        "sales_train_predictions = forest_reg.predict(sales_train_ts_prep)\n",
        "forest_mse = mean_squared_error(sales_train_ts_lb, sales_train_predictions)\n",
        "forest_rmse = np.sqrt(forest_mse)\n",
        "forest_rmse"
      ]
    },
    {
      "cell_type": "code",
      "execution_count": 0,
      "metadata": {
        "colab": {},
        "colab_type": "code",
        "id": "xSbG019lYlu0"
      },
      "outputs": [],
      "source": [
        "# Save the current model in Drive\n",
        "\n",
        "joblib.dump(forest_reg, \"%smodels/forest_reg.pkl\" % colab_path)"
      ]
    },
    {
      "cell_type": "markdown",
      "metadata": {
        "colab_type": "text",
        "id": "YECFj5skW1iA"
      },
      "source": [
        "## Evaluation using Cross-Validation for _Random Forest Regressor_ model\n",
        "\n",
        "Random Forests work by training many Decision Trees on random subsets of the features, then averaging out their predictions."
      ]
    },
    {
      "cell_type": "code",
      "execution_count": 0,
      "metadata": {
        "colab": {},
        "colab_type": "code",
        "id": "GzMx9lDRKp2f"
      },
      "outputs": [],
      "source": [
        "from sklearn.model_selection import cross_val_score\n",
        "\n",
        "forest_scores = cross_val_score(forest_reg, # Random Forest Regressor\n",
        "                                sales_train_ts_prep, sales_train_ts_lb,\n",
        "                                scoring=\"neg_mean_squared_error\", cv=10)\n",
        "forest_rmse_scores = np.sqrt(-forest_scores)\n",
        "display_scores(forest_rmse_scores)"
      ]
    },
    {
      "cell_type": "code",
      "execution_count": 0,
      "metadata": {
        "colab": {},
        "colab_type": "code",
        "id": "xi-ielXtKrkY"
      },
      "outputs": [],
      "source": [
        "scores = cross_val_score(lin_reg, sales_train_ts_prep, sales_train_ts_lb, scoring=\"neg_mean_squared_error\", cv=10)\n",
        "pd.Series(np.sqrt(-scores)).describe()"
      ]
    },
    {
      "cell_type": "markdown",
      "metadata": {
        "colab_type": "text",
        "id": "bDVkYNmSf-vZ"
      },
      "source": [
        "# Fine tune the model"
      ]
    },
    {
      "cell_type": "markdown",
      "execution_count": null,
      "metadata": {},
      "outputs": [],
      "source": [
        "## Fine-tune methods"
      ]
    },
    {
      "cell_type": "markdown",
      "execution_count": null,
      "metadata": {},
      "outputs": [],
      "source": [
        "### Grid Search (var 1)\n",
        "\n",
        "The grid search approach is fine when you are exploring relatively few combinations"
      ]
    },
    {
      "cell_type": "markdown",
      "metadata": {
        "colab_type": "text",
        "id": "DsK3nWz9gF39"
      },
      "source": [
        "The model chosen is **RandomForestRegressor**\n",
        "\n",
        "To avoid fiddling with the hyperparameters manually, until finding a great combination of hyperparameter values, use **Scikit-Learn’s GridSearchCV** to search them for our purpose. All we need to do is tell it which hyperparameters we want it to experiment with, and what values to try out, and it will evaluate all the possible combinations of hyperparameter values, using cross-validation."
      ]
    },
    {
      "cell_type": "code",
      "execution_count": 0,
      "metadata": {
        "colab": {},
        "colab_type": "code",
        "id": "1_HVe3ZgK3RD"
      },
      "outputs": [],
      "source": [
        "from sklearn.model_selection import GridSearchCV\n",
        "\n",
        "param_grid = [\n",
        "    # try 12 (3×4) combinations of hyperparameters\n",
        "    {'n_estimators': [3, 10, 30], 'max_features': [2, 4, 6, 8]},\n",
        "    # then try 6 (2×3) combinations\n",
        "    {'bootstrap': [False], 'n_estimators': [3, 10], 'max_features': [2, 3, 4]},\n",
        "  ]\n",
        "\n",
        "forest_reg = RandomForestRegressor(random_state=42)\n",
        "# train across 5 folds, that's a total of (12+6)*5=90 rounds of training \n",
        "grid_search = GridSearchCV(forest_reg, param_grid, cv=5,\n",
        "                           scoring='neg_mean_squared_error',\n",
        "                           return_train_score=True)\n",
        "grid_search.fit(sales_train_ts_prep, sales_train_ts_lb)"
      ]
    },
    {
      "cell_type": "code",
      "execution_count": 0,
      "metadata": {
        "colab": {},
        "colab_type": "code",
        "id": "wmDVAEr7hFeL"
      },
      "outputs": [],
      "source": [
        "# The best hyperparameter combination found:\n",
        "\n",
        "grid_search.best_params_"
      ]
    },
    {
      "cell_type": "code",
      "execution_count": 0,
      "metadata": {
        "colab": {},
        "colab_type": "code",
        "id": "l2CWUb6BhLZo"
      },
      "outputs": [],
      "source": [
        "# get the best estimator directly\n",
        "\n",
        "grid_search.best_estimator_"
      ]
    },
    {
      "cell_type": "markdown",
      "metadata": {
        "colab_type": "text",
        "id": "X9LqT4yShOuz"
      },
      "source": [
        "Let's look at the score of each hyperparameter combination tested during the grid search:"
      ]
    },
    {
      "cell_type": "code",
      "execution_count": 0,
      "metadata": {
        "colab": {},
        "colab_type": "code",
        "id": "n9vhYmdvhPWi"
      },
      "outputs": [],
      "source": [
        "cvres = grid_search.cv_results_\n",
        "for mean_score, params in zip(cvres[\"mean_test_score\"], cvres[\"params\"]):\n",
        "    print(np.sqrt(-mean_score), params) # evaluation scores"
      ]
    },
    {
      "cell_type": "code",
      "execution_count": 0,
      "metadata": {
        "colab": {},
        "colab_type": "code",
        "id": "52Vqk4y0hT1m"
      },
      "outputs": [],
      "source": [
        "pd.DataFrame(grid_search.cv_results_)"
      ]
    },
    {
      "cell_type": "markdown",
      "execution_count": null,
      "metadata": {},
      "outputs": [],
      "source": [
        "### Randomized Search (var 2)\n",
        "\n",
        "when the hyperparameter search space is large, it is often preferable to use RandomizedSearchCV"
      ]
    },
    {
      "cell_type": "code",
      "execution_count": 0,
      "metadata": {
        "colab": {},
        "colab_type": "code",
        "id": "t-BOIqLBhUU5"
      },
      "outputs": [],
      "source": [
        "from sklearn.model_selection import RandomizedSearchCV\n",
        "from scipy.stats import randint\n",
        "\n",
        "param_distribs = {\n",
        "        'n_estimators': randint(low=1, high=200),\n",
        "        'max_features': randint(low=1, high=8),\n",
        "    }\n",
        "\n",
        "forest_reg = RandomForestRegressor(random_state=42)\n",
        "rnd_search = RandomizedSearchCV(forest_reg, param_distributions=param_distribs,\n",
        "                                n_iter=10, cv=5, scoring='neg_mean_squared_error', random_state=42)\n",
        "rnd_search.fit(sales_train_ts_prep, sales_train_ts_lb)"
      ]
    },
    {
      "cell_type": "code",
      "execution_count": 0,
      "metadata": {
        "colab": {},
        "colab_type": "code",
        "id": "FGh39tqohbx5"
      },
      "outputs": [],
      "source": [
        "cvres = rnd_search.cv_results_\n",
        "for mean_score, params in zip(cvres[\"mean_test_score\"], cvres[\"params\"]):\n",
        "    print(np.sqrt(-mean_score), params)"
      ]
    },
    {
      "cell_type": "markdown",
      "execution_count": null,
      "metadata": {},
      "outputs": [],
      "source": [
        "### Ensemble Methods\n",
        "\n",
        "`next time...`"
      ]
    },
    {
      "cell_type": "markdown",
      "execution_count": null,
      "metadata": {},
      "outputs": [],
      "source": [
        "## Analyze the Best Models and Their Errors\n",
        "\n",
        "`next time...`"
      ]
    },
    {
      "cell_type": "code",
      "execution_count": 0,
      "metadata": {
        "colab": {},
        "colab_type": "code",
        "id": "8j6a_iGrhdKL"
      },
      "outputs": [],
      "source": [
        "# feature_importances = grid_search.best_estimator_.feature_importances_\n",
        "# feature_importances"
      ]
    },
    {
      "cell_type": "code",
      "execution_count": 0,
      "metadata": {
        "colab": {},
        "colab_type": "code",
        "id": "X8tgl_MwhesT"
      },
      "outputs": [],
      "source": [
        "# With this information, I may want to try dropping some of the less useful features\n",
        "\n",
        "# extra_attribs = [\"rooms_per_hhold\", \"pop_per_hhold\", \"bedrooms_per_room\"]\n",
        "# #cat_encoder = cat_pipeline.named_steps[\"cat_encoder\"] # old solution\n",
        "# cat_encoder = full_pipeline.named_transformers_[\"cat\"]\n",
        "# cat_one_hot_attribs = list(cat_encoder.categories_[0])\n",
        "# attributes = num_attribs + extra_attribs + cat_one_hot_attribs\n",
        "# sorted(zip(feature_importances, attributes), reverse=True)"
      ]
    },
    {
      "cell_type": "markdown",
      "execution_count": null,
      "metadata": {},
      "outputs": [],
      "source": [
        "You should also look at the specific errors that your system makes, then try to understand why it makes them and what could fix the problem (adding extra features or, on the contrary, getting rid of uninformative ones, cleaning up outliers, etc.)"
      ]
    },
    {
      "cell_type": "markdown",
      "execution_count": null,
      "metadata": {},
      "outputs": [],
      "source": [
        "## Evaluate the System on the Test Set"
      ]
    },
    {
      "cell_type": "code",
      "execution_count": 23,
      "metadata": {},
      "outputs": [
        {
          "ename": "NameError",
          "evalue": "name 'grid_search' is not defined",
          "output_type": "error",
          "traceback": [
            "\u001b[1;31m---------------------------------------------------------------------------\u001b[0m",
            "\u001b[1;31mNameError\u001b[0m                                 Traceback (most recent call last)",
            "\u001b[1;32m<ipython-input-23-d22b8c496539>\u001b[0m in \u001b[0;36m<module>\u001b[1;34m\u001b[0m\n\u001b[1;32m----> 1\u001b[1;33m \u001b[0mfinal_model\u001b[0m \u001b[1;33m=\u001b[0m \u001b[0mgrid_search\u001b[0m\u001b[1;33m.\u001b[0m\u001b[0mbest_estimator_\u001b[0m\u001b[1;33m\u001b[0m\u001b[0m\n\u001b[0m\u001b[0;32m      2\u001b[0m \u001b[1;33m\u001b[0m\u001b[0m\n\u001b[0;32m      3\u001b[0m \u001b[0mX_test\u001b[0m \u001b[1;33m=\u001b[0m \u001b[0mtest_set\u001b[0m\u001b[1;33m.\u001b[0m\u001b[0mdrop\u001b[0m\u001b[1;33m(\u001b[0m\u001b[1;34m\"item_cnt_month\"\u001b[0m\u001b[1;33m,\u001b[0m \u001b[0maxis\u001b[0m\u001b[1;33m=\u001b[0m\u001b[1;36m1\u001b[0m\u001b[1;33m)\u001b[0m\u001b[1;33m\u001b[0m\u001b[0m\n\u001b[0;32m      4\u001b[0m \u001b[0my_test\u001b[0m \u001b[1;33m=\u001b[0m \u001b[0mtest_set\u001b[0m\u001b[1;33m[\u001b[0m\u001b[1;34m\"item_cnt_month\"\u001b[0m\u001b[1;33m]\u001b[0m\u001b[1;33m.\u001b[0m\u001b[0mcopy\u001b[0m\u001b[1;33m(\u001b[0m\u001b[1;33m)\u001b[0m\u001b[1;33m\u001b[0m\u001b[0m\n\u001b[0;32m      5\u001b[0m \u001b[1;33m\u001b[0m\u001b[0m\n",
            "\u001b[1;31mNameError\u001b[0m: name 'grid_search' is not defined"
          ]
        }
      ],
      "source": [
        "final_model = grid_search.best_estimator_\n",
        "\n",
        "X_test = test_set.drop(\"item_cnt_month\", axis=1)\n",
        "y_test = test_set[\"item_cnt_month\"].copy()\n",
        "\n",
        "X_test_prepared = full_pipeline.transform(X_test)\n",
        "final_predictions = final_model.predict(X_test_prepared)\n",
        "\n",
        "final_mse = mean_squared_error(y_test, final_predictions)\n",
        "final_rmse = np.sqrt(final_mse)"
      ]
    },
    {
      "cell_type": "code",
      "execution_count": 0,
      "metadata": {
        "colab": {},
        "colab_type": "code",
        "id": "8d_Nfiuuhnuu"
      },
      "outputs": [],
      "source": [
        "final_rmse"
      ]
    },
    {
      "cell_type": "code",
      "execution_count": 0,
      "metadata": {
        "colab": {},
        "colab_type": "code",
        "id": "M4jo5itHhodk"
      },
      "outputs": [],
      "source": [
        "# We can compute a 95% confidence interval for the test RMSE:\n",
        "\n",
        "from scipy import stats\n",
        "\n",
        "confidence = 0.95\n",
        "squared_errors = (final_predictions - y_test) ** 2\n",
        "np.sqrt(stats.t.interval(confidence, len(squared_errors) - 1,\n",
        "                         loc=squared_errors.mean(),\n",
        "                         scale=stats.sem(squared_errors)))"
      ]
    },
    {
      "cell_type": "markdown",
      "execution_count": null,
      "metadata": {},
      "outputs": [],
      "source": [
        "> (!) </br>The performance will usually be slightly worse than what you measured using cross-validation if you did a lot of hyperparameter tuning (because your system ends up fine-tuned to perform well on the validation data, and will likely not perform as well on unknown datasets) -- you must **resist the temptation to tweak the hyperparameters** to make the numbers look good on the test set; the improvements would be unlikely to generalize to new data."
      ]
    },
    {
      "cell_type": "code",
      "execution_count": 0,
      "metadata": {
        "colab": {},
        "colab_type": "code",
        "id": "HRdr7J75hvTv"
      },
      "outputs": [],
      "source": [
        "# We could compute the interval manually like this:\n",
        "\n",
        "# m = len(squared_errors)\n",
        "# mean = squared_errors.mean()\n",
        "# tscore = stats.t.ppf((1 + confidence) / 2, df=m - 1)\n",
        "# tmargin = tscore * squared_errors.std(ddof=1) / np.sqrt(m)\n",
        "# np.sqrt(mean - tmargin), np.sqrt(mean + tmargin)"
      ]
    },
    {
      "cell_type": "code",
      "execution_count": 0,
      "metadata": {
        "colab": {},
        "colab_type": "code",
        "id": "i_xYIfzBhyOr"
      },
      "outputs": [],
      "source": [
        "# Alternatively, we could use a z-scores rather than t-scores:\n",
        "\n",
        "# zscore = stats.norm.ppf((1 + confidence) / 2)\n",
        "# zmargin = zscore * squared_errors.std(ddof=1) / np.sqrt(m)\n",
        "# np.sqrt(mean - zmargin), np.sqrt(mean + zmargin)"
      ]
    },
    {
      "cell_type": "markdown",
      "metadata": {
        "colab_type": "text",
        "id": "mq4LbQp9KiNV"
      },
      "source": [
        "---"
      ]
    },
    {
      "cell_type": "markdown",
      "metadata": {
        "colab_type": "text",
        "id": "tSbAF9AHKZKc"
      },
      "source": [
        "---\n",
        "\n",
        "# Misc stuff"
      ]
    },
    {
      "cell_type": "markdown",
      "metadata": {
        "colab_type": "text",
        "id": "ZSpgjAEIIvsb"
      },
      "source": [
        "## The other data from the CSVs"
      ]
    },
    {
      "cell_type": "code",
      "execution_count": 0,
      "metadata": {
        "colab": {},
        "colab_type": "code",
        "id": "6cwjexowIvsc"
      },
      "outputs": [],
      "source": [
        "item_categories = pd.read_csv(os.path.abspath(os.path.join('input', 'item_categories.csv')))\n",
        "items = pd.read_csv(os.path.abspath(os.path.join('input', 'items.csv')))\n",
        "sample_submission = pd.read_csv(os.path.abspath(os.path.join('input', 'sample_submission.csv')))\n",
        "shops = pd.read_csv(os.path.abspath(os.path.join('input', 'shops.csv')))\n",
        "test = pd.read_csv(os.path.abspath(os.path.join('input', 'test.csv')))"
      ]
    },
    {
      "cell_type": "code",
      "execution_count": 0,
      "metadata": {
        "colab": {},
        "colab_type": "code",
        "id": "WFe2k4y6Ivse"
      },
      "outputs": [],
      "source": [
        "item_categories.info()\n",
        "item_categories.describe(include='all')"
      ]
    },
    {
      "cell_type": "code",
      "execution_count": 0,
      "metadata": {
        "colab": {},
        "colab_type": "code",
        "id": "yoj1oLJWIvsg"
      },
      "outputs": [],
      "source": [
        "items.info()\n",
        "items.describe(include='all')"
      ]
    },
    {
      "cell_type": "code",
      "execution_count": 0,
      "metadata": {
        "colab": {},
        "colab_type": "code",
        "id": "hotashVCIvsj"
      },
      "outputs": [],
      "source": [
        "sample_submission.info()\n",
        "sample_submission.describe(include='all')"
      ]
    },
    {
      "cell_type": "code",
      "execution_count": 0,
      "metadata": {
        "colab": {},
        "colab_type": "code",
        "id": "KkIfhMuxIvsn"
      },
      "outputs": [],
      "source": [
        "shops.info()\n",
        "shops.describe(include='all')"
      ]
    },
    {
      "cell_type": "code",
      "execution_count": 0,
      "metadata": {
        "colab": {},
        "colab_type": "code",
        "id": "Il42wrl4Ivsq"
      },
      "outputs": [],
      "source": [
        "test.info()\n",
        "test.describe(include='all')"
      ]
    },
    {
      "cell_type": "markdown",
      "metadata": {
        "colab_type": "text",
        "id": "7vfIAS8biEuf"
      },
      "source": [
        "## A full pipeline with both preparation and prediction"
      ]
    },
    {
      "cell_type": "code",
      "execution_count": 0,
      "metadata": {
        "colab": {},
        "colab_type": "code",
        "id": "6BjskdXuimc5"
      },
      "outputs": [],
      "source": [
        "from sklearn.linear_model import LinearRegression\n",
        "\n",
        "# lin_reg = LinearRegression()\n",
        "# lin_reg.fit(sales_train_ts_prep, sales_train_ts_lb)"
      ]
    },
    {
      "cell_type": "code",
      "execution_count": 0,
      "metadata": {
        "colab": {},
        "colab_type": "code",
        "id": "bE68UjhVidHq"
      },
      "outputs": [],
      "source": [
        "some_data = sales_train_ts_prep.iloc[:5]\n",
        "# some_labels = sales_train_ts_lb.iloc[:5]\n",
        "# some_data_prepared = full_pipeline.transform(some_data)\n",
        "\n",
        "# print(\"Predictions:\", lin_reg.predict(some_data_prepared))"
      ]
    },
    {
      "cell_type": "code",
      "execution_count": 0,
      "metadata": {
        "colab": {},
        "colab_type": "code",
        "id": "5igORhEjiKKm"
      },
      "outputs": [],
      "source": [
        "full_pipeline_with_predictor = Pipeline([\n",
        "        (\"preparation\", full_pipeline),\n",
        "        (\"linear\", LinearRegression())\n",
        "    ])\n",
        "\n",
        "full_pipeline_with_predictor.fit(sales_train_ts_prep, sales_train_ts_lb)\n",
        "full_pipeline_with_predictor.predict(some_data)"
      ]
    },
    {
      "cell_type": "markdown",
      "metadata": {
        "colab_type": "text",
        "id": "ZYNgTX_ji8gi"
      },
      "source": [
        "## Example SciPy distributions for RandomizedSearchCV"
      ]
    },
    {
      "cell_type": "code",
      "execution_count": 0,
      "metadata": {
        "colab": {},
        "colab_type": "code",
        "id": "ANtrOIWgi9dj"
      },
      "outputs": [],
      "source": [
        "from scipy.stats import geom, expon\n",
        "\n",
        "geom_distrib=geom(0.5).rvs(10000, random_state=42)\n",
        "expon_distrib=expon(scale=1).rvs(10000, random_state=42)\n",
        "plt.hist(geom_distrib, bins=50)\n",
        "plt.show()\n",
        "plt.hist(expon_distrib, bins=50)\n",
        "plt.show()"
      ]
    }
  ]
}