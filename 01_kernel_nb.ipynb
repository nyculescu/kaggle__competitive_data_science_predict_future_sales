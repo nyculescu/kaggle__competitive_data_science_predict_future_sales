{
 "nbformat": 4,
 "nbformat_minor": 2,
 "metadata": {
  "language_info": {
   "name": "python",
   "codemirror_mode": {
    "name": "ipython",
    "version": 3
   },
   "version": "3.7.0-final"
  },
  "orig_nbformat": 2,
  "file_extension": ".py",
  "mimetype": "text/x-python",
  "name": "python",
  "npconvert_exporter": "python",
  "pygments_lexer": "ipython3",
  "version": 3,
  "kernelspec": {
   "name": "python37064bitmlenvvirtualenv89d51da7758947d6bdf3bbc1d7425a20",
   "display_name": "Python 3.7.0 64-bit ('ml_env': virtualenv)"
  }
 },
 "cells": [
  {
   "cell_type": "code",
   "execution_count": null,
   "metadata": {},
   "outputs": [],
   "source": [
    "# This Python 3 environment comes with many helpful analytics libraries installed\n",
    "# It is defined by the kaggle/python docker image: https://github.com/kaggle/docker-python\n",
    "# For example, here's several helpful packages to load in \n",
    "\n",
    "import numpy as np # linear algebra\n",
    "import pandas as pd # data processing, CSV file I/O (e.g. pd.read_csv)\n",
    "\n",
    "# Input data files are available in the \"../input/\" directory.\n",
    "# For example, running this (by clicking run or pressing Shift+Enter) will list all files under the input directory\n",
    "\n",
    "import os\n",
    "for dirname, _, filenames in os.walk('input'):\n",
    "    for filename in filenames:\n",
    "        print(os.path.join(dirname, filename))\n",
    "\n",
    "# Any results you write to the current directory are saved as output."
   ]
  },
  {
   "cell_type": "markdown",
   "execution_count": null,
   "metadata": {},
   "outputs": [],
   "source": [
    "# Frame the problem and look at the big picture"
   ]
  },
  {
   "cell_type": "markdown",
   "execution_count": null,
   "metadata": {},
   "outputs": [],
   "source": [
    "## What needs to be done?\n",
    "The task is to forecast the total amount of products sold in every shop for the test set.\n",
    "\n",
    "! Note that the list of shops and products slightly changes every month.\n",
    "\n",
    "### The big picture\n",
    "* typical supervised learning task - we have the labeled training examples\n",
    "* typical regression task - we're asked to predict a value\n",
    "    * multiple regression problem (value prediction) - the system will use multiple features to make a prediction\n",
    "    * also univariate regression problem - we're only trying to predict a single value (*total amount of products sold*) in every *shop*\n",
    "* plain batch learning - we don't have a continuous flow of data coming to the system - the data doesn't need to be adjusted rapidly, and the data is small enoug to fit in memory (`is it so?`)"
   ]
  },
  {
   "cell_type": "code",
   "execution_count": 3,
   "metadata": {},
   "outputs": [
    {
     "name": "stdout",
     "output_type": "stream",
     "text": "csv row length: 2935850\nsizeof(row trasnformed into numpy obj): 986445600 in bytes\n"
    }
   ],
   "source": [
    "import os\n",
    "import csv\n",
    "import numpy as np\n",
    "\n",
    "ifile = os.path.abspath(os.path.join('input', 'sales_train.csv'))\n",
    "rows = []\n",
    "with open(ifile) as csvfile:\n",
    "    readCSV = csv.reader(csvfile, delimiter=',')\n",
    "    for row in readCSV:\n",
    "        rows.append(row)\n",
    "\n",
    "# use str() to avoid Exception has occurred: TypeError can only concatenate str (not \"int\") to str\n",
    "print(\"csv row length: \" + str(readCSV.line_num)) \n",
    "print(\"sizeof(row trasnformed into numpy obj): \" + str(np.array(rows).nbytes) + \" in bytes\")"
   ]
  },
  {
   "cell_type": "markdown",
   "execution_count": null,
   "metadata": {},
   "outputs": [],
   "source": [
    "At this run, python takes about 2.4 GB extra RAM"
   ]
  },
  {
   "cell_type": "markdown",
   "execution_count": null,
   "metadata": {},
   "outputs": [],
   "source": [
    "# Get the data"
   ]
  },
  {
   "cell_type": "markdown",
   "execution_count": null,
   "metadata": {},
   "outputs": [],
   "source": [
    "## Input files\n",
    "\n",
    "* shops.csv- supplemental information about the shops -- `61 entries`\n",
    "    * shop_name (e.g., \"СПб ТК \"\"Сенная\"\"\")\n",
    "    * shop_id (e.g., 43)\n",
    "\n",
    "* item_categories.csv  - supplemental information about the items categories -- `85 entries`\n",
    "    * item_category_name (e.g., Кино - DVD)\n",
    "    * item_category_id (e.g., 40)\n",
    "\n",
    "* items.csv - supplemental information about the items/products -- `22.171 entries`\n",
    "    * item_name (e.g., 1812: 4 СЕРИИ (регион))\n",
    "    * item_id (e.g., 97)\n",
    "    * item_category_id (e.g., 40)\n",
    "\n",
    "* sales_train.csv - the training set. Daily historical data from January 2013 to October 2015 -- `2.935.850 entries | 587.170 entries should be allotted to the training set`\n",
    "    * <strike>date (e.g., 23.02.2013)</strike> *I don't see the reason of using this in ML training because we already have date_block_num as an attribute*\n",
    "    * date_block_num (e.g., 1)\n",
    "    * shop_id (e.g., 43) - `shop_id and item_id shall be concatenated to ID`\n",
    "    * item_id (e.g., 97) - `shop_id and item_id shall be concatenated to ID`\n",
    "    * item_price (e.g., 149.0)\n",
    "    * item_cnt_day (e.g., 1.0)\n",
    "\n",
    "* sample_submission.csv - a sample submission file in the correct format -- `214.201 entries`\n",
    "    * ID (e.g., 0)\n",
    "    * item_cnt_month (e.g., 0.5)\n",
    "\n",
    "* test.csv - the test set. You need to forecast the sales for these shops and products for November 2015 -- `214.201 entries`\n",
    "    * ID (e.g., 0)\n",
    "    * shop_id (e.g., 43)\n",
    "    * item_id (e.g., 97)\n",
    "\n",
    "## Data fields\n",
    "* ID - an Id that represents a (Shop, Item) tuple within the test set\n",
    "* shop_id - unique identifier of a shop\n",
    "* item_id - unique identifier of a product\n",
    "* item_category_id - unique identifier of item category\n",
    "* item_cnt_day - number of products sold. You are predicting a monthly amount of this measure\n",
    "* item_price - current price of an item\n",
    "* date - date in format dd/mm/yyyy\n",
    "* date_block_num - a consecutive month number, used for convenience. January 2013 is 0, February 2013 is 1,..., October 2015 is 33\n",
    "* item_name - name of item\n",
    "* shop_name - name of shop\n",
    "* item_category_name - name of item category"
   ]
  },
  {
   "cell_type": "code",
   "execution_count": null,
   "metadata": {},
   "outputs": [],
   "source": []
  },
  {
   "cell_type": "markdown",
   "execution_count": null,
   "metadata": {},
   "outputs": [],
   "source": [
    "# Model"
   ]
  },
  {
   "cell_type": "markdown",
   "execution_count": null,
   "metadata": {},
   "outputs": [],
   "source": [
    "tbd"
   ]
  }
 ]
}